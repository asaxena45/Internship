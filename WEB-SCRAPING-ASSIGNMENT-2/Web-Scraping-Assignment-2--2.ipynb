{
 "cells": [
  {
   "cell_type": "markdown",
   "metadata": {},
   "source": [
    "Q1: Write a python program to scrape data for “Data Analyst” Job position in \n",
    "“Bangalore” location. You have to scrape the job-title, job-location, company_name,\n",
    "experience_required. You have to scrape first 10 jobs data.\n",
    "This task will be done in following steps:\n",
    "1. first get the webpage https://www.naukri.com/\n",
    "2. Enter “Data Analyst” in “Skill,Designations,Companies” field and enter “Bangalore” \n",
    "in “enter the location” field.\n",
    "3. Then click the search button.\n",
    "4. Then scrape the data for the first 10 jobs results you get.\n",
    "5. Finally create a dataframe of the scraped data.\n",
    "Note- All of the above steps have to be done in code. No step is to be done manually."
   ]
  },
  {
   "cell_type": "code",
   "execution_count": 12,
   "metadata": {},
   "outputs": [
    {
     "name": "stdout",
     "output_type": "stream",
     "text": [
      "Requirement already satisfied: selenium in c:\\users\\hp\\anaconda3\\lib\\site-packages (3.141.0)\n",
      "Requirement already satisfied: urllib3 in c:\\users\\hp\\anaconda3\\lib\\site-packages (from selenium) (1.25.11)\n",
      "Collecting undetected-chromedriver"
     ]
    },
    {
     "name": "stderr",
     "output_type": "stream",
     "text": [
      "ERROR: After October 2020 you may experience errors when installing or updating packages. This is because pip will change the way that it resolves dependency conflicts.\n",
      "\n",
      "We recommend you use --use-feature=2020-resolver to test your packages with the new resolver before it becomes the default.\n",
      "\n",
      "requests 2.24.0 requires urllib3!=1.25.0,!=1.25.1,<1.26,>=1.21.1, but you'll have urllib3 1.26.6 which is incompatible.\n"
     ]
    },
    {
     "name": "stdout",
     "output_type": "stream",
     "text": [
      "\n",
      "  Downloading undetected-chromedriver-3.0.3.tar.gz (42 kB)\n",
      "Collecting selenium==4.0.0b4\n",
      "  Downloading selenium-4.0.0.b4-py3-none-any.whl (1.1 MB)\n",
      "Requirement already satisfied: requests in c:\\users\\hp\\anaconda3\\lib\\site-packages (from undetected-chromedriver) (2.24.0)\n",
      "Collecting websockets\n",
      "  Downloading websockets-10.0-cp38-cp38-win_amd64.whl (96 kB)\n",
      "Collecting trio-websocket~=0.9\n",
      "  Downloading trio_websocket-0.9.2-py3-none-any.whl (16 kB)\n",
      "Collecting trio~=0.17\n",
      "  Downloading trio-0.19.0-py3-none-any.whl (356 kB)\n",
      "Collecting urllib3[secure]~=1.26\n",
      "  Downloading urllib3-1.26.6-py2.py3-none-any.whl (138 kB)\n",
      "Requirement already satisfied: chardet<4,>=3.0.2 in c:\\users\\hp\\anaconda3\\lib\\site-packages (from requests->undetected-chromedriver) (3.0.4)\n",
      "Requirement already satisfied: idna<3,>=2.5 in c:\\users\\hp\\anaconda3\\lib\\site-packages (from requests->undetected-chromedriver) (2.10)\n",
      "Requirement already satisfied: certifi>=2017.4.17 in c:\\users\\hp\\anaconda3\\lib\\site-packages (from requests->undetected-chromedriver) (2020.6.20)\n",
      "Collecting wsproto>=0.14\n",
      "  Downloading wsproto-1.0.0-py3-none-any.whl (24 kB)\n",
      "Requirement already satisfied: async-generator>=1.10 in c:\\users\\hp\\anaconda3\\lib\\site-packages (from trio-websocket~=0.9->selenium==4.0.0b4->undetected-chromedriver) (1.10)\n",
      "Requirement already satisfied: sortedcontainers in c:\\users\\hp\\anaconda3\\lib\\site-packages (from trio~=0.17->selenium==4.0.0b4->undetected-chromedriver) (2.2.2)\n",
      "Requirement already satisfied: attrs>=19.2.0 in c:\\users\\hp\\anaconda3\\lib\\site-packages (from trio~=0.17->selenium==4.0.0b4->undetected-chromedriver) (20.3.0)\n",
      "Requirement already satisfied: cffi>=1.14; os_name == \"nt\" and implementation_name != \"pypy\" in c:\\users\\hp\\anaconda3\\lib\\site-packages (from trio~=0.17->selenium==4.0.0b4->undetected-chromedriver) (1.14.3)\n",
      "Collecting sniffio\n",
      "  Downloading sniffio-1.2.0-py3-none-any.whl (10 kB)\n",
      "Collecting outcome\n",
      "  Downloading outcome-1.1.0-py2.py3-none-any.whl (9.7 kB)\n",
      "Requirement already satisfied: pyOpenSSL>=0.14; extra == \"secure\" in c:\\users\\hp\\anaconda3\\lib\\site-packages (from urllib3[secure]~=1.26->selenium==4.0.0b4->undetected-chromedriver) (19.1.0)\n",
      "Requirement already satisfied: cryptography>=1.3.4; extra == \"secure\" in c:\\users\\hp\\anaconda3\\lib\\site-packages (from urllib3[secure]~=1.26->selenium==4.0.0b4->undetected-chromedriver) (3.1.1)\n",
      "Collecting h11<1,>=0.9.0\n",
      "  Downloading h11-0.12.0-py3-none-any.whl (54 kB)\n",
      "Requirement already satisfied: pycparser in c:\\users\\hp\\anaconda3\\lib\\site-packages (from cffi>=1.14; os_name == \"nt\" and implementation_name != \"pypy\"->trio~=0.17->selenium==4.0.0b4->undetected-chromedriver) (2.20)\n",
      "Requirement already satisfied: six>=1.5.2 in c:\\users\\hp\\anaconda3\\lib\\site-packages (from pyOpenSSL>=0.14; extra == \"secure\"->urllib3[secure]~=1.26->selenium==4.0.0b4->undetected-chromedriver) (1.15.0)\n",
      "Building wheels for collected packages: undetected-chromedriver\n",
      "  Building wheel for undetected-chromedriver (setup.py): started\n",
      "  Building wheel for undetected-chromedriver (setup.py): finished with status 'done'\n",
      "  Created wheel for undetected-chromedriver: filename=undetected_chromedriver-3.0.3-py3-none-any.whl size=31459 sha256=9f39da95a8ab474c8472b25b9a0cc1496ae46bd507869a7e8b42faeb7ef0ff08\n",
      "  Stored in directory: c:\\users\\hp\\appdata\\local\\pip\\cache\\wheels\\a3\\a9\\c1\\e6ca4d330d675cfc275209b3397bd92d38682b780ed69fa553\n",
      "Successfully built undetected-chromedriver\n",
      "Installing collected packages: h11, wsproto, sniffio, outcome, trio, trio-websocket, urllib3, selenium, websockets, undetected-chromedriver\n",
      "  Attempting uninstall: urllib3\n",
      "    Found existing installation: urllib3 1.25.11\n",
      "    Uninstalling urllib3-1.25.11:\n",
      "      Successfully uninstalled urllib3-1.25.11\n",
      "  Attempting uninstall: selenium\n",
      "    Found existing installation: selenium 3.141.0\n",
      "    Uninstalling selenium-3.141.0:\n",
      "      Successfully uninstalled selenium-3.141.0\n",
      "Successfully installed h11-0.12.0 outcome-1.1.0 selenium-4.0.0b4 sniffio-1.2.0 trio-0.19.0 trio-websocket-0.9.2 undetected-chromedriver-3.0.3 urllib3-1.26.6 websockets-10.0 wsproto-1.0.0\n"
     ]
    }
   ],
   "source": [
    "!pip install selenium\n",
    "!pip install undetected-chromedriver"
   ]
  },
  {
   "cell_type": "code",
   "execution_count": 13,
   "metadata": {},
   "outputs": [],
   "source": [
    "import selenium\n",
    "import pandas as pd\n",
    "from selenium import webdriver\n",
    "import undetected_chromedriver.v2 as uc"
   ]
  },
  {
   "cell_type": "code",
   "execution_count": 17,
   "metadata": {},
   "outputs": [],
   "source": [
    "driver=uc.Chrome()"
   ]
  },
  {
   "cell_type": "code",
   "execution_count": 19,
   "metadata": {},
   "outputs": [],
   "source": [
    "with driver:\n",
    "    driver.get('https://www.naukri.com/')"
   ]
  },
  {
   "cell_type": "code",
   "execution_count": 20,
   "metadata": {},
   "outputs": [
    {
     "data": {
      "text/plain": [
       "<selenium.webdriver.remote.webelement.WebElement (session=\"d73ec5f77c7221ed70bd5fae948a5253\", element=\"bcdeb05f-c28a-4817-9c38-b36046666b7b\")>"
      ]
     },
     "execution_count": 20,
     "metadata": {},
     "output_type": "execute_result"
    }
   ],
   "source": [
    "search_job=driver.find_element_by_id('qsb-keyword-sugg')\n",
    "search_job"
   ]
  },
  {
   "cell_type": "code",
   "execution_count": 21,
   "metadata": {},
   "outputs": [],
   "source": [
    "search_job.send_keys('Data Analyst')"
   ]
  },
  {
   "cell_type": "code",
   "execution_count": 22,
   "metadata": {},
   "outputs": [],
   "source": [
    "search_loc=driver.find_element_by_id('qsb-location-sugg')\n",
    "search_loc.send_keys('Bangalore')"
   ]
  },
  {
   "cell_type": "code",
   "execution_count": 23,
   "metadata": {},
   "outputs": [
    {
     "data": {
      "text/plain": [
       "<selenium.webdriver.remote.webelement.WebElement (session=\"d73ec5f77c7221ed70bd5fae948a5253\", element=\"dc93a6a4-77e9-4ac7-8843-361aeeb528a1\")>"
      ]
     },
     "execution_count": 23,
     "metadata": {},
     "output_type": "execute_result"
    }
   ],
   "source": [
    "search_btn=driver.find_element_by_xpath(\"//button[@class='btn']\")\n",
    "search_btn"
   ]
  },
  {
   "cell_type": "code",
   "execution_count": 24,
   "metadata": {},
   "outputs": [],
   "source": [
    "search_btn.click()"
   ]
  },
  {
   "cell_type": "code",
   "execution_count": 26,
   "metadata": {},
   "outputs": [
    {
     "data": {
      "text/plain": [
       "[<selenium.webdriver.remote.webelement.WebElement (session=\"d73ec5f77c7221ed70bd5fae948a5253\", element=\"7d730288-ae55-4a3e-9e9d-50d1b08c5185\")>,\n",
       " <selenium.webdriver.remote.webelement.WebElement (session=\"d73ec5f77c7221ed70bd5fae948a5253\", element=\"65e2dfee-0a67-42a1-b6f4-792d9c8fe504\")>,\n",
       " <selenium.webdriver.remote.webelement.WebElement (session=\"d73ec5f77c7221ed70bd5fae948a5253\", element=\"037b023d-2f96-41d3-be9c-ec5e2b22055c\")>,\n",
       " <selenium.webdriver.remote.webelement.WebElement (session=\"d73ec5f77c7221ed70bd5fae948a5253\", element=\"09f56cf9-4974-45f7-a064-281f0c1c4df3\")>,\n",
       " <selenium.webdriver.remote.webelement.WebElement (session=\"d73ec5f77c7221ed70bd5fae948a5253\", element=\"b0cfa13e-d443-44c9-a3c0-eb2e3680d802\")>,\n",
       " <selenium.webdriver.remote.webelement.WebElement (session=\"d73ec5f77c7221ed70bd5fae948a5253\", element=\"62389223-5479-433b-a202-9b3dfaaa3b1e\")>,\n",
       " <selenium.webdriver.remote.webelement.WebElement (session=\"d73ec5f77c7221ed70bd5fae948a5253\", element=\"1b311838-d55e-46a0-8af0-5013e4fcd37d\")>,\n",
       " <selenium.webdriver.remote.webelement.WebElement (session=\"d73ec5f77c7221ed70bd5fae948a5253\", element=\"5dcba9c0-0d92-4a1a-8425-01259e1f0228\")>,\n",
       " <selenium.webdriver.remote.webelement.WebElement (session=\"d73ec5f77c7221ed70bd5fae948a5253\", element=\"737f9be7-238f-4618-928f-8110f923d115\")>,\n",
       " <selenium.webdriver.remote.webelement.WebElement (session=\"d73ec5f77c7221ed70bd5fae948a5253\", element=\"6e355d29-a1e2-46d3-aaf1-bfa93833c60e\")>,\n",
       " <selenium.webdriver.remote.webelement.WebElement (session=\"d73ec5f77c7221ed70bd5fae948a5253\", element=\"dc29f870-4cc9-41eb-9ee6-5eeeb96387fd\")>,\n",
       " <selenium.webdriver.remote.webelement.WebElement (session=\"d73ec5f77c7221ed70bd5fae948a5253\", element=\"46a742ea-84f7-4452-97b7-3043313f2986\")>,\n",
       " <selenium.webdriver.remote.webelement.WebElement (session=\"d73ec5f77c7221ed70bd5fae948a5253\", element=\"33ee9ce1-9436-4033-9028-8a98b9157920\")>,\n",
       " <selenium.webdriver.remote.webelement.WebElement (session=\"d73ec5f77c7221ed70bd5fae948a5253\", element=\"fa44c748-b803-4054-bc8e-7080d91e936e\")>,\n",
       " <selenium.webdriver.remote.webelement.WebElement (session=\"d73ec5f77c7221ed70bd5fae948a5253\", element=\"90f27d48-566c-4d55-b24a-a6b017fc7851\")>,\n",
       " <selenium.webdriver.remote.webelement.WebElement (session=\"d73ec5f77c7221ed70bd5fae948a5253\", element=\"e9467ef7-aa58-48b5-97f8-6b0d1274b4d3\")>,\n",
       " <selenium.webdriver.remote.webelement.WebElement (session=\"d73ec5f77c7221ed70bd5fae948a5253\", element=\"d3720ea1-2a15-4e04-bb7d-db8d58dafbfd\")>,\n",
       " <selenium.webdriver.remote.webelement.WebElement (session=\"d73ec5f77c7221ed70bd5fae948a5253\", element=\"84f80ad3-e913-4bf7-bc59-c02f56e32441\")>,\n",
       " <selenium.webdriver.remote.webelement.WebElement (session=\"d73ec5f77c7221ed70bd5fae948a5253\", element=\"ae71213f-cd45-4150-bdb3-027f243588c1\")>,\n",
       " <selenium.webdriver.remote.webelement.WebElement (session=\"d73ec5f77c7221ed70bd5fae948a5253\", element=\"a52eb038-e09b-470e-af8e-9b74d6ce83d7\")>]"
      ]
     },
     "execution_count": 26,
     "metadata": {},
     "output_type": "execute_result"
    }
   ],
   "source": [
    "titles_tags=driver.find_elements_by_xpath(\"//a[@class='title fw500 ellipsis']\")\n",
    "titles_tags"
   ]
  },
  {
   "cell_type": "code",
   "execution_count": 27,
   "metadata": {},
   "outputs": [
    {
     "data": {
      "text/plain": [
       "['Senior Data Analyst',\n",
       " 'Tcs Hiring For Senior Data Analyst (bfsi domain)',\n",
       " 'Business Data Analyst',\n",
       " 'Business Data Analyst',\n",
       " 'Business Data Analyst - Google Data Studio & SQL',\n",
       " 'Senior Data Analyst',\n",
       " 'Tcs Hiring For MDM (master data management) Data Analyst (bfsi domain)',\n",
       " 'Senior Data Analyst IDAM Services',\n",
       " 'Data Analyst/Sr.Data Engineer',\n",
       " 'SENIOR DATA ANALYST',\n",
       " 'Executive Data Analyst',\n",
       " 'Senior Data Analyst IN4',\n",
       " 'Analyst & Designer - Software - Data Analysis',\n",
       " 'Data Analyst - I/II',\n",
       " 'Systems and Data Analyst, Safety and Provisioning',\n",
       " 'Data Analyst',\n",
       " 'Business Data Analyst - MIS & Reporting',\n",
       " 'Sr Data Analyst',\n",
       " 'Senior Data Analyst',\n",
       " 'Senior Data Analyst']"
      ]
     },
     "execution_count": 27,
     "metadata": {},
     "output_type": "execute_result"
    }
   ],
   "source": [
    "job_titles=[]\n",
    "for i in titles_tags:\n",
    "    job_titles.append(i.text)\n",
    "job_titles"
   ]
  },
  {
   "cell_type": "code",
   "execution_count": 28,
   "metadata": {},
   "outputs": [
    {
     "data": {
      "text/plain": [
       "[<selenium.webdriver.remote.webelement.WebElement (session=\"d73ec5f77c7221ed70bd5fae948a5253\", element=\"27196285-d688-4296-bcd0-06c44877c0c6\")>,\n",
       " <selenium.webdriver.remote.webelement.WebElement (session=\"d73ec5f77c7221ed70bd5fae948a5253\", element=\"60978f10-0db9-406e-937e-cd74c06db443\")>,\n",
       " <selenium.webdriver.remote.webelement.WebElement (session=\"d73ec5f77c7221ed70bd5fae948a5253\", element=\"3467de70-88e1-429c-9388-d0e2ccbd57ae\")>,\n",
       " <selenium.webdriver.remote.webelement.WebElement (session=\"d73ec5f77c7221ed70bd5fae948a5253\", element=\"c712163e-d3f6-4608-b9d6-dab8495b8240\")>,\n",
       " <selenium.webdriver.remote.webelement.WebElement (session=\"d73ec5f77c7221ed70bd5fae948a5253\", element=\"d77b0f45-e916-4b17-84ac-6b074c94a90e\")>,\n",
       " <selenium.webdriver.remote.webelement.WebElement (session=\"d73ec5f77c7221ed70bd5fae948a5253\", element=\"230f444a-06c1-498e-ab36-d78ecf73a6e5\")>,\n",
       " <selenium.webdriver.remote.webelement.WebElement (session=\"d73ec5f77c7221ed70bd5fae948a5253\", element=\"f5d16a6c-c5da-460b-b575-c0cdef35f72f\")>,\n",
       " <selenium.webdriver.remote.webelement.WebElement (session=\"d73ec5f77c7221ed70bd5fae948a5253\", element=\"cf2c5d63-0930-4ad2-8eb0-197438bb51c8\")>,\n",
       " <selenium.webdriver.remote.webelement.WebElement (session=\"d73ec5f77c7221ed70bd5fae948a5253\", element=\"cdcf3644-9173-4dd7-a55b-bece0341822c\")>,\n",
       " <selenium.webdriver.remote.webelement.WebElement (session=\"d73ec5f77c7221ed70bd5fae948a5253\", element=\"24e82414-1f0f-4025-9a81-79cbcbb8b621\")>,\n",
       " <selenium.webdriver.remote.webelement.WebElement (session=\"d73ec5f77c7221ed70bd5fae948a5253\", element=\"0a440a0e-4084-4424-8f99-9da4ae8f4dd6\")>,\n",
       " <selenium.webdriver.remote.webelement.WebElement (session=\"d73ec5f77c7221ed70bd5fae948a5253\", element=\"b6af7672-8876-4b05-a299-451a84c21838\")>,\n",
       " <selenium.webdriver.remote.webelement.WebElement (session=\"d73ec5f77c7221ed70bd5fae948a5253\", element=\"6224f5bc-15e4-4926-ace3-24a664b490cb\")>,\n",
       " <selenium.webdriver.remote.webelement.WebElement (session=\"d73ec5f77c7221ed70bd5fae948a5253\", element=\"38dfc8e6-8f07-40d2-89c1-2947e165007a\")>,\n",
       " <selenium.webdriver.remote.webelement.WebElement (session=\"d73ec5f77c7221ed70bd5fae948a5253\", element=\"eebef50b-ccef-48f1-b558-a261113f15bb\")>,\n",
       " <selenium.webdriver.remote.webelement.WebElement (session=\"d73ec5f77c7221ed70bd5fae948a5253\", element=\"5c4aa180-3373-4b8d-82f3-fd73ba161d46\")>,\n",
       " <selenium.webdriver.remote.webelement.WebElement (session=\"d73ec5f77c7221ed70bd5fae948a5253\", element=\"2ad9addc-a47d-4421-9ac8-a15ee507d551\")>,\n",
       " <selenium.webdriver.remote.webelement.WebElement (session=\"d73ec5f77c7221ed70bd5fae948a5253\", element=\"51c04c47-7f22-49bf-a1ed-8882f5320552\")>,\n",
       " <selenium.webdriver.remote.webelement.WebElement (session=\"d73ec5f77c7221ed70bd5fae948a5253\", element=\"f43c1cc7-c03f-48d4-8c95-a385ff628c87\")>,\n",
       " <selenium.webdriver.remote.webelement.WebElement (session=\"d73ec5f77c7221ed70bd5fae948a5253\", element=\"ba1a3d34-d1f6-4097-868d-8ba7c7758f36\")>]"
      ]
     },
     "execution_count": 28,
     "metadata": {},
     "output_type": "execute_result"
    }
   ],
   "source": [
    "companies_tags=driver.find_elements_by_xpath(\"//a[@class='subTitle ellipsis fleft']\")\n",
    "companies_tags"
   ]
  },
  {
   "cell_type": "code",
   "execution_count": 29,
   "metadata": {},
   "outputs": [
    {
     "data": {
      "text/plain": [
       "['Gaussian Networks Private Limited',\n",
       " 'Tata Consultancy Services Ltd.',\n",
       " 'Trigent Software',\n",
       " 'Trigent Software',\n",
       " 'AVE-Promagne',\n",
       " 'Virtusa Consulting Services Pvt Ltd',\n",
       " 'Tata Consultancy Services Ltd.',\n",
       " 'GlaxoSmithKline Pharmaceuticals Limited',\n",
       " 'SYREN TECHNOLOGIES PRIVATE LIMITED',\n",
       " 'McAfee Software (India) Pvt. Ltd',\n",
       " 'Gokaldas Exports Ltd',\n",
       " 'Walmart Labs',\n",
       " 'HyreFox Consultants Pvt Ltd',\n",
       " 'Philips India Limited',\n",
       " 'AECOM India Private Limited',\n",
       " 'IBM India Pvt. Limited',\n",
       " 'INTERTRUST GROUP',\n",
       " 'Empower Retirement',\n",
       " 'Flipkart',\n",
       " 'Flipkart']"
      ]
     },
     "execution_count": 29,
     "metadata": {},
     "output_type": "execute_result"
    }
   ],
   "source": [
    "company_names=[]\n",
    "for i in companies_tags:\n",
    "    company_names.append(i.text)\n",
    "company_names"
   ]
  },
  {
   "cell_type": "code",
   "execution_count": 30,
   "metadata": {},
   "outputs": [
    {
     "data": {
      "text/plain": [
       "[<selenium.webdriver.remote.webelement.WebElement (session=\"d73ec5f77c7221ed70bd5fae948a5253\", element=\"cbeda168-f9fa-43f0-8efd-21ad74c80f87\")>,\n",
       " <selenium.webdriver.remote.webelement.WebElement (session=\"d73ec5f77c7221ed70bd5fae948a5253\", element=\"6612e366-11d8-49a8-b4c1-61db99cb01e6\")>,\n",
       " <selenium.webdriver.remote.webelement.WebElement (session=\"d73ec5f77c7221ed70bd5fae948a5253\", element=\"8dcf1cc1-443f-4d43-9477-0d73bcfbe554\")>,\n",
       " <selenium.webdriver.remote.webelement.WebElement (session=\"d73ec5f77c7221ed70bd5fae948a5253\", element=\"7bcf074c-c01b-4ff7-8a5c-40181abc7dfc\")>,\n",
       " <selenium.webdriver.remote.webelement.WebElement (session=\"d73ec5f77c7221ed70bd5fae948a5253\", element=\"f21d6f93-d41f-45b6-a68e-874ef99a3886\")>,\n",
       " <selenium.webdriver.remote.webelement.WebElement (session=\"d73ec5f77c7221ed70bd5fae948a5253\", element=\"dff94931-2e8d-4cfc-93be-d8556f497a66\")>,\n",
       " <selenium.webdriver.remote.webelement.WebElement (session=\"d73ec5f77c7221ed70bd5fae948a5253\", element=\"6e1774c4-b6de-4020-8d79-9c74007aea32\")>,\n",
       " <selenium.webdriver.remote.webelement.WebElement (session=\"d73ec5f77c7221ed70bd5fae948a5253\", element=\"53be6f3c-51a3-4409-9db8-1af04ce04bd4\")>,\n",
       " <selenium.webdriver.remote.webelement.WebElement (session=\"d73ec5f77c7221ed70bd5fae948a5253\", element=\"1b759140-9ddb-42f9-a336-908e08652bef\")>,\n",
       " <selenium.webdriver.remote.webelement.WebElement (session=\"d73ec5f77c7221ed70bd5fae948a5253\", element=\"840eb363-ecb2-422d-b739-96edd8d3e7a5\")>,\n",
       " <selenium.webdriver.remote.webelement.WebElement (session=\"d73ec5f77c7221ed70bd5fae948a5253\", element=\"981535cf-2d79-4393-9913-bb0d7974b795\")>,\n",
       " <selenium.webdriver.remote.webelement.WebElement (session=\"d73ec5f77c7221ed70bd5fae948a5253\", element=\"7a93a32e-cd59-40e1-a672-3b8bc5445030\")>,\n",
       " <selenium.webdriver.remote.webelement.WebElement (session=\"d73ec5f77c7221ed70bd5fae948a5253\", element=\"2c217c18-c74c-436c-888b-5a474603651b\")>,\n",
       " <selenium.webdriver.remote.webelement.WebElement (session=\"d73ec5f77c7221ed70bd5fae948a5253\", element=\"a8d493e2-34f9-47b6-98d5-dc6327c81b12\")>,\n",
       " <selenium.webdriver.remote.webelement.WebElement (session=\"d73ec5f77c7221ed70bd5fae948a5253\", element=\"e6910b37-f127-4bb2-997d-6c57a202ae60\")>,\n",
       " <selenium.webdriver.remote.webelement.WebElement (session=\"d73ec5f77c7221ed70bd5fae948a5253\", element=\"744b022e-16a7-4c74-8108-752a96ab523c\")>,\n",
       " <selenium.webdriver.remote.webelement.WebElement (session=\"d73ec5f77c7221ed70bd5fae948a5253\", element=\"ba21216f-4dfc-458c-bc9e-d79e5ba23b75\")>,\n",
       " <selenium.webdriver.remote.webelement.WebElement (session=\"d73ec5f77c7221ed70bd5fae948a5253\", element=\"376a8116-d398-4258-afeb-a70ea4c1ef97\")>,\n",
       " <selenium.webdriver.remote.webelement.WebElement (session=\"d73ec5f77c7221ed70bd5fae948a5253\", element=\"8e43a8bd-b192-400f-ba1b-89bdbad02279\")>,\n",
       " <selenium.webdriver.remote.webelement.WebElement (session=\"d73ec5f77c7221ed70bd5fae948a5253\", element=\"37b20ec8-b33b-4834-b144-c190cfbb3bbd\")>]"
      ]
     },
     "execution_count": 30,
     "metadata": {},
     "output_type": "execute_result"
    }
   ],
   "source": [
    "experience_tags=driver.find_elements_by_xpath(\"//li[@class='fleft grey-text br2 placeHolderLi experience']//span\")\n",
    "experience_tags"
   ]
  },
  {
   "cell_type": "code",
   "execution_count": 31,
   "metadata": {},
   "outputs": [
    {
     "data": {
      "text/plain": [
       "['3-5 Yrs',\n",
       " '6-11 Yrs',\n",
       " '5-10 Yrs',\n",
       " '5-10 Yrs',\n",
       " '3-8 Yrs',\n",
       " '8-12 Yrs',\n",
       " '6-11 Yrs',\n",
       " '4-8 Yrs',\n",
       " '4-9 Yrs',\n",
       " '6-8 Yrs',\n",
       " '0-3 Yrs',\n",
       " '8-10 Yrs',\n",
       " '5-7 Yrs',\n",
       " '3-6 Yrs',\n",
       " '2-7 Yrs',\n",
       " '1-4 Yrs',\n",
       " '3-8 Yrs',\n",
       " '5-8 Yrs',\n",
       " '2-3 Yrs',\n",
       " '3-8 Yrs']"
      ]
     },
     "execution_count": 31,
     "metadata": {},
     "output_type": "execute_result"
    }
   ],
   "source": [
    "experience_required=[]\n",
    "for i in experience_tags:\n",
    "    experience_required.append(i.text)\n",
    "experience_required"
   ]
  },
  {
   "cell_type": "code",
   "execution_count": 32,
   "metadata": {},
   "outputs": [
    {
     "data": {
      "text/plain": [
       "[<selenium.webdriver.remote.webelement.WebElement (session=\"d73ec5f77c7221ed70bd5fae948a5253\", element=\"70dcceee-4add-42e4-8db5-76d7f18d20b0\")>,\n",
       " <selenium.webdriver.remote.webelement.WebElement (session=\"d73ec5f77c7221ed70bd5fae948a5253\", element=\"2bd21d0e-d8eb-4ff7-a134-9b0c05a3bdfb\")>,\n",
       " <selenium.webdriver.remote.webelement.WebElement (session=\"d73ec5f77c7221ed70bd5fae948a5253\", element=\"99a68c79-98eb-4ded-88f3-a877fcba1f95\")>,\n",
       " <selenium.webdriver.remote.webelement.WebElement (session=\"d73ec5f77c7221ed70bd5fae948a5253\", element=\"586f19a2-4fbf-42a3-8d44-c6b720015e68\")>,\n",
       " <selenium.webdriver.remote.webelement.WebElement (session=\"d73ec5f77c7221ed70bd5fae948a5253\", element=\"7ff669fc-e589-42f9-9c9f-26c83f535482\")>,\n",
       " <selenium.webdriver.remote.webelement.WebElement (session=\"d73ec5f77c7221ed70bd5fae948a5253\", element=\"a2b6efbb-a37e-4fa5-a7b0-46e62265e7db\")>,\n",
       " <selenium.webdriver.remote.webelement.WebElement (session=\"d73ec5f77c7221ed70bd5fae948a5253\", element=\"2c6b681a-fd08-48a8-a0e5-528457ffd289\")>,\n",
       " <selenium.webdriver.remote.webelement.WebElement (session=\"d73ec5f77c7221ed70bd5fae948a5253\", element=\"5d9c0c85-299d-4ff3-83f8-3541003899c8\")>,\n",
       " <selenium.webdriver.remote.webelement.WebElement (session=\"d73ec5f77c7221ed70bd5fae948a5253\", element=\"02b28733-4cb5-4b3a-8cad-6b93f1e774aa\")>,\n",
       " <selenium.webdriver.remote.webelement.WebElement (session=\"d73ec5f77c7221ed70bd5fae948a5253\", element=\"e94b7152-81b5-4202-a279-2c0b37a72225\")>,\n",
       " <selenium.webdriver.remote.webelement.WebElement (session=\"d73ec5f77c7221ed70bd5fae948a5253\", element=\"e04e2151-e935-46f9-970b-ab6038f95e71\")>,\n",
       " <selenium.webdriver.remote.webelement.WebElement (session=\"d73ec5f77c7221ed70bd5fae948a5253\", element=\"f7a8182e-6cec-4d80-9d26-bb70b2faf29b\")>,\n",
       " <selenium.webdriver.remote.webelement.WebElement (session=\"d73ec5f77c7221ed70bd5fae948a5253\", element=\"c7f13012-045f-4c8c-935e-f4e596ec7f8a\")>,\n",
       " <selenium.webdriver.remote.webelement.WebElement (session=\"d73ec5f77c7221ed70bd5fae948a5253\", element=\"755ce51f-b871-4eab-ad0f-83ef6fbb0a96\")>,\n",
       " <selenium.webdriver.remote.webelement.WebElement (session=\"d73ec5f77c7221ed70bd5fae948a5253\", element=\"89654d7b-15c9-4ff6-abd2-0220fda0e73c\")>,\n",
       " <selenium.webdriver.remote.webelement.WebElement (session=\"d73ec5f77c7221ed70bd5fae948a5253\", element=\"a8f7966b-1d1c-466f-a1f6-a429e33b2705\")>,\n",
       " <selenium.webdriver.remote.webelement.WebElement (session=\"d73ec5f77c7221ed70bd5fae948a5253\", element=\"e8a2461b-107f-45d7-a2bd-c459fe8ddc00\")>,\n",
       " <selenium.webdriver.remote.webelement.WebElement (session=\"d73ec5f77c7221ed70bd5fae948a5253\", element=\"61682bb2-ce13-4cd9-b243-6977cd1f2e7d\")>,\n",
       " <selenium.webdriver.remote.webelement.WebElement (session=\"d73ec5f77c7221ed70bd5fae948a5253\", element=\"8ba05b3c-4bb6-4e0b-9e43-c15092a76352\")>,\n",
       " <selenium.webdriver.remote.webelement.WebElement (session=\"d73ec5f77c7221ed70bd5fae948a5253\", element=\"5ee649e7-4149-454e-8626-57837b50fcaf\")>]"
      ]
     },
     "execution_count": 32,
     "metadata": {},
     "output_type": "execute_result"
    }
   ],
   "source": [
    "locations_tags=driver.find_elements_by_xpath(\"//li[@class='fleft grey-text br2 placeHolderLi location']//span[1]\")\n",
    "locations_tags"
   ]
  },
  {
   "cell_type": "code",
   "execution_count": 33,
   "metadata": {},
   "outputs": [
    {
     "data": {
      "text/plain": [
       "['Gurgaon/Gurugram, Bangalore/Bengaluru',\n",
       " 'Chennai, Bangalore/Bengaluru',\n",
       " 'Bangalore/Bengaluru',\n",
       " 'Bangalore/Bengaluru',\n",
       " 'Bangalore/Bengaluru',\n",
       " 'Hyderabad/Secunderabad, Pune, Gurgaon/Gurugram, Chennai, Bangalore/Bengaluru, Mumbai (All Areas)',\n",
       " 'Chennai, Bangalore/Bengaluru',\n",
       " 'Bangalore/Bengaluru',\n",
       " 'Hyderabad/Secunderabad, Chennai, Bangalore/Bengaluru',\n",
       " 'Bangalore/Bengaluru',\n",
       " 'Bangalore/Bengaluru',\n",
       " 'Bangalore/Bengaluru',\n",
       " 'Bangalore/Bengaluru',\n",
       " 'Bangalore/Bengaluru',\n",
       " 'Bangalore/Bengaluru',\n",
       " 'Bengaluru/Bangalore',\n",
       " 'Mumbai, Bangalore/Bengaluru',\n",
       " 'Bangalore/Bengaluru',\n",
       " 'Bangalore/Bengaluru',\n",
       " 'Bangalore/Bengaluru']"
      ]
     },
     "execution_count": 33,
     "metadata": {},
     "output_type": "execute_result"
    }
   ],
   "source": [
    "job_locations=[]\n",
    "for i in locations_tags:\n",
    "    job_locations.append(i.text)\n",
    "job_locations"
   ]
  },
  {
   "cell_type": "code",
   "execution_count": 34,
   "metadata": {},
   "outputs": [
    {
     "name": "stdout",
     "output_type": "stream",
     "text": [
      "20 20 20 20\n"
     ]
    }
   ],
   "source": [
    "print(len(job_titles),len(company_names),len(experience_required),len(job_locations))"
   ]
  },
  {
   "cell_type": "code",
   "execution_count": 35,
   "metadata": {},
   "outputs": [
    {
     "data": {
      "text/html": [
       "<div>\n",
       "<style scoped>\n",
       "    .dataframe tbody tr th:only-of-type {\n",
       "        vertical-align: middle;\n",
       "    }\n",
       "\n",
       "    .dataframe tbody tr th {\n",
       "        vertical-align: top;\n",
       "    }\n",
       "\n",
       "    .dataframe thead th {\n",
       "        text-align: right;\n",
       "    }\n",
       "</style>\n",
       "<table border=\"1\" class=\"dataframe\">\n",
       "  <thead>\n",
       "    <tr style=\"text-align: right;\">\n",
       "      <th></th>\n",
       "      <th>job_titles</th>\n",
       "      <th>company_names</th>\n",
       "      <th>experience_required</th>\n",
       "      <th>job_locations</th>\n",
       "    </tr>\n",
       "  </thead>\n",
       "  <tbody>\n",
       "    <tr>\n",
       "      <th>0</th>\n",
       "      <td>Senior Data Analyst</td>\n",
       "      <td>Gaussian Networks Private Limited</td>\n",
       "      <td>3-5 Yrs</td>\n",
       "      <td>Gurgaon/Gurugram, Bangalore/Bengaluru</td>\n",
       "    </tr>\n",
       "    <tr>\n",
       "      <th>1</th>\n",
       "      <td>Tcs Hiring For Senior Data Analyst (bfsi domain)</td>\n",
       "      <td>Tata Consultancy Services Ltd.</td>\n",
       "      <td>6-11 Yrs</td>\n",
       "      <td>Chennai, Bangalore/Bengaluru</td>\n",
       "    </tr>\n",
       "    <tr>\n",
       "      <th>2</th>\n",
       "      <td>Business Data Analyst</td>\n",
       "      <td>Trigent Software</td>\n",
       "      <td>5-10 Yrs</td>\n",
       "      <td>Bangalore/Bengaluru</td>\n",
       "    </tr>\n",
       "    <tr>\n",
       "      <th>3</th>\n",
       "      <td>Business Data Analyst</td>\n",
       "      <td>Trigent Software</td>\n",
       "      <td>5-10 Yrs</td>\n",
       "      <td>Bangalore/Bengaluru</td>\n",
       "    </tr>\n",
       "    <tr>\n",
       "      <th>4</th>\n",
       "      <td>Business Data Analyst - Google Data Studio &amp; SQL</td>\n",
       "      <td>AVE-Promagne</td>\n",
       "      <td>3-8 Yrs</td>\n",
       "      <td>Bangalore/Bengaluru</td>\n",
       "    </tr>\n",
       "    <tr>\n",
       "      <th>5</th>\n",
       "      <td>Senior Data Analyst</td>\n",
       "      <td>Virtusa Consulting Services Pvt Ltd</td>\n",
       "      <td>8-12 Yrs</td>\n",
       "      <td>Hyderabad/Secunderabad, Pune, Gurgaon/Gurugram...</td>\n",
       "    </tr>\n",
       "    <tr>\n",
       "      <th>6</th>\n",
       "      <td>Tcs Hiring For MDM (master data management) Da...</td>\n",
       "      <td>Tata Consultancy Services Ltd.</td>\n",
       "      <td>6-11 Yrs</td>\n",
       "      <td>Chennai, Bangalore/Bengaluru</td>\n",
       "    </tr>\n",
       "    <tr>\n",
       "      <th>7</th>\n",
       "      <td>Senior Data Analyst IDAM Services</td>\n",
       "      <td>GlaxoSmithKline Pharmaceuticals Limited</td>\n",
       "      <td>4-8 Yrs</td>\n",
       "      <td>Bangalore/Bengaluru</td>\n",
       "    </tr>\n",
       "    <tr>\n",
       "      <th>8</th>\n",
       "      <td>Data Analyst/Sr.Data Engineer</td>\n",
       "      <td>SYREN TECHNOLOGIES PRIVATE LIMITED</td>\n",
       "      <td>4-9 Yrs</td>\n",
       "      <td>Hyderabad/Secunderabad, Chennai, Bangalore/Ben...</td>\n",
       "    </tr>\n",
       "    <tr>\n",
       "      <th>9</th>\n",
       "      <td>SENIOR DATA ANALYST</td>\n",
       "      <td>McAfee Software (India) Pvt. Ltd</td>\n",
       "      <td>6-8 Yrs</td>\n",
       "      <td>Bangalore/Bengaluru</td>\n",
       "    </tr>\n",
       "  </tbody>\n",
       "</table>\n",
       "</div>"
      ],
      "text/plain": [
       "                                          job_titles  \\\n",
       "0                                Senior Data Analyst   \n",
       "1   Tcs Hiring For Senior Data Analyst (bfsi domain)   \n",
       "2                              Business Data Analyst   \n",
       "3                              Business Data Analyst   \n",
       "4   Business Data Analyst - Google Data Studio & SQL   \n",
       "5                                Senior Data Analyst   \n",
       "6  Tcs Hiring For MDM (master data management) Da...   \n",
       "7                  Senior Data Analyst IDAM Services   \n",
       "8                      Data Analyst/Sr.Data Engineer   \n",
       "9                                SENIOR DATA ANALYST   \n",
       "\n",
       "                             company_names experience_required  \\\n",
       "0        Gaussian Networks Private Limited             3-5 Yrs   \n",
       "1           Tata Consultancy Services Ltd.            6-11 Yrs   \n",
       "2                         Trigent Software            5-10 Yrs   \n",
       "3                         Trigent Software            5-10 Yrs   \n",
       "4                             AVE-Promagne             3-8 Yrs   \n",
       "5      Virtusa Consulting Services Pvt Ltd            8-12 Yrs   \n",
       "6           Tata Consultancy Services Ltd.            6-11 Yrs   \n",
       "7  GlaxoSmithKline Pharmaceuticals Limited             4-8 Yrs   \n",
       "8       SYREN TECHNOLOGIES PRIVATE LIMITED             4-9 Yrs   \n",
       "9         McAfee Software (India) Pvt. Ltd             6-8 Yrs   \n",
       "\n",
       "                                       job_locations  \n",
       "0              Gurgaon/Gurugram, Bangalore/Bengaluru  \n",
       "1                       Chennai, Bangalore/Bengaluru  \n",
       "2                                Bangalore/Bengaluru  \n",
       "3                                Bangalore/Bengaluru  \n",
       "4                                Bangalore/Bengaluru  \n",
       "5  Hyderabad/Secunderabad, Pune, Gurgaon/Gurugram...  \n",
       "6                       Chennai, Bangalore/Bengaluru  \n",
       "7                                Bangalore/Bengaluru  \n",
       "8  Hyderabad/Secunderabad, Chennai, Bangalore/Ben...  \n",
       "9                                Bangalore/Bengaluru  "
      ]
     },
     "execution_count": 35,
     "metadata": {},
     "output_type": "execute_result"
    }
   ],
   "source": [
    "jobs=pd.DataFrame()\n",
    "jobs['job_titles']=job_titles[0:10]\n",
    "jobs['company_names']=company_names[0:10]\n",
    "jobs['experience_required']=experience_required[0:10]\n",
    "jobs['job_locations']=job_locations[0:10]\n",
    "jobs"
   ]
  },
  {
   "cell_type": "markdown",
   "metadata": {},
   "source": [
    "Q2: Write a python program to scrape data for “Data Scientist” Job position in \n",
    "“Bangalore” location. You have to scrape the job-title, job-location,\n",
    "company_name, full job-description. You have to scrape first 10 jobs data.\n",
    "This task will be done in following steps:\n",
    "1. first get the webpage https://www.naukri.com/\n",
    "2. Enter “Data Scientist” in “Skill,Designations,Companies” field and enter \n",
    "“Bangalore” in “enter the location” field.\n",
    "3. Then click the search button.\n",
    "4. Then scrape the data for the first 10 jobs results you get.\n",
    "5. Finally create a dataframe of the scraped data."
   ]
  },
  {
   "cell_type": "code",
   "execution_count": 48,
   "metadata": {},
   "outputs": [],
   "source": [
    "driver=uc.Chrome()"
   ]
  },
  {
   "cell_type": "code",
   "execution_count": 49,
   "metadata": {},
   "outputs": [
    {
     "name": "stderr",
     "output_type": "stream",
     "text": [
      "Exception ignored in: <function Chrome.__del__ at 0x0000015CCF518DC0>\n",
      "Traceback (most recent call last):\n",
      "  File \"C:\\Users\\hp\\anaconda3\\lib\\site-packages\\undetected_chromedriver\\v2.py\", line 623, in __del__\n",
      "    self.quit()\n",
      "  File \"C:\\Users\\hp\\anaconda3\\lib\\site-packages\\undetected_chromedriver\\v2.py\", line 581, in quit\n",
      "    self.service.process.kill()\n",
      "AttributeError: 'Chrome' object has no attribute 'service'\n"
     ]
    }
   ],
   "source": [
    "with driver:\n",
    "    driver.get('https://www.naukri.com/')"
   ]
  },
  {
   "cell_type": "code",
   "execution_count": 50,
   "metadata": {},
   "outputs": [
    {
     "data": {
      "text/plain": [
       "<selenium.webdriver.remote.webelement.WebElement (session=\"8e3eba73a07b96337df69af10e5aac98\", element=\"c11a62d6-a447-4182-acfe-571fc07e36af\")>"
      ]
     },
     "execution_count": 50,
     "metadata": {},
     "output_type": "execute_result"
    }
   ],
   "source": [
    "search_job=driver.find_element_by_id('qsb-keyword-sugg')\n",
    "search_job"
   ]
  },
  {
   "cell_type": "code",
   "execution_count": 51,
   "metadata": {},
   "outputs": [],
   "source": [
    "search_job.send_keys('Data Scientist')"
   ]
  },
  {
   "cell_type": "code",
   "execution_count": 52,
   "metadata": {},
   "outputs": [],
   "source": [
    "search_loc=driver.find_element_by_id('qsb-location-sugg')\n",
    "search_loc.send_keys('Bangalore')"
   ]
  },
  {
   "cell_type": "code",
   "execution_count": 53,
   "metadata": {},
   "outputs": [
    {
     "data": {
      "text/plain": [
       "<selenium.webdriver.remote.webelement.WebElement (session=\"8e3eba73a07b96337df69af10e5aac98\", element=\"d952db10-80b6-4ed1-b044-bb18c7412f94\")>"
      ]
     },
     "execution_count": 53,
     "metadata": {},
     "output_type": "execute_result"
    }
   ],
   "source": [
    "search_btn=driver.find_element_by_xpath(\"//button[@class='btn']\")\n",
    "search_btn"
   ]
  },
  {
   "cell_type": "code",
   "execution_count": 54,
   "metadata": {},
   "outputs": [],
   "source": [
    "search_btn.click()"
   ]
  },
  {
   "cell_type": "code",
   "execution_count": 55,
   "metadata": {},
   "outputs": [
    {
     "data": {
      "text/plain": [
       "[<selenium.webdriver.remote.webelement.WebElement (session=\"8e3eba73a07b96337df69af10e5aac98\", element=\"01e243a0-2fcc-4ce4-ad9b-659ffe2f03af\")>,\n",
       " <selenium.webdriver.remote.webelement.WebElement (session=\"8e3eba73a07b96337df69af10e5aac98\", element=\"9a6dcb4d-436b-4cf6-9ce1-265d477cb146\")>,\n",
       " <selenium.webdriver.remote.webelement.WebElement (session=\"8e3eba73a07b96337df69af10e5aac98\", element=\"5c6cadd4-fc32-448a-b327-65a6394d3185\")>,\n",
       " <selenium.webdriver.remote.webelement.WebElement (session=\"8e3eba73a07b96337df69af10e5aac98\", element=\"16b67841-1abc-450a-93cf-e08c9a25428c\")>,\n",
       " <selenium.webdriver.remote.webelement.WebElement (session=\"8e3eba73a07b96337df69af10e5aac98\", element=\"f687a595-940f-4224-9daf-155ce3df112c\")>,\n",
       " <selenium.webdriver.remote.webelement.WebElement (session=\"8e3eba73a07b96337df69af10e5aac98\", element=\"0edf1b96-29f4-4c84-bb61-e8b6f74a67a4\")>,\n",
       " <selenium.webdriver.remote.webelement.WebElement (session=\"8e3eba73a07b96337df69af10e5aac98\", element=\"5071fb0e-4946-4194-aecc-7714072519bd\")>,\n",
       " <selenium.webdriver.remote.webelement.WebElement (session=\"8e3eba73a07b96337df69af10e5aac98\", element=\"bf232716-07db-4677-83fd-deceaf1d0b43\")>,\n",
       " <selenium.webdriver.remote.webelement.WebElement (session=\"8e3eba73a07b96337df69af10e5aac98\", element=\"f473e10a-49d1-4b5d-bc25-435b7544cd93\")>,\n",
       " <selenium.webdriver.remote.webelement.WebElement (session=\"8e3eba73a07b96337df69af10e5aac98\", element=\"5dd08604-5959-46b6-b162-77443bb4b857\")>,\n",
       " <selenium.webdriver.remote.webelement.WebElement (session=\"8e3eba73a07b96337df69af10e5aac98\", element=\"38c37408-4e65-459d-8ccb-ec055708ac1e\")>,\n",
       " <selenium.webdriver.remote.webelement.WebElement (session=\"8e3eba73a07b96337df69af10e5aac98\", element=\"76b43d4d-135b-4025-9c7a-cc7464b2ca47\")>,\n",
       " <selenium.webdriver.remote.webelement.WebElement (session=\"8e3eba73a07b96337df69af10e5aac98\", element=\"b616e3b0-ecb1-4436-a490-df7a3fe642a7\")>,\n",
       " <selenium.webdriver.remote.webelement.WebElement (session=\"8e3eba73a07b96337df69af10e5aac98\", element=\"7348badd-d0a7-46be-813c-b2a0f0aedf86\")>,\n",
       " <selenium.webdriver.remote.webelement.WebElement (session=\"8e3eba73a07b96337df69af10e5aac98\", element=\"c32a8bea-753e-41ec-a679-fd35b8a26d39\")>,\n",
       " <selenium.webdriver.remote.webelement.WebElement (session=\"8e3eba73a07b96337df69af10e5aac98\", element=\"7555c464-5dd1-49bc-8602-42c8dff149ee\")>,\n",
       " <selenium.webdriver.remote.webelement.WebElement (session=\"8e3eba73a07b96337df69af10e5aac98\", element=\"decfb5bd-e7e9-4012-92ae-40d51b4aa8c6\")>,\n",
       " <selenium.webdriver.remote.webelement.WebElement (session=\"8e3eba73a07b96337df69af10e5aac98\", element=\"3e5ca011-ea53-4896-83fb-0f20d5c4303d\")>,\n",
       " <selenium.webdriver.remote.webelement.WebElement (session=\"8e3eba73a07b96337df69af10e5aac98\", element=\"cdffbc98-0cac-416d-8c89-718736cbc35f\")>,\n",
       " <selenium.webdriver.remote.webelement.WebElement (session=\"8e3eba73a07b96337df69af10e5aac98\", element=\"f851026d-75f2-4bfc-bb26-5970532088ac\")>]"
      ]
     },
     "execution_count": 55,
     "metadata": {},
     "output_type": "execute_result"
    }
   ],
   "source": [
    "titles_tags=driver.find_elements_by_xpath(\"//a[@class='title fw500 ellipsis']\")\n",
    "titles_tags"
   ]
  },
  {
   "cell_type": "code",
   "execution_count": 56,
   "metadata": {},
   "outputs": [
    {
     "data": {
      "text/plain": [
       "['Hiring For Data Scientist',\n",
       " 'Lead Data Scientist BFSI',\n",
       " 'Associate Data Scientist',\n",
       " 'Data Scientist: Advanced Analytics',\n",
       " 'Senior Data Scientist',\n",
       " 'Senior Data Scientist',\n",
       " 'Sr Data Scientist',\n",
       " 'Sr Data Scientist',\n",
       " 'SENIOR DATA SCIENTIST',\n",
       " 'Senior Data Scientist IN4',\n",
       " 'Senior Data Scientist (Marketplace)',\n",
       " 'Hiring For Manager and Sr. Manager | Data Scientist',\n",
       " 'Requirement For Data Scientist - Mumbai & Bangalore',\n",
       " 'Data Scientist (Python & SQL)',\n",
       " 'Lead Data Scientist - Machine Learning/ Data Mining',\n",
       " 'Data Scientist- Senior Business Analyst/Lead Analyst',\n",
       " 'Data Scientist- Python/R (3+ Years)',\n",
       " 'Data Scientist - IN3',\n",
       " 'Principal Data Scientist (MINT)',\n",
       " 'Freelance Data Scientist Project Based']"
      ]
     },
     "execution_count": 56,
     "metadata": {},
     "output_type": "execute_result"
    }
   ],
   "source": [
    "job_titles=[]\n",
    "for i in titles_tags:\n",
    "    job_titles.append(i.text)\n",
    "job_titles"
   ]
  },
  {
   "cell_type": "code",
   "execution_count": 57,
   "metadata": {},
   "outputs": [
    {
     "data": {
      "text/plain": [
       "[<selenium.webdriver.remote.webelement.WebElement (session=\"8e3eba73a07b96337df69af10e5aac98\", element=\"45ba86aa-61a9-4872-9614-8188633abd3f\")>,\n",
       " <selenium.webdriver.remote.webelement.WebElement (session=\"8e3eba73a07b96337df69af10e5aac98\", element=\"a55dc792-dcbd-43e2-8d5f-bc729fd94fe0\")>,\n",
       " <selenium.webdriver.remote.webelement.WebElement (session=\"8e3eba73a07b96337df69af10e5aac98\", element=\"4929e241-7018-41e7-9e00-7b1b019ba852\")>,\n",
       " <selenium.webdriver.remote.webelement.WebElement (session=\"8e3eba73a07b96337df69af10e5aac98\", element=\"441d3045-2d1e-4e6b-8f84-a8ec73fd62f1\")>,\n",
       " <selenium.webdriver.remote.webelement.WebElement (session=\"8e3eba73a07b96337df69af10e5aac98\", element=\"ed0a2a3a-a5e3-466a-a122-4da8b918ebd9\")>,\n",
       " <selenium.webdriver.remote.webelement.WebElement (session=\"8e3eba73a07b96337df69af10e5aac98\", element=\"14bf1948-0032-40ef-911f-b71dd7bc3261\")>,\n",
       " <selenium.webdriver.remote.webelement.WebElement (session=\"8e3eba73a07b96337df69af10e5aac98\", element=\"c7efde99-7c7a-4366-8c9c-d62b991a5726\")>,\n",
       " <selenium.webdriver.remote.webelement.WebElement (session=\"8e3eba73a07b96337df69af10e5aac98\", element=\"8902d468-7bda-4636-8ace-812ef0a1165b\")>,\n",
       " <selenium.webdriver.remote.webelement.WebElement (session=\"8e3eba73a07b96337df69af10e5aac98\", element=\"92af4120-1663-4ee3-a912-3610464bc6c4\")>,\n",
       " <selenium.webdriver.remote.webelement.WebElement (session=\"8e3eba73a07b96337df69af10e5aac98\", element=\"df910e1a-44cd-4fb9-af79-d03d7e5b00a7\")>,\n",
       " <selenium.webdriver.remote.webelement.WebElement (session=\"8e3eba73a07b96337df69af10e5aac98\", element=\"e834106f-bde2-4ce4-82f9-5a97f7225c40\")>,\n",
       " <selenium.webdriver.remote.webelement.WebElement (session=\"8e3eba73a07b96337df69af10e5aac98\", element=\"556d1363-b1ed-4111-8c51-e8db25b59a70\")>,\n",
       " <selenium.webdriver.remote.webelement.WebElement (session=\"8e3eba73a07b96337df69af10e5aac98\", element=\"97b82ae3-bc62-439b-87bf-771e19742362\")>,\n",
       " <selenium.webdriver.remote.webelement.WebElement (session=\"8e3eba73a07b96337df69af10e5aac98\", element=\"1c5fd2d1-e7f5-4509-9283-57afc02b7fdd\")>,\n",
       " <selenium.webdriver.remote.webelement.WebElement (session=\"8e3eba73a07b96337df69af10e5aac98\", element=\"838b1831-d87e-4714-ba6a-03fce90a6cdc\")>,\n",
       " <selenium.webdriver.remote.webelement.WebElement (session=\"8e3eba73a07b96337df69af10e5aac98\", element=\"b4671f1a-dc96-4ad6-b95a-0404f3393628\")>,\n",
       " <selenium.webdriver.remote.webelement.WebElement (session=\"8e3eba73a07b96337df69af10e5aac98\", element=\"515d2dbd-f9fb-410b-b3e0-024a8be760fa\")>,\n",
       " <selenium.webdriver.remote.webelement.WebElement (session=\"8e3eba73a07b96337df69af10e5aac98\", element=\"9e780dd9-3bd0-44b6-ac1e-1a234d1630ff\")>,\n",
       " <selenium.webdriver.remote.webelement.WebElement (session=\"8e3eba73a07b96337df69af10e5aac98\", element=\"c3aaf0d8-1f99-4aea-9666-33818ccc60a1\")>,\n",
       " <selenium.webdriver.remote.webelement.WebElement (session=\"8e3eba73a07b96337df69af10e5aac98\", element=\"0a50586d-53d0-471f-a821-f09c4fc05cff\")>]"
      ]
     },
     "execution_count": 57,
     "metadata": {},
     "output_type": "execute_result"
    }
   ],
   "source": [
    "companies_tags=driver.find_elements_by_xpath(\"//a[@class='subTitle ellipsis fleft']\")\n",
    "companies_tags"
   ]
  },
  {
   "cell_type": "code",
   "execution_count": 58,
   "metadata": {},
   "outputs": [
    {
     "data": {
      "text/plain": [
       "['Tata Consultancy Services Ltd.',\n",
       " 'IBM India Pvt. Limited',\n",
       " 'Philips India Limited',\n",
       " 'IBM India Pvt. Limited',\n",
       " 'Walmart Labs',\n",
       " 'Airbnb',\n",
       " 'IBM India Pvt. Limited',\n",
       " 'IBM India Pvt. Limited',\n",
       " 'Happiest Minds Technologies Pvt.Ltd',\n",
       " 'Walmart Labs',\n",
       " 'Walmart Labs',\n",
       " 'Vision Beyond Resources India Private Limited',\n",
       " 'CRISIL LIMITED',\n",
       " 'AVE-Promagne',\n",
       " 'Wrackle Technologies Pvt Ltd',\n",
       " 'Evalueserve.com Pvt. Ltd',\n",
       " 'CRESCENDO GLOBAL LEADERSHIP HIRING INDIA PRIVATE L IMITED',\n",
       " 'Walmart Labs',\n",
       " 'Walmart Labs',\n",
       " 'Shikvix']"
      ]
     },
     "execution_count": 58,
     "metadata": {},
     "output_type": "execute_result"
    }
   ],
   "source": [
    "company_names=[]\n",
    "for i in companies_tags:\n",
    "    company_names.append(i.text)\n",
    "company_names"
   ]
  },
  {
   "cell_type": "code",
   "execution_count": 59,
   "metadata": {},
   "outputs": [
    {
     "data": {
      "text/plain": [
       "[<selenium.webdriver.remote.webelement.WebElement (session=\"8e3eba73a07b96337df69af10e5aac98\", element=\"4507fe18-bb64-4faf-baba-058d583f08cd\")>,\n",
       " <selenium.webdriver.remote.webelement.WebElement (session=\"8e3eba73a07b96337df69af10e5aac98\", element=\"eead428b-87d5-4d00-98c1-02353a654db6\")>,\n",
       " <selenium.webdriver.remote.webelement.WebElement (session=\"8e3eba73a07b96337df69af10e5aac98\", element=\"26243c71-e8a6-400c-ac72-57224a2c3fb7\")>,\n",
       " <selenium.webdriver.remote.webelement.WebElement (session=\"8e3eba73a07b96337df69af10e5aac98\", element=\"0fcc0e16-1d2c-45b7-b0dc-4e0ef4d3a811\")>,\n",
       " <selenium.webdriver.remote.webelement.WebElement (session=\"8e3eba73a07b96337df69af10e5aac98\", element=\"dba07b5a-be69-4460-bf87-b5e61956ac50\")>,\n",
       " <selenium.webdriver.remote.webelement.WebElement (session=\"8e3eba73a07b96337df69af10e5aac98\", element=\"a380d257-c370-4f46-a8fe-d6f040c0d0e7\")>,\n",
       " <selenium.webdriver.remote.webelement.WebElement (session=\"8e3eba73a07b96337df69af10e5aac98\", element=\"fee1d07b-4877-4572-80ec-bf9f4cc6df8f\")>,\n",
       " <selenium.webdriver.remote.webelement.WebElement (session=\"8e3eba73a07b96337df69af10e5aac98\", element=\"fc8cf1e1-1b24-4489-9285-b86e15fa4456\")>,\n",
       " <selenium.webdriver.remote.webelement.WebElement (session=\"8e3eba73a07b96337df69af10e5aac98\", element=\"fcec3cb9-aad9-430e-8241-ba3bb72bb5c9\")>,\n",
       " <selenium.webdriver.remote.webelement.WebElement (session=\"8e3eba73a07b96337df69af10e5aac98\", element=\"cb712d53-e2a5-4219-8130-891c196e954f\")>,\n",
       " <selenium.webdriver.remote.webelement.WebElement (session=\"8e3eba73a07b96337df69af10e5aac98\", element=\"8bc7a371-926f-4d34-8781-b956b2ad838f\")>,\n",
       " <selenium.webdriver.remote.webelement.WebElement (session=\"8e3eba73a07b96337df69af10e5aac98\", element=\"630a77e2-e8ca-4d52-b6b9-663c3ba25890\")>,\n",
       " <selenium.webdriver.remote.webelement.WebElement (session=\"8e3eba73a07b96337df69af10e5aac98\", element=\"d4069172-eeab-4c2c-8680-f22cd0d39b03\")>,\n",
       " <selenium.webdriver.remote.webelement.WebElement (session=\"8e3eba73a07b96337df69af10e5aac98\", element=\"3cbf5b21-03f9-430d-8cd3-4bbfa082d684\")>,\n",
       " <selenium.webdriver.remote.webelement.WebElement (session=\"8e3eba73a07b96337df69af10e5aac98\", element=\"fcfa4ee6-9790-4b6e-bde8-854194b819e2\")>,\n",
       " <selenium.webdriver.remote.webelement.WebElement (session=\"8e3eba73a07b96337df69af10e5aac98\", element=\"507b955b-29c6-418d-8b5d-32eab49ac021\")>,\n",
       " <selenium.webdriver.remote.webelement.WebElement (session=\"8e3eba73a07b96337df69af10e5aac98\", element=\"bf5a90ac-3ae6-4f85-adbf-481dda0ccb07\")>,\n",
       " <selenium.webdriver.remote.webelement.WebElement (session=\"8e3eba73a07b96337df69af10e5aac98\", element=\"394bb163-a670-4d60-9444-ebfdd5baed41\")>,\n",
       " <selenium.webdriver.remote.webelement.WebElement (session=\"8e3eba73a07b96337df69af10e5aac98\", element=\"58548d03-0b4f-4d71-8cd1-b2c802403251\")>,\n",
       " <selenium.webdriver.remote.webelement.WebElement (session=\"8e3eba73a07b96337df69af10e5aac98\", element=\"c6e4fc9b-b4d5-4952-8854-549dae8123cf\")>]"
      ]
     },
     "execution_count": 59,
     "metadata": {},
     "output_type": "execute_result"
    }
   ],
   "source": [
    "locations_tags=driver.find_elements_by_xpath(\"//li[@class='fleft grey-text br2 placeHolderLi location']//span[1]\")\n",
    "locations_tags"
   ]
  },
  {
   "cell_type": "code",
   "execution_count": 60,
   "metadata": {},
   "outputs": [
    {
     "data": {
      "text/plain": [
       "['Chennai, Bangalore/Bengaluru, Mumbai (All Areas)',\n",
       " 'Bengaluru/Bangalore',\n",
       " 'Bangalore/Bengaluru',\n",
       " 'Bengaluru/Bangalore',\n",
       " 'Bangalore/Bengaluru',\n",
       " 'Bangalore/Bengaluru',\n",
       " 'Bengaluru/Bangalore',\n",
       " 'Bangalore/Bengaluru',\n",
       " 'Bangalore/Bengaluru',\n",
       " 'Bangalore/Bengaluru',\n",
       " 'Bangalore/Bengaluru',\n",
       " 'Noida, Mumbai, New Delhi, Gurgaon/Gurugram, Bangalore/Bengaluru',\n",
       " 'Bangalore/Bengaluru, Mumbai (All Areas)',\n",
       " 'Hyderabad/Secunderabad, Chennai, Bangalore/Bengaluru',\n",
       " 'Bangalore/Bengaluru',\n",
       " 'Gurgaon/Gurugram, Bangalore/Bengaluru',\n",
       " 'Bangalore/Bengaluru, Delhi / NCR, Mumbai (All Areas)',\n",
       " 'Bangalore/Bengaluru',\n",
       " 'Bangalore/Bengaluru',\n",
       " 'Remote']"
      ]
     },
     "execution_count": 60,
     "metadata": {},
     "output_type": "execute_result"
    }
   ],
   "source": [
    "job_locations=[]\n",
    "for i in locations_tags:\n",
    "    job_locations.append(i.text)\n",
    "job_locations"
   ]
  },
  {
   "cell_type": "code",
   "execution_count": 61,
   "metadata": {},
   "outputs": [
    {
     "data": {
      "text/plain": [
       "[<selenium.webdriver.remote.webelement.WebElement (session=\"8e3eba73a07b96337df69af10e5aac98\", element=\"8975a45b-c123-4b1d-b0ac-955480ae7b18\")>,\n",
       " <selenium.webdriver.remote.webelement.WebElement (session=\"8e3eba73a07b96337df69af10e5aac98\", element=\"03f181aa-36cd-4ba9-8aab-ace57cf5b765\")>,\n",
       " <selenium.webdriver.remote.webelement.WebElement (session=\"8e3eba73a07b96337df69af10e5aac98\", element=\"c0fed326-dbe4-4515-ba30-1cdcdbe85a69\")>,\n",
       " <selenium.webdriver.remote.webelement.WebElement (session=\"8e3eba73a07b96337df69af10e5aac98\", element=\"d4692742-7590-4883-8f9f-bdd004ba0a1e\")>,\n",
       " <selenium.webdriver.remote.webelement.WebElement (session=\"8e3eba73a07b96337df69af10e5aac98\", element=\"b84bb0d6-b09d-4bc6-9255-5c3d594b9b27\")>,\n",
       " <selenium.webdriver.remote.webelement.WebElement (session=\"8e3eba73a07b96337df69af10e5aac98\", element=\"0b092b40-18c4-4ffc-886b-d4a2b27ac823\")>,\n",
       " <selenium.webdriver.remote.webelement.WebElement (session=\"8e3eba73a07b96337df69af10e5aac98\", element=\"b1a9ea67-47e3-4fe0-90e5-aa2cae59202f\")>,\n",
       " <selenium.webdriver.remote.webelement.WebElement (session=\"8e3eba73a07b96337df69af10e5aac98\", element=\"4da495ce-2823-45c2-bd24-3c23db5d43a9\")>,\n",
       " <selenium.webdriver.remote.webelement.WebElement (session=\"8e3eba73a07b96337df69af10e5aac98\", element=\"bffc7df8-d7bd-4f90-81ce-943f3d144201\")>,\n",
       " <selenium.webdriver.remote.webelement.WebElement (session=\"8e3eba73a07b96337df69af10e5aac98\", element=\"7c876e6e-12d6-43c5-a078-721ef2464be5\")>,\n",
       " <selenium.webdriver.remote.webelement.WebElement (session=\"8e3eba73a07b96337df69af10e5aac98\", element=\"8e901eae-b1fc-4d6e-ac5e-2eab2a7f35b8\")>,\n",
       " <selenium.webdriver.remote.webelement.WebElement (session=\"8e3eba73a07b96337df69af10e5aac98\", element=\"cfe0af64-bbb9-42b8-936a-90a89d00d083\")>,\n",
       " <selenium.webdriver.remote.webelement.WebElement (session=\"8e3eba73a07b96337df69af10e5aac98\", element=\"c728ff91-000f-4f59-b5d8-3feda3ca3f8e\")>,\n",
       " <selenium.webdriver.remote.webelement.WebElement (session=\"8e3eba73a07b96337df69af10e5aac98\", element=\"dbf977ca-48a9-4671-8a89-66a30b9dda3f\")>,\n",
       " <selenium.webdriver.remote.webelement.WebElement (session=\"8e3eba73a07b96337df69af10e5aac98\", element=\"2eb9f2e0-44e4-492a-92d0-113b73b710d0\")>,\n",
       " <selenium.webdriver.remote.webelement.WebElement (session=\"8e3eba73a07b96337df69af10e5aac98\", element=\"cb5ef9c8-27c7-4156-9d50-b5dd7d38e258\")>,\n",
       " <selenium.webdriver.remote.webelement.WebElement (session=\"8e3eba73a07b96337df69af10e5aac98\", element=\"ad74676b-ff91-498d-8d05-5588c201db58\")>,\n",
       " <selenium.webdriver.remote.webelement.WebElement (session=\"8e3eba73a07b96337df69af10e5aac98\", element=\"62ed7c2a-b86f-4efa-a72d-14e3bd553dad\")>,\n",
       " <selenium.webdriver.remote.webelement.WebElement (session=\"8e3eba73a07b96337df69af10e5aac98\", element=\"43051318-f404-4dc5-baaa-de79d6b8e127\")>,\n",
       " <selenium.webdriver.remote.webelement.WebElement (session=\"8e3eba73a07b96337df69af10e5aac98\", element=\"c2a1ba9e-ba5e-4d7e-9ad3-cc15cfb33923\")>]"
      ]
     },
     "execution_count": 61,
     "metadata": {},
     "output_type": "execute_result"
    }
   ],
   "source": [
    "full_job_description=driver.find_elements_by_xpath(\"//div[@class='job-description fs12 grey-text']\")\n",
    "full_job_description"
   ]
  },
  {
   "cell_type": "code",
   "execution_count": 67,
   "metadata": {},
   "outputs": [
    {
     "data": {
      "text/plain": [
       "['Minimum 3 year of experience in being Applied Machine Learning Engineer roleExperience ...',\n",
       " 'IntroductionSoftware Developers at IBM are the backbone of our strategic initiatives to...',\n",
       " 'Use predictive modeling to increase and optimize customer experiences, revenue generati...',\n",
       " 'PhD / Masters in STEM-related fields with knowledge in Quantum ComputingRequired Techni...',\n",
       " 'As a Senior Data Scientist for Walmart, you ll have the opportunity to: Drive data-deri...',\n",
       " 'Professional industry experience in a quantitative analysis role (7+ years preferred) C...',\n",
       " 'Demonstrated extensive experience in building and deploying production quality models i...',\n",
       " 'Demonstrated extensive experience in building and deploying production quality models i...',\n",
       " 'Should possess extensive knowledge of and experience in applying data mining and machin...',\n",
       " 'Bachelor s degree in Engineering / Analytics or Master s Degree in Statistics / Compute...',\n",
       " 'o Solid experience working with state-of-the-art supervised and unsupervised machine le...',\n",
       " 'Hello, We are hiring on behalf of one of the largest BPO/ Consulting services.The skill...',\n",
       " 'CRISIL (formerly Credit Rating Information Services of India Limited) is an Indian anal...',\n",
       " 'Required Technical and Professional Expertise• 6+ years of industry work experience in ...',\n",
       " 'BS/ MS/ PhD in Computer Science, Statistics, Applied Math, or related areas from Premie...',\n",
       " 'from a reputed institute Experience with cloud computing infrastructure, such as AWS / ...',\n",
       " 'The overall experience of Minimum 2 to 6 years of hands-on experience in running Advanc...',\n",
       " 'BE / BTech from a reputed institution Should be a fast learner and quickly adapt to new...',\n",
       " 'Bachelor s with > 15 years of relevant experience OR Masters with > 12 years of relevan...',\n",
       " 'The candidate will be working on a part-time basis and hours will be flexible based on ...']"
      ]
     },
     "execution_count": 67,
     "metadata": {},
     "output_type": "execute_result"
    }
   ],
   "source": [
    "Full_job_description=[]\n",
    "for i in full_job_description:\n",
    "    Full_job_description.append(i.text)\n",
    "Full_job_description"
   ]
  },
  {
   "cell_type": "code",
   "execution_count": 68,
   "metadata": {},
   "outputs": [
    {
     "name": "stdout",
     "output_type": "stream",
     "text": [
      "20 20 20 20\n"
     ]
    }
   ],
   "source": [
    "print(len(job_titles),len(company_names),len(job_locations),len(Full_job_description))"
   ]
  },
  {
   "cell_type": "code",
   "execution_count": 69,
   "metadata": {},
   "outputs": [
    {
     "data": {
      "text/html": [
       "<div>\n",
       "<style scoped>\n",
       "    .dataframe tbody tr th:only-of-type {\n",
       "        vertical-align: middle;\n",
       "    }\n",
       "\n",
       "    .dataframe tbody tr th {\n",
       "        vertical-align: top;\n",
       "    }\n",
       "\n",
       "    .dataframe thead th {\n",
       "        text-align: right;\n",
       "    }\n",
       "</style>\n",
       "<table border=\"1\" class=\"dataframe\">\n",
       "  <thead>\n",
       "    <tr style=\"text-align: right;\">\n",
       "      <th></th>\n",
       "      <th>job_titles</th>\n",
       "      <th>company_names</th>\n",
       "      <th>job_locations</th>\n",
       "      <th>Full_job_description</th>\n",
       "    </tr>\n",
       "  </thead>\n",
       "  <tbody>\n",
       "    <tr>\n",
       "      <th>0</th>\n",
       "      <td>Hiring For Data Scientist</td>\n",
       "      <td>Tata Consultancy Services Ltd.</td>\n",
       "      <td>Chennai, Bangalore/Bengaluru, Mumbai (All Areas)</td>\n",
       "      <td>Minimum 3 year of experience in being Applied ...</td>\n",
       "    </tr>\n",
       "    <tr>\n",
       "      <th>1</th>\n",
       "      <td>Lead Data Scientist BFSI</td>\n",
       "      <td>IBM India Pvt. Limited</td>\n",
       "      <td>Bengaluru/Bangalore</td>\n",
       "      <td>IntroductionSoftware Developers at IBM are the...</td>\n",
       "    </tr>\n",
       "    <tr>\n",
       "      <th>2</th>\n",
       "      <td>Associate Data Scientist</td>\n",
       "      <td>Philips India Limited</td>\n",
       "      <td>Bangalore/Bengaluru</td>\n",
       "      <td>Use predictive modeling to increase and optimi...</td>\n",
       "    </tr>\n",
       "    <tr>\n",
       "      <th>3</th>\n",
       "      <td>Data Scientist: Advanced Analytics</td>\n",
       "      <td>IBM India Pvt. Limited</td>\n",
       "      <td>Bengaluru/Bangalore</td>\n",
       "      <td>PhD / Masters in STEM-related fields with know...</td>\n",
       "    </tr>\n",
       "    <tr>\n",
       "      <th>4</th>\n",
       "      <td>Senior Data Scientist</td>\n",
       "      <td>Walmart Labs</td>\n",
       "      <td>Bangalore/Bengaluru</td>\n",
       "      <td>As a Senior Data Scientist for Walmart, you ll...</td>\n",
       "    </tr>\n",
       "    <tr>\n",
       "      <th>5</th>\n",
       "      <td>Senior Data Scientist</td>\n",
       "      <td>Airbnb</td>\n",
       "      <td>Bangalore/Bengaluru</td>\n",
       "      <td>Professional industry experience in a quantita...</td>\n",
       "    </tr>\n",
       "    <tr>\n",
       "      <th>6</th>\n",
       "      <td>Sr Data Scientist</td>\n",
       "      <td>IBM India Pvt. Limited</td>\n",
       "      <td>Bengaluru/Bangalore</td>\n",
       "      <td>Demonstrated extensive experience in building ...</td>\n",
       "    </tr>\n",
       "    <tr>\n",
       "      <th>7</th>\n",
       "      <td>Sr Data Scientist</td>\n",
       "      <td>IBM India Pvt. Limited</td>\n",
       "      <td>Bangalore/Bengaluru</td>\n",
       "      <td>Demonstrated extensive experience in building ...</td>\n",
       "    </tr>\n",
       "    <tr>\n",
       "      <th>8</th>\n",
       "      <td>SENIOR DATA SCIENTIST</td>\n",
       "      <td>Happiest Minds Technologies Pvt.Ltd</td>\n",
       "      <td>Bangalore/Bengaluru</td>\n",
       "      <td>Should possess extensive knowledge of and expe...</td>\n",
       "    </tr>\n",
       "    <tr>\n",
       "      <th>9</th>\n",
       "      <td>Senior Data Scientist IN4</td>\n",
       "      <td>Walmart Labs</td>\n",
       "      <td>Bangalore/Bengaluru</td>\n",
       "      <td>Bachelor s degree in Engineering / Analytics o...</td>\n",
       "    </tr>\n",
       "  </tbody>\n",
       "</table>\n",
       "</div>"
      ],
      "text/plain": [
       "                           job_titles                        company_names  \\\n",
       "0           Hiring For Data Scientist       Tata Consultancy Services Ltd.   \n",
       "1            Lead Data Scientist BFSI               IBM India Pvt. Limited   \n",
       "2            Associate Data Scientist                Philips India Limited   \n",
       "3  Data Scientist: Advanced Analytics               IBM India Pvt. Limited   \n",
       "4               Senior Data Scientist                         Walmart Labs   \n",
       "5               Senior Data Scientist                               Airbnb   \n",
       "6                   Sr Data Scientist               IBM India Pvt. Limited   \n",
       "7                   Sr Data Scientist               IBM India Pvt. Limited   \n",
       "8               SENIOR DATA SCIENTIST  Happiest Minds Technologies Pvt.Ltd   \n",
       "9           Senior Data Scientist IN4                         Walmart Labs   \n",
       "\n",
       "                                      job_locations  \\\n",
       "0  Chennai, Bangalore/Bengaluru, Mumbai (All Areas)   \n",
       "1                               Bengaluru/Bangalore   \n",
       "2                               Bangalore/Bengaluru   \n",
       "3                               Bengaluru/Bangalore   \n",
       "4                               Bangalore/Bengaluru   \n",
       "5                               Bangalore/Bengaluru   \n",
       "6                               Bengaluru/Bangalore   \n",
       "7                               Bangalore/Bengaluru   \n",
       "8                               Bangalore/Bengaluru   \n",
       "9                               Bangalore/Bengaluru   \n",
       "\n",
       "                                Full_job_description  \n",
       "0  Minimum 3 year of experience in being Applied ...  \n",
       "1  IntroductionSoftware Developers at IBM are the...  \n",
       "2  Use predictive modeling to increase and optimi...  \n",
       "3  PhD / Masters in STEM-related fields with know...  \n",
       "4  As a Senior Data Scientist for Walmart, you ll...  \n",
       "5  Professional industry experience in a quantita...  \n",
       "6  Demonstrated extensive experience in building ...  \n",
       "7  Demonstrated extensive experience in building ...  \n",
       "8  Should possess extensive knowledge of and expe...  \n",
       "9  Bachelor s degree in Engineering / Analytics o...  "
      ]
     },
     "execution_count": 69,
     "metadata": {},
     "output_type": "execute_result"
    }
   ],
   "source": [
    "jobs=pd.DataFrame()\n",
    "jobs['job_titles']=job_titles[0:10]\n",
    "jobs['company_names']=company_names[0:10]\n",
    "jobs['job_locations']=job_locations[0:10]\n",
    "jobs['Full_job_description']=Full_job_description[0:10]\n",
    "jobs"
   ]
  },
  {
   "cell_type": "markdown",
   "metadata": {},
   "source": [
    "Q3: In this question you have to scrape data using the filters available on the \n",
    "webpage as shown below:\n",
    "You have to use the location and salary filter.\n",
    "You have to scrape data for “Data Scientist” designation for first 10 job results.\n",
    "You have to scrape the job-title, job-location, company_name,\n",
    "experience_required.\n",
    "The location filter to be used is “Delhi/NCR”\n",
    "The salary filter to be used is “3-6” lakhs\n",
    "The task will be done as shown in the below steps:\n",
    "1. first get the webpage https://www.naukri.com/\n",
    "2. Enter “Data Scientist” in “Skill,Designations,Companies” field .\n",
    "3. Then click the search button.\n",
    "4. Then apply the location filter and salary filter by checking the respective boxes\n",
    "4. Then scrape the data for the first 10 jobs results you get.\n",
    "5. Finally create a dataframe of the scraped data.\n",
    "Note- All of the above steps have to be done in code. No step is to be done \n",
    "manually."
   ]
  },
  {
   "cell_type": "code",
   "execution_count": 70,
   "metadata": {},
   "outputs": [],
   "source": [
    "import time\n",
    "from selenium.common.exceptions import StaleElementReferenceException as e\n",
    "from selenium.common.exceptions import NoSuchElementException\n",
    "from selenium.webdriver.support.ui import WebDriverWait\n",
    "from selenium.webdriver.support import expected_conditions as EC\n",
    "from selenium.webdriver.common.by import By"
   ]
  },
  {
   "cell_type": "code",
   "execution_count": 116,
   "metadata": {},
   "outputs": [],
   "source": [
    "driver=uc.Chrome()"
   ]
  },
  {
   "cell_type": "code",
   "execution_count": 117,
   "metadata": {},
   "outputs": [],
   "source": [
    "with driver:\n",
    "    driver.get('https://www.naukri.com/')"
   ]
  },
  {
   "cell_type": "code",
   "execution_count": 118,
   "metadata": {},
   "outputs": [
    {
     "data": {
      "text/plain": [
       "<selenium.webdriver.remote.webelement.WebElement (session=\"31f992f3b47c392f0e1a0f720062e318\", element=\"53acf8bd-cbd6-4100-b837-a0e7a25ee7b6\")>"
      ]
     },
     "execution_count": 118,
     "metadata": {},
     "output_type": "execute_result"
    }
   ],
   "source": [
    "search_job=driver.find_element_by_id('qsb-keyword-sugg')\n",
    "search_job"
   ]
  },
  {
   "cell_type": "code",
   "execution_count": 119,
   "metadata": {},
   "outputs": [],
   "source": [
    "search_job.send_keys('Data Scientist')"
   ]
  },
  {
   "cell_type": "code",
   "execution_count": 120,
   "metadata": {},
   "outputs": [],
   "source": [
    "search_loc=driver.find_element_by_id('qsb-location-sugg')\n",
    "search_loc.send_keys('Delhi/NCR')"
   ]
  },
  {
   "cell_type": "code",
   "execution_count": 121,
   "metadata": {},
   "outputs": [
    {
     "data": {
      "text/plain": [
       "<selenium.webdriver.remote.webelement.WebElement (session=\"31f992f3b47c392f0e1a0f720062e318\", element=\"c02d0b04-e895-4e00-8ea1-7c6f08cac8dc\")>"
      ]
     },
     "execution_count": 121,
     "metadata": {},
     "output_type": "execute_result"
    }
   ],
   "source": [
    "search_btn=driver.find_element_by_xpath(\"//button[@class='btn']\")\n",
    "search_btn"
   ]
  },
  {
   "cell_type": "code",
   "execution_count": 122,
   "metadata": {},
   "outputs": [],
   "source": [
    "search_btn.click()"
   ]
  },
  {
   "cell_type": "code",
   "execution_count": 128,
   "metadata": {},
   "outputs": [],
   "source": [
    "driver.find_element_by_xpath(\"//span[@title='3-6 Lakhs']\").click()"
   ]
  },
  {
   "cell_type": "code",
   "execution_count": 129,
   "metadata": {},
   "outputs": [
    {
     "data": {
      "text/plain": [
       "[<selenium.webdriver.remote.webelement.WebElement (session=\"31f992f3b47c392f0e1a0f720062e318\", element=\"6f9a5412-b7a7-4d11-a10d-f2f6a493e1d8\")>,\n",
       " <selenium.webdriver.remote.webelement.WebElement (session=\"31f992f3b47c392f0e1a0f720062e318\", element=\"9b425fe9-6991-4e4f-b60a-6d4498b0a929\")>,\n",
       " <selenium.webdriver.remote.webelement.WebElement (session=\"31f992f3b47c392f0e1a0f720062e318\", element=\"349ce1b4-5fd8-4fbc-ae3d-38797f3d1324\")>,\n",
       " <selenium.webdriver.remote.webelement.WebElement (session=\"31f992f3b47c392f0e1a0f720062e318\", element=\"99ad44b6-61e3-46eb-9ae8-970d302f5f88\")>,\n",
       " <selenium.webdriver.remote.webelement.WebElement (session=\"31f992f3b47c392f0e1a0f720062e318\", element=\"19f5f734-2b56-4108-8021-5a72045deb46\")>,\n",
       " <selenium.webdriver.remote.webelement.WebElement (session=\"31f992f3b47c392f0e1a0f720062e318\", element=\"6bfefd08-aca6-41fc-8c52-dfdcb1472cff\")>,\n",
       " <selenium.webdriver.remote.webelement.WebElement (session=\"31f992f3b47c392f0e1a0f720062e318\", element=\"24e52ba3-d8c9-42e6-9d01-a16b3e96a310\")>,\n",
       " <selenium.webdriver.remote.webelement.WebElement (session=\"31f992f3b47c392f0e1a0f720062e318\", element=\"3b674e5e-f367-4249-be71-a37937d43036\")>,\n",
       " <selenium.webdriver.remote.webelement.WebElement (session=\"31f992f3b47c392f0e1a0f720062e318\", element=\"647c6275-2dc0-45cd-ab3f-27529dabc9bb\")>,\n",
       " <selenium.webdriver.remote.webelement.WebElement (session=\"31f992f3b47c392f0e1a0f720062e318\", element=\"e29bd0c9-3a35-49fd-8571-11691224b200\")>]"
      ]
     },
     "execution_count": 129,
     "metadata": {},
     "output_type": "execute_result"
    }
   ],
   "source": [
    "job_title= driver.find_elements_by_xpath(\"//a[@class='title fw500 ellipsis']\")[:10]\n",
    "job_title"
   ]
  },
  {
   "cell_type": "code",
   "execution_count": 130,
   "metadata": {},
   "outputs": [
    {
     "data": {
      "text/plain": [
       "['Data Scientist / Data Analyst / Business Analytics - MNC Jobs Freshers',\n",
       " 'Data Scientist / Data Analyst',\n",
       " 'Data Scientist/ Machine Learning Engineer',\n",
       " 'Data Scientist',\n",
       " 'Data Scientist',\n",
       " 'Data Scientist - Insurance',\n",
       " 'Only Fresher / Data Scientist / Data Analyst / Analytics - MNC Jobs',\n",
       " 'Data Scientist - WFH - MIND Infotech',\n",
       " 'Data Scientist / Data Analyst / Business Analytics - MNC Jobs Freshers',\n",
       " 'Immediate Openings For Data Scientist For Wipro C2H']"
      ]
     },
     "execution_count": 130,
     "metadata": {},
     "output_type": "execute_result"
    }
   ],
   "source": [
    "job_titles=[]\n",
    "for i in job_title:\n",
    "    job_titles.append(i.text)\n",
    "job_titles"
   ]
  },
  {
   "cell_type": "code",
   "execution_count": 131,
   "metadata": {},
   "outputs": [
    {
     "data": {
      "text/plain": [
       "[<selenium.webdriver.remote.webelement.WebElement (session=\"31f992f3b47c392f0e1a0f720062e318\", element=\"388e79e3-5cec-40ed-9acf-c09060798940\")>,\n",
       " <selenium.webdriver.remote.webelement.WebElement (session=\"31f992f3b47c392f0e1a0f720062e318\", element=\"c58c8f3c-a8f6-456a-92bd-f48745b1652a\")>,\n",
       " <selenium.webdriver.remote.webelement.WebElement (session=\"31f992f3b47c392f0e1a0f720062e318\", element=\"73c4e638-20ae-4c43-ad6e-48a5cfacb1a2\")>,\n",
       " <selenium.webdriver.remote.webelement.WebElement (session=\"31f992f3b47c392f0e1a0f720062e318\", element=\"304211ab-53bb-4004-9226-30e1a03f5ec5\")>,\n",
       " <selenium.webdriver.remote.webelement.WebElement (session=\"31f992f3b47c392f0e1a0f720062e318\", element=\"6392ddfe-a705-4160-8edb-3dca5bdb2170\")>,\n",
       " <selenium.webdriver.remote.webelement.WebElement (session=\"31f992f3b47c392f0e1a0f720062e318\", element=\"e5c2946b-9e72-481c-bfa8-17acbc1c8512\")>,\n",
       " <selenium.webdriver.remote.webelement.WebElement (session=\"31f992f3b47c392f0e1a0f720062e318\", element=\"07d26882-2570-4946-b30e-3c1ba304e5b3\")>,\n",
       " <selenium.webdriver.remote.webelement.WebElement (session=\"31f992f3b47c392f0e1a0f720062e318\", element=\"f6502633-797e-459a-b78d-5a58eb3f794d\")>,\n",
       " <selenium.webdriver.remote.webelement.WebElement (session=\"31f992f3b47c392f0e1a0f720062e318\", element=\"431c98ad-5c05-435d-82f0-3dec6e076892\")>,\n",
       " <selenium.webdriver.remote.webelement.WebElement (session=\"31f992f3b47c392f0e1a0f720062e318\", element=\"33d2d683-db58-485e-9f67-0dcd0b8da9db\")>]"
      ]
     },
     "execution_count": 131,
     "metadata": {},
     "output_type": "execute_result"
    }
   ],
   "source": [
    "job_location= driver.find_elements_by_xpath(\"//li[@class='fleft grey-text br2 placeHolderLi location']//span\")[:10]\n",
    "job_location"
   ]
  },
  {
   "cell_type": "code",
   "execution_count": 132,
   "metadata": {},
   "outputs": [
    {
     "data": {
      "text/plain": [
       "['Ghaziabad, Faridabad, Delhi / NCR',\n",
       " 'Gurgaon/Gurugram',\n",
       " 'Hyderabad/Secunderabad, Pune, Ahmedabad, Gurgaon/Gurugram, Chennai, Bangalore/Bengaluru',\n",
       " 'Gurgaon/Gurugram',\n",
       " '(WFH during Covid)',\n",
       " 'Noida',\n",
       " '(WFH during Covid)',\n",
       " 'Noida, Gurgaon/Gurugram',\n",
       " 'Noida, Gurgaon/Gurugram, Delhi / NCR',\n",
       " 'Pune, Chennai, Bangalore/Bengaluru, Delhi / NCR, Mumbai (All Areas)']"
      ]
     },
     "execution_count": 132,
     "metadata": {},
     "output_type": "execute_result"
    }
   ],
   "source": [
    "job_locations=[]\n",
    "for i in job_location:\n",
    "    job_locations.append(i.text)\n",
    "job_locations"
   ]
  },
  {
   "cell_type": "code",
   "execution_count": 133,
   "metadata": {},
   "outputs": [
    {
     "data": {
      "text/plain": [
       "[<selenium.webdriver.remote.webelement.WebElement (session=\"31f992f3b47c392f0e1a0f720062e318\", element=\"db4172ca-13a7-4f59-b29c-45f6527fc156\")>,\n",
       " <selenium.webdriver.remote.webelement.WebElement (session=\"31f992f3b47c392f0e1a0f720062e318\", element=\"ec1d9273-93ff-4b36-a398-9199c09bd03d\")>,\n",
       " <selenium.webdriver.remote.webelement.WebElement (session=\"31f992f3b47c392f0e1a0f720062e318\", element=\"c5c56a26-828b-41ef-b7c5-70b8069e5c6f\")>,\n",
       " <selenium.webdriver.remote.webelement.WebElement (session=\"31f992f3b47c392f0e1a0f720062e318\", element=\"5f63cd20-a634-4cfd-b8b3-ece1f50e0b65\")>,\n",
       " <selenium.webdriver.remote.webelement.WebElement (session=\"31f992f3b47c392f0e1a0f720062e318\", element=\"07bcd926-c578-4dde-aa07-088a428e4672\")>,\n",
       " <selenium.webdriver.remote.webelement.WebElement (session=\"31f992f3b47c392f0e1a0f720062e318\", element=\"79cb9fe7-0951-441f-9e5d-9f5f3a3a858c\")>,\n",
       " <selenium.webdriver.remote.webelement.WebElement (session=\"31f992f3b47c392f0e1a0f720062e318\", element=\"d8c743e8-fe50-4dd7-8074-b7346df3c3f0\")>,\n",
       " <selenium.webdriver.remote.webelement.WebElement (session=\"31f992f3b47c392f0e1a0f720062e318\", element=\"ef2129b1-6ba0-492f-baad-52e7537554ea\")>,\n",
       " <selenium.webdriver.remote.webelement.WebElement (session=\"31f992f3b47c392f0e1a0f720062e318\", element=\"63464bc4-311a-4305-b878-245563dd3bf5\")>,\n",
       " <selenium.webdriver.remote.webelement.WebElement (session=\"31f992f3b47c392f0e1a0f720062e318\", element=\"e665f4e0-679d-4dd5-9731-330f73cc4819\")>]"
      ]
     },
     "execution_count": 133,
     "metadata": {},
     "output_type": "execute_result"
    }
   ],
   "source": [
    "company_name=driver.find_elements_by_xpath(\"//a[@class='subTitle ellipsis fleft']\")[:10]\n",
    "company_name"
   ]
  },
  {
   "cell_type": "code",
   "execution_count": 134,
   "metadata": {},
   "outputs": [
    {
     "data": {
      "text/plain": [
       "['GABA Consultancy services',\n",
       " 'CARS24',\n",
       " 'Creative Hands HR Consultancy',\n",
       " 'PROCESS NINE TECHNOLOGIES PVT.LTD.',\n",
       " 'R Systems International Ltd.',\n",
       " 'Huquo Consulting Pvt. Ltd',\n",
       " 'GABA Consultancy services',\n",
       " 'MOTHERSONSUMI INFOTECH & DESIGNS LIMITED',\n",
       " 'GABA Consultancy services',\n",
       " 'IDESLABS PRIVATE LIMITED']"
      ]
     },
     "execution_count": 134,
     "metadata": {},
     "output_type": "execute_result"
    }
   ],
   "source": [
    "company_names=[]\n",
    "for i in company_name:\n",
    "    company_names.append(i.text)\n",
    "company_names"
   ]
  },
  {
   "cell_type": "code",
   "execution_count": 135,
   "metadata": {},
   "outputs": [
    {
     "data": {
      "text/plain": [
       "[<selenium.webdriver.remote.webelement.WebElement (session=\"31f992f3b47c392f0e1a0f720062e318\", element=\"64b9acd1-8e28-4bc1-86e3-6f772a63c81c\")>,\n",
       " <selenium.webdriver.remote.webelement.WebElement (session=\"31f992f3b47c392f0e1a0f720062e318\", element=\"fd206245-0457-45f0-ac87-5d5ca62fc560\")>,\n",
       " <selenium.webdriver.remote.webelement.WebElement (session=\"31f992f3b47c392f0e1a0f720062e318\", element=\"bd28cc11-673b-400e-95b8-cea1241ef579\")>,\n",
       " <selenium.webdriver.remote.webelement.WebElement (session=\"31f992f3b47c392f0e1a0f720062e318\", element=\"36560141-8df4-4b45-9ce9-53757eae82be\")>,\n",
       " <selenium.webdriver.remote.webelement.WebElement (session=\"31f992f3b47c392f0e1a0f720062e318\", element=\"bf728040-6e68-4fcb-ab29-54408c7915c5\")>,\n",
       " <selenium.webdriver.remote.webelement.WebElement (session=\"31f992f3b47c392f0e1a0f720062e318\", element=\"f0f4d38c-6ca4-4ac9-b09a-df254a569ffa\")>,\n",
       " <selenium.webdriver.remote.webelement.WebElement (session=\"31f992f3b47c392f0e1a0f720062e318\", element=\"58a8180f-20a8-4119-89fc-e2f4dfbee2eb\")>,\n",
       " <selenium.webdriver.remote.webelement.WebElement (session=\"31f992f3b47c392f0e1a0f720062e318\", element=\"28a10232-24d6-428f-b889-a8e17fd58d37\")>,\n",
       " <selenium.webdriver.remote.webelement.WebElement (session=\"31f992f3b47c392f0e1a0f720062e318\", element=\"3d2bdd58-0450-4820-a7d0-744e4033238f\")>,\n",
       " <selenium.webdriver.remote.webelement.WebElement (session=\"31f992f3b47c392f0e1a0f720062e318\", element=\"9b028b00-149a-4dfe-8acf-0e9a1762e8bc\")>]"
      ]
     },
     "execution_count": 135,
     "metadata": {},
     "output_type": "execute_result"
    }
   ],
   "source": [
    "experience_req=driver.find_elements_by_xpath(\"//li[@class='fleft grey-text br2 placeHolderLi experience']//span\")[:10]\n",
    "experience_req"
   ]
  },
  {
   "cell_type": "code",
   "execution_count": 136,
   "metadata": {},
   "outputs": [
    {
     "data": {
      "text/plain": [
       "['0-0 Yrs',\n",
       " '1-5 Yrs',\n",
       " '0-0 Yrs',\n",
       " '1-3 Yrs',\n",
       " '3-6 Yrs',\n",
       " '2-7 Yrs',\n",
       " '0-0 Yrs',\n",
       " '3-7 Yrs',\n",
       " '0-0 Yrs',\n",
       " '5-10 Yrs']"
      ]
     },
     "execution_count": 136,
     "metadata": {},
     "output_type": "execute_result"
    }
   ],
   "source": [
    "experience_required=[]\n",
    "for i in experience_req:\n",
    "    experience_required.append(i.text)\n",
    "experience_required"
   ]
  },
  {
   "cell_type": "code",
   "execution_count": 137,
   "metadata": {},
   "outputs": [
    {
     "name": "stdout",
     "output_type": "stream",
     "text": [
      "10 10 10 10\n"
     ]
    }
   ],
   "source": [
    "print(len(job_titles),len(job_locations),len(company_names),len(experience_required))"
   ]
  },
  {
   "cell_type": "code",
   "execution_count": 139,
   "metadata": {},
   "outputs": [
    {
     "data": {
      "text/html": [
       "<div>\n",
       "<style scoped>\n",
       "    .dataframe tbody tr th:only-of-type {\n",
       "        vertical-align: middle;\n",
       "    }\n",
       "\n",
       "    .dataframe tbody tr th {\n",
       "        vertical-align: top;\n",
       "    }\n",
       "\n",
       "    .dataframe thead th {\n",
       "        text-align: right;\n",
       "    }\n",
       "</style>\n",
       "<table border=\"1\" class=\"dataframe\">\n",
       "  <thead>\n",
       "    <tr style=\"text-align: right;\">\n",
       "      <th></th>\n",
       "      <th>company_names</th>\n",
       "      <th>job_titles</th>\n",
       "      <th>job_locations</th>\n",
       "      <th>experience_required</th>\n",
       "    </tr>\n",
       "  </thead>\n",
       "  <tbody>\n",
       "    <tr>\n",
       "      <th>0</th>\n",
       "      <td>GABA Consultancy services</td>\n",
       "      <td>Data Scientist / Data Analyst / Business Analy...</td>\n",
       "      <td>Ghaziabad, Faridabad, Delhi / NCR</td>\n",
       "      <td>0-0 Yrs</td>\n",
       "    </tr>\n",
       "    <tr>\n",
       "      <th>1</th>\n",
       "      <td>CARS24</td>\n",
       "      <td>Data Scientist / Data Analyst</td>\n",
       "      <td>Gurgaon/Gurugram</td>\n",
       "      <td>1-5 Yrs</td>\n",
       "    </tr>\n",
       "    <tr>\n",
       "      <th>2</th>\n",
       "      <td>Creative Hands HR Consultancy</td>\n",
       "      <td>Data Scientist/ Machine Learning Engineer</td>\n",
       "      <td>Hyderabad/Secunderabad, Pune, Ahmedabad, Gurga...</td>\n",
       "      <td>0-0 Yrs</td>\n",
       "    </tr>\n",
       "    <tr>\n",
       "      <th>3</th>\n",
       "      <td>PROCESS NINE TECHNOLOGIES PVT.LTD.</td>\n",
       "      <td>Data Scientist</td>\n",
       "      <td>Gurgaon/Gurugram</td>\n",
       "      <td>1-3 Yrs</td>\n",
       "    </tr>\n",
       "    <tr>\n",
       "      <th>4</th>\n",
       "      <td>R Systems International Ltd.</td>\n",
       "      <td>Data Scientist</td>\n",
       "      <td>(WFH during Covid)</td>\n",
       "      <td>3-6 Yrs</td>\n",
       "    </tr>\n",
       "    <tr>\n",
       "      <th>5</th>\n",
       "      <td>Huquo Consulting Pvt. Ltd</td>\n",
       "      <td>Data Scientist - Insurance</td>\n",
       "      <td>Noida</td>\n",
       "      <td>2-7 Yrs</td>\n",
       "    </tr>\n",
       "    <tr>\n",
       "      <th>6</th>\n",
       "      <td>GABA Consultancy services</td>\n",
       "      <td>Only Fresher / Data Scientist / Data Analyst /...</td>\n",
       "      <td>(WFH during Covid)</td>\n",
       "      <td>0-0 Yrs</td>\n",
       "    </tr>\n",
       "    <tr>\n",
       "      <th>7</th>\n",
       "      <td>MOTHERSONSUMI INFOTECH &amp; DESIGNS LIMITED</td>\n",
       "      <td>Data Scientist - WFH - MIND Infotech</td>\n",
       "      <td>Noida, Gurgaon/Gurugram</td>\n",
       "      <td>3-7 Yrs</td>\n",
       "    </tr>\n",
       "    <tr>\n",
       "      <th>8</th>\n",
       "      <td>GABA Consultancy services</td>\n",
       "      <td>Data Scientist / Data Analyst / Business Analy...</td>\n",
       "      <td>Noida, Gurgaon/Gurugram, Delhi / NCR</td>\n",
       "      <td>0-0 Yrs</td>\n",
       "    </tr>\n",
       "    <tr>\n",
       "      <th>9</th>\n",
       "      <td>IDESLABS PRIVATE LIMITED</td>\n",
       "      <td>Immediate Openings For Data Scientist For Wipr...</td>\n",
       "      <td>Pune, Chennai, Bangalore/Bengaluru, Delhi / NC...</td>\n",
       "      <td>5-10 Yrs</td>\n",
       "    </tr>\n",
       "  </tbody>\n",
       "</table>\n",
       "</div>"
      ],
      "text/plain": [
       "                              company_names  \\\n",
       "0                 GABA Consultancy services   \n",
       "1                                    CARS24   \n",
       "2             Creative Hands HR Consultancy   \n",
       "3        PROCESS NINE TECHNOLOGIES PVT.LTD.   \n",
       "4              R Systems International Ltd.   \n",
       "5                 Huquo Consulting Pvt. Ltd   \n",
       "6                 GABA Consultancy services   \n",
       "7  MOTHERSONSUMI INFOTECH & DESIGNS LIMITED   \n",
       "8                 GABA Consultancy services   \n",
       "9                  IDESLABS PRIVATE LIMITED   \n",
       "\n",
       "                                          job_titles  \\\n",
       "0  Data Scientist / Data Analyst / Business Analy...   \n",
       "1                      Data Scientist / Data Analyst   \n",
       "2          Data Scientist/ Machine Learning Engineer   \n",
       "3                                     Data Scientist   \n",
       "4                                     Data Scientist   \n",
       "5                         Data Scientist - Insurance   \n",
       "6  Only Fresher / Data Scientist / Data Analyst /...   \n",
       "7               Data Scientist - WFH - MIND Infotech   \n",
       "8  Data Scientist / Data Analyst / Business Analy...   \n",
       "9  Immediate Openings For Data Scientist For Wipr...   \n",
       "\n",
       "                                       job_locations experience_required  \n",
       "0                  Ghaziabad, Faridabad, Delhi / NCR             0-0 Yrs  \n",
       "1                                   Gurgaon/Gurugram             1-5 Yrs  \n",
       "2  Hyderabad/Secunderabad, Pune, Ahmedabad, Gurga...             0-0 Yrs  \n",
       "3                                   Gurgaon/Gurugram             1-3 Yrs  \n",
       "4                                 (WFH during Covid)             3-6 Yrs  \n",
       "5                                              Noida             2-7 Yrs  \n",
       "6                                 (WFH during Covid)             0-0 Yrs  \n",
       "7                            Noida, Gurgaon/Gurugram             3-7 Yrs  \n",
       "8               Noida, Gurgaon/Gurugram, Delhi / NCR             0-0 Yrs  \n",
       "9  Pune, Chennai, Bangalore/Bengaluru, Delhi / NC...            5-10 Yrs  "
      ]
     },
     "execution_count": 139,
     "metadata": {},
     "output_type": "execute_result"
    }
   ],
   "source": [
    "job_DS_Delhi=pd.DataFrame({})\n",
    "job_DS_Delhi['company_names']=company_names\n",
    "job_DS_Delhi['job_titles']=job_titles\n",
    "job_DS_Delhi['job_locations']=job_locations\n",
    "job_DS_Delhi['experience_required']=experience_required\n",
    "job_DS_Delhi"
   ]
  },
  {
   "cell_type": "markdown",
   "metadata": {},
   "source": [
    "Q4: Write a python program to scrape data for first 10 job results for Data scientist \n",
    "Designation in Noida location. You have to scrape company_name, No. of days \n",
    "ago when job was posted, Rating of the company.\n"
   ]
  },
  {
   "cell_type": "code",
   "execution_count": 203,
   "metadata": {},
   "outputs": [],
   "source": [
    "driver=uc.Chrome()"
   ]
  },
  {
   "cell_type": "code",
   "execution_count": 206,
   "metadata": {},
   "outputs": [],
   "source": [
    "with driver:\n",
    "    driver.get('https://www.glassdoor.co.in/member/home/index.htm')"
   ]
  },
  {
   "cell_type": "code",
   "execution_count": 207,
   "metadata": {},
   "outputs": [
    {
     "data": {
      "text/plain": [
       "<selenium.webdriver.remote.webelement.WebElement (session=\"111c69b2c315f64a15ff4e1437d43190\", element=\"56f207ac-6ae5-4370-82b3-026822d59024\")>"
      ]
     },
     "execution_count": 207,
     "metadata": {},
     "output_type": "execute_result"
    }
   ],
   "source": [
    "search_job=driver.find_element_by_class_name('css-1etjok6')\n",
    "search_job"
   ]
  },
  {
   "cell_type": "code",
   "execution_count": 208,
   "metadata": {},
   "outputs": [],
   "source": [
    "search_job.send_keys(\"Data Scientist\")"
   ]
  },
  {
   "cell_type": "code",
   "execution_count": 209,
   "metadata": {},
   "outputs": [],
   "source": [
    "search_loc=driver.find_element_by_xpath(\"//input[@id='sc.location']\")\n",
    "search_loc.send_keys(\"Noida\")"
   ]
  },
  {
   "cell_type": "code",
   "execution_count": 216,
   "metadata": {},
   "outputs": [],
   "source": [
    "search_btn=driver.find_element_by_xpath(\"//button[@class='gd-ui-button ml-std col-auto search__SearchStyles__newSearchButton css-1dqvyh7']//span\")"
   ]
  },
  {
   "cell_type": "code",
   "execution_count": 217,
   "metadata": {},
   "outputs": [],
   "source": [
    "search_btn.click()"
   ]
  },
  {
   "cell_type": "code",
   "execution_count": 309,
   "metadata": {},
   "outputs": [
    {
     "data": {
      "text/plain": [
       "[<selenium.webdriver.remote.webelement.WebElement (session=\"111c69b2c315f64a15ff4e1437d43190\", element=\"110e8d89-456a-4835-88ef-e2010249fa58\")>,\n",
       " <selenium.webdriver.remote.webelement.WebElement (session=\"111c69b2c315f64a15ff4e1437d43190\", element=\"bb83e533-7dc3-4c8f-a1e2-10a8d257a050\")>,\n",
       " <selenium.webdriver.remote.webelement.WebElement (session=\"111c69b2c315f64a15ff4e1437d43190\", element=\"6835aa77-a089-4bec-b5a1-689d7351cc60\")>,\n",
       " <selenium.webdriver.remote.webelement.WebElement (session=\"111c69b2c315f64a15ff4e1437d43190\", element=\"4d500f7c-e028-4739-b81c-811feb717ee3\")>,\n",
       " <selenium.webdriver.remote.webelement.WebElement (session=\"111c69b2c315f64a15ff4e1437d43190\", element=\"380f8e24-28e5-4c3c-b577-c7e714fe35d4\")>,\n",
       " <selenium.webdriver.remote.webelement.WebElement (session=\"111c69b2c315f64a15ff4e1437d43190\", element=\"ac136ac6-1832-43dd-b927-40db0f67070b\")>,\n",
       " <selenium.webdriver.remote.webelement.WebElement (session=\"111c69b2c315f64a15ff4e1437d43190\", element=\"74258ce4-da78-481b-9b84-ee763c1736fc\")>,\n",
       " <selenium.webdriver.remote.webelement.WebElement (session=\"111c69b2c315f64a15ff4e1437d43190\", element=\"799a79c3-123f-4504-a946-e297aeeb9c9f\")>,\n",
       " <selenium.webdriver.remote.webelement.WebElement (session=\"111c69b2c315f64a15ff4e1437d43190\", element=\"14b250b1-8c59-4ea7-87c0-4497e1e90cf9\")>,\n",
       " <selenium.webdriver.remote.webelement.WebElement (session=\"111c69b2c315f64a15ff4e1437d43190\", element=\"2b829d3e-9d92-4a5b-94b1-95ba89b941f0\")>,\n",
       " <selenium.webdriver.remote.webelement.WebElement (session=\"111c69b2c315f64a15ff4e1437d43190\", element=\"9d44676e-64da-4ddb-9a3b-6afa70600f5c\")>,\n",
       " <selenium.webdriver.remote.webelement.WebElement (session=\"111c69b2c315f64a15ff4e1437d43190\", element=\"ed85fa4d-9f0c-4b7a-afaa-b4e368215210\")>,\n",
       " <selenium.webdriver.remote.webelement.WebElement (session=\"111c69b2c315f64a15ff4e1437d43190\", element=\"44651e6d-d5f9-4536-8557-136ba519bd80\")>,\n",
       " <selenium.webdriver.remote.webelement.WebElement (session=\"111c69b2c315f64a15ff4e1437d43190\", element=\"d4f5b194-81ba-423f-84e8-da7544a4bf43\")>,\n",
       " <selenium.webdriver.remote.webelement.WebElement (session=\"111c69b2c315f64a15ff4e1437d43190\", element=\"f56663e3-b035-4674-848c-ac18792ffeba\")>,\n",
       " <selenium.webdriver.remote.webelement.WebElement (session=\"111c69b2c315f64a15ff4e1437d43190\", element=\"d1f4036f-636f-42e7-a9ee-6242e4ee6145\")>,\n",
       " <selenium.webdriver.remote.webelement.WebElement (session=\"111c69b2c315f64a15ff4e1437d43190\", element=\"72090c97-2b4b-444c-901b-7844378587b7\")>,\n",
       " <selenium.webdriver.remote.webelement.WebElement (session=\"111c69b2c315f64a15ff4e1437d43190\", element=\"61591786-c910-4f23-be10-5be483291277\")>,\n",
       " <selenium.webdriver.remote.webelement.WebElement (session=\"111c69b2c315f64a15ff4e1437d43190\", element=\"e8d8c26e-a0c2-492c-9b04-f249b5714593\")>,\n",
       " <selenium.webdriver.remote.webelement.WebElement (session=\"111c69b2c315f64a15ff4e1437d43190\", element=\"ff19bc63-5aac-4fcc-bd94-873d388647b4\")>,\n",
       " <selenium.webdriver.remote.webelement.WebElement (session=\"111c69b2c315f64a15ff4e1437d43190\", element=\"f839b3a0-a12a-40c8-ab34-18ef64f41ed7\")>,\n",
       " <selenium.webdriver.remote.webelement.WebElement (session=\"111c69b2c315f64a15ff4e1437d43190\", element=\"116f1de7-2cca-400f-9cbc-d2bcc0755209\")>,\n",
       " <selenium.webdriver.remote.webelement.WebElement (session=\"111c69b2c315f64a15ff4e1437d43190\", element=\"a8d923d4-6053-47c6-bc40-57a50df9496d\")>,\n",
       " <selenium.webdriver.remote.webelement.WebElement (session=\"111c69b2c315f64a15ff4e1437d43190\", element=\"26354ac0-d5fb-41b5-bc68-29ae466d0ac9\")>,\n",
       " <selenium.webdriver.remote.webelement.WebElement (session=\"111c69b2c315f64a15ff4e1437d43190\", element=\"9a849eca-8f98-4a0e-a6ce-b4a0ff542686\")>,\n",
       " <selenium.webdriver.remote.webelement.WebElement (session=\"111c69b2c315f64a15ff4e1437d43190\", element=\"553457ee-a980-469c-885c-4e210500a3f4\")>,\n",
       " <selenium.webdriver.remote.webelement.WebElement (session=\"111c69b2c315f64a15ff4e1437d43190\", element=\"22f73ccd-2214-406b-9290-717d32709b96\")>,\n",
       " <selenium.webdriver.remote.webelement.WebElement (session=\"111c69b2c315f64a15ff4e1437d43190\", element=\"7a76e81b-699b-40bd-a48b-9dc080f13c03\")>,\n",
       " <selenium.webdriver.remote.webelement.WebElement (session=\"111c69b2c315f64a15ff4e1437d43190\", element=\"029b37da-8142-4ecd-a76d-38700c45db98\")>,\n",
       " <selenium.webdriver.remote.webelement.WebElement (session=\"111c69b2c315f64a15ff4e1437d43190\", element=\"d87c26a6-1836-4876-8f60-e12306dedfe5\")>]"
      ]
     },
     "execution_count": 309,
     "metadata": {},
     "output_type": "execute_result"
    }
   ],
   "source": [
    "days_posted_ago=driver.find_elements_by_xpath(\"//div[@class='d-flex align-items-end pl-std css-17n8uzw']\")\n",
    "days_posted_ago"
   ]
  },
  {
   "cell_type": "code",
   "execution_count": 310,
   "metadata": {},
   "outputs": [
    {
     "data": {
      "text/plain": [
       "['19d',\n",
       " '4d',\n",
       " '4d',\n",
       " '4d',\n",
       " '30d+',\n",
       " '14d',\n",
       " '6d',\n",
       " '11d',\n",
       " '6d',\n",
       " '27d',\n",
       " '25d',\n",
       " '10d',\n",
       " '30d+',\n",
       " '30d+',\n",
       " '4d',\n",
       " '5d',\n",
       " '30d+',\n",
       " '16d',\n",
       " '30d+',\n",
       " '10d',\n",
       " '30d+',\n",
       " '30d+',\n",
       " '2d',\n",
       " '4d',\n",
       " '24d',\n",
       " '19d',\n",
       " '30d+',\n",
       " '30d+',\n",
       " '30d+',\n",
       " '4d']"
      ]
     },
     "execution_count": 310,
     "metadata": {},
     "output_type": "execute_result"
    }
   ],
   "source": [
    "days_ago=[]\n",
    "for i in days_posted_ago:\n",
    "    days_ago.append(i.text)\n",
    "days_ago"
   ]
  },
  {
   "cell_type": "code",
   "execution_count": 311,
   "metadata": {},
   "outputs": [
    {
     "data": {
      "text/plain": [
       "[<selenium.webdriver.remote.webelement.WebElement (session=\"111c69b2c315f64a15ff4e1437d43190\", element=\"8c4b4c8e-2a43-4ccf-b917-9223eed8d96d\")>,\n",
       " <selenium.webdriver.remote.webelement.WebElement (session=\"111c69b2c315f64a15ff4e1437d43190\", element=\"093580b8-0c82-41b9-9756-0cb6c1328698\")>,\n",
       " <selenium.webdriver.remote.webelement.WebElement (session=\"111c69b2c315f64a15ff4e1437d43190\", element=\"fcd84c26-920c-4dfe-9b9c-ae43822afd0d\")>,\n",
       " <selenium.webdriver.remote.webelement.WebElement (session=\"111c69b2c315f64a15ff4e1437d43190\", element=\"be20b5ac-7087-4d41-a992-137ff220bc7b\")>,\n",
       " <selenium.webdriver.remote.webelement.WebElement (session=\"111c69b2c315f64a15ff4e1437d43190\", element=\"4f85b655-7529-4741-9d55-b5de9fc94471\")>,\n",
       " <selenium.webdriver.remote.webelement.WebElement (session=\"111c69b2c315f64a15ff4e1437d43190\", element=\"8c69a98c-9536-4da9-9dac-c7c88817275d\")>,\n",
       " <selenium.webdriver.remote.webelement.WebElement (session=\"111c69b2c315f64a15ff4e1437d43190\", element=\"c495f309-0900-4b8e-96b3-ccac0a11096b\")>,\n",
       " <selenium.webdriver.remote.webelement.WebElement (session=\"111c69b2c315f64a15ff4e1437d43190\", element=\"e21a9a99-b3a3-41bd-8fcb-3350956ad8dd\")>,\n",
       " <selenium.webdriver.remote.webelement.WebElement (session=\"111c69b2c315f64a15ff4e1437d43190\", element=\"2ee6aadd-4a18-4326-9655-9d85fb7262a8\")>,\n",
       " <selenium.webdriver.remote.webelement.WebElement (session=\"111c69b2c315f64a15ff4e1437d43190\", element=\"11cc71a2-4ba9-4566-b15f-c497cfd198d9\")>,\n",
       " <selenium.webdriver.remote.webelement.WebElement (session=\"111c69b2c315f64a15ff4e1437d43190\", element=\"7f609fd4-651a-41e4-bf74-0cda72f9a421\")>,\n",
       " <selenium.webdriver.remote.webelement.WebElement (session=\"111c69b2c315f64a15ff4e1437d43190\", element=\"408b451c-88d1-485e-9f82-056de7c34741\")>,\n",
       " <selenium.webdriver.remote.webelement.WebElement (session=\"111c69b2c315f64a15ff4e1437d43190\", element=\"60bbbca5-9d4a-4c49-8b8d-0f736a65636c\")>,\n",
       " <selenium.webdriver.remote.webelement.WebElement (session=\"111c69b2c315f64a15ff4e1437d43190\", element=\"80317bc2-d303-4b02-8548-6a0276585a1b\")>,\n",
       " <selenium.webdriver.remote.webelement.WebElement (session=\"111c69b2c315f64a15ff4e1437d43190\", element=\"47e6586c-7499-4542-bf60-569a51b159fc\")>,\n",
       " <selenium.webdriver.remote.webelement.WebElement (session=\"111c69b2c315f64a15ff4e1437d43190\", element=\"9d9264bc-361f-4282-9959-3a4c03b021b4\")>,\n",
       " <selenium.webdriver.remote.webelement.WebElement (session=\"111c69b2c315f64a15ff4e1437d43190\", element=\"786fcf2b-7374-4664-b1ae-9ca4885e5432\")>,\n",
       " <selenium.webdriver.remote.webelement.WebElement (session=\"111c69b2c315f64a15ff4e1437d43190\", element=\"02b8046d-b44c-4814-a6c0-2985d6ec9957\")>,\n",
       " <selenium.webdriver.remote.webelement.WebElement (session=\"111c69b2c315f64a15ff4e1437d43190\", element=\"10e30554-2beb-400e-b595-b0f3bc1f7976\")>,\n",
       " <selenium.webdriver.remote.webelement.WebElement (session=\"111c69b2c315f64a15ff4e1437d43190\", element=\"68028c84-809a-4db9-8d7a-8aa65d70b898\")>,\n",
       " <selenium.webdriver.remote.webelement.WebElement (session=\"111c69b2c315f64a15ff4e1437d43190\", element=\"ee916d66-34d0-4210-a6db-d4e141438170\")>,\n",
       " <selenium.webdriver.remote.webelement.WebElement (session=\"111c69b2c315f64a15ff4e1437d43190\", element=\"4ae999e0-3471-4b4c-aecc-9ecffe1517b4\")>,\n",
       " <selenium.webdriver.remote.webelement.WebElement (session=\"111c69b2c315f64a15ff4e1437d43190\", element=\"5171d0ac-334c-459d-919b-da43dcacb63e\")>,\n",
       " <selenium.webdriver.remote.webelement.WebElement (session=\"111c69b2c315f64a15ff4e1437d43190\", element=\"33772388-32c1-4245-9a5d-da761cf42ccd\")>,\n",
       " <selenium.webdriver.remote.webelement.WebElement (session=\"111c69b2c315f64a15ff4e1437d43190\", element=\"8ba7d51c-b63a-402e-ac1a-7b7e69cad81b\")>,\n",
       " <selenium.webdriver.remote.webelement.WebElement (session=\"111c69b2c315f64a15ff4e1437d43190\", element=\"f8de70e8-94bd-4835-9d16-ebb30cf1c4c1\")>,\n",
       " <selenium.webdriver.remote.webelement.WebElement (session=\"111c69b2c315f64a15ff4e1437d43190\", element=\"dca9ef32-47a1-488b-8b17-d54b8a4af903\")>,\n",
       " <selenium.webdriver.remote.webelement.WebElement (session=\"111c69b2c315f64a15ff4e1437d43190\", element=\"cd0f38fd-a8bd-44f9-bada-b5d4a28841b5\")>,\n",
       " <selenium.webdriver.remote.webelement.WebElement (session=\"111c69b2c315f64a15ff4e1437d43190\", element=\"6822aaf5-885a-45d5-a1a0-fee200ba538a\")>,\n",
       " <selenium.webdriver.remote.webelement.WebElement (session=\"111c69b2c315f64a15ff4e1437d43190\", element=\"626c1378-9fd3-4b46-bf9a-1c468aa58224\")>]"
      ]
     },
     "execution_count": 311,
     "metadata": {},
     "output_type": "execute_result"
    }
   ],
   "source": [
    "company_name=driver.find_elements_by_xpath(\"//div[@class='d-flex justify-content-between align-items-start']\")\n",
    "company_name"
   ]
  },
  {
   "cell_type": "code",
   "execution_count": 312,
   "metadata": {},
   "outputs": [
    {
     "data": {
      "text/plain": [
       "['AlgoScale Technologies Private Limited',\n",
       " 'Grail Insights',\n",
       " 'Noisy Lion',\n",
       " 'Grail Insights',\n",
       " 'Liberin Technologies Private Limited',\n",
       " 'Ishatva Management Solutions',\n",
       " 'Genpact',\n",
       " 'Ericsson',\n",
       " 'Lenskart',\n",
       " 'Crypto Mize',\n",
       " 'NEC Opportunities',\n",
       " 'ING',\n",
       " 'Newgen Software',\n",
       " 'MasterCard',\n",
       " 'Evigway Technologies',\n",
       " 'BluePi Consulting Pvt Ltd.',\n",
       " 'Emerging India Analytics',\n",
       " 'Badatya Private Limited',\n",
       " 'Salasar New Age Technologies',\n",
       " 'Adobe',\n",
       " 'SearchUrCollege',\n",
       " 'Techlive',\n",
       " 'IBM',\n",
       " 'OneAssist Consumer Solutions Private Limited',\n",
       " 'Airtel India',\n",
       " 'limeroad.com',\n",
       " 'Adobe',\n",
       " 'Genpact',\n",
       " 'Salasar New Age Technologies',\n",
       " 'Monotype']"
      ]
     },
     "execution_count": 312,
     "metadata": {},
     "output_type": "execute_result"
    }
   ],
   "source": [
    "company_names=[]\n",
    "for i in company_name:\n",
    "    company_names.append(i.text.replace('\\n', ''))\n",
    "company_names"
   ]
  },
  {
   "cell_type": "code",
   "execution_count": 313,
   "metadata": {},
   "outputs": [
    {
     "data": {
      "text/plain": [
       "[<selenium.webdriver.remote.webelement.WebElement (session=\"111c69b2c315f64a15ff4e1437d43190\", element=\"b62c0427-bc8d-4ed8-ab32-2113850a8663\")>,\n",
       " <selenium.webdriver.remote.webelement.WebElement (session=\"111c69b2c315f64a15ff4e1437d43190\", element=\"b76b8439-d8d9-488f-ad0a-4315187a37e0\")>,\n",
       " <selenium.webdriver.remote.webelement.WebElement (session=\"111c69b2c315f64a15ff4e1437d43190\", element=\"f8e30d17-defb-4826-b808-65811fe0e951\")>,\n",
       " <selenium.webdriver.remote.webelement.WebElement (session=\"111c69b2c315f64a15ff4e1437d43190\", element=\"de964239-76f0-4ef4-ab04-d636ec0fc996\")>,\n",
       " <selenium.webdriver.remote.webelement.WebElement (session=\"111c69b2c315f64a15ff4e1437d43190\", element=\"828d8543-9f92-4252-b257-afeaa2fca713\")>,\n",
       " <selenium.webdriver.remote.webelement.WebElement (session=\"111c69b2c315f64a15ff4e1437d43190\", element=\"073cb476-de88-49c9-8424-e13680b262ac\")>,\n",
       " <selenium.webdriver.remote.webelement.WebElement (session=\"111c69b2c315f64a15ff4e1437d43190\", element=\"8497be87-f668-4d04-a178-d2e1d19f09fe\")>,\n",
       " <selenium.webdriver.remote.webelement.WebElement (session=\"111c69b2c315f64a15ff4e1437d43190\", element=\"8179b2d6-19ef-4e2d-b616-ee600ad9531d\")>,\n",
       " <selenium.webdriver.remote.webelement.WebElement (session=\"111c69b2c315f64a15ff4e1437d43190\", element=\"5a8525be-308d-4b4d-b083-5d112a29c416\")>,\n",
       " <selenium.webdriver.remote.webelement.WebElement (session=\"111c69b2c315f64a15ff4e1437d43190\", element=\"01e456fc-4968-449a-ab65-747f8745fe82\")>,\n",
       " <selenium.webdriver.remote.webelement.WebElement (session=\"111c69b2c315f64a15ff4e1437d43190\", element=\"9d247567-2df0-41d8-9406-b8b37d77da99\")>,\n",
       " <selenium.webdriver.remote.webelement.WebElement (session=\"111c69b2c315f64a15ff4e1437d43190\", element=\"3f7bae36-ca74-4996-978c-90402dcb7e2c\")>,\n",
       " <selenium.webdriver.remote.webelement.WebElement (session=\"111c69b2c315f64a15ff4e1437d43190\", element=\"7e53b82d-c8be-49ae-97aa-8bf0db4f2761\")>,\n",
       " <selenium.webdriver.remote.webelement.WebElement (session=\"111c69b2c315f64a15ff4e1437d43190\", element=\"17e6af5d-6a32-48e6-b710-df4ec8aa9946\")>,\n",
       " <selenium.webdriver.remote.webelement.WebElement (session=\"111c69b2c315f64a15ff4e1437d43190\", element=\"122c312b-4a77-43b5-b7d2-ddacf5282024\")>,\n",
       " <selenium.webdriver.remote.webelement.WebElement (session=\"111c69b2c315f64a15ff4e1437d43190\", element=\"bc3d8c93-1251-45b5-818c-f680b0d82662\")>,\n",
       " <selenium.webdriver.remote.webelement.WebElement (session=\"111c69b2c315f64a15ff4e1437d43190\", element=\"26caa813-34ad-4318-820c-7c96e936a125\")>,\n",
       " <selenium.webdriver.remote.webelement.WebElement (session=\"111c69b2c315f64a15ff4e1437d43190\", element=\"2350a781-a26d-4373-89e1-9cc4aac54a26\")>,\n",
       " <selenium.webdriver.remote.webelement.WebElement (session=\"111c69b2c315f64a15ff4e1437d43190\", element=\"c8ae33c7-b829-44f6-88e7-1dc86067a745\")>]"
      ]
     },
     "execution_count": 313,
     "metadata": {},
     "output_type": "execute_result"
    }
   ],
   "source": [
    "rating=driver.find_elements_by_xpath(\"//span[@class=' job-search-key-srfzj0 e1cjmv6j0']\")\n",
    "rating"
   ]
  },
  {
   "cell_type": "code",
   "execution_count": 314,
   "metadata": {},
   "outputs": [
    {
     "data": {
      "text/plain": [
       "['3.9',\n",
       " '3.5',\n",
       " '3.9',\n",
       " '3.5',\n",
       " '3.8',\n",
       " '4.1',\n",
       " '3.6',\n",
       " '5.0',\n",
       " '4.0',\n",
       " '3.3',\n",
       " '4.2',\n",
       " '4.5',\n",
       " '4.4',\n",
       " '3.9',\n",
       " '3.6',\n",
       " '3.8',\n",
       " '4.4',\n",
       " '3.8',\n",
       " '3.9']"
      ]
     },
     "execution_count": 314,
     "metadata": {},
     "output_type": "execute_result"
    }
   ],
   "source": [
    "Rating=[]\n",
    "for i in rating:\n",
    "    if i.text!='':\n",
    "        Rating.append(i.text)\n",
    "    else:\n",
    "        Rating.append('-')\n",
    "Rating"
   ]
  },
  {
   "cell_type": "code",
   "execution_count": 315,
   "metadata": {},
   "outputs": [
    {
     "name": "stdout",
     "output_type": "stream",
     "text": [
      "30 30 19\n"
     ]
    }
   ],
   "source": [
    "print(len(company_names),len(days_ago),len(Rating))"
   ]
  },
  {
   "cell_type": "code",
   "execution_count": 316,
   "metadata": {},
   "outputs": [],
   "source": [
    "jobs4=pd.DataFrame({})\n",
    "jobs4['company_names']=company_names[0:10]\n",
    "jobs4['days_ago']=days_ago[0:10]\n",
    "jobs4['Rating']=Rating[0:10]"
   ]
  },
  {
   "cell_type": "code",
   "execution_count": 317,
   "metadata": {},
   "outputs": [
    {
     "data": {
      "text/html": [
       "<div>\n",
       "<style scoped>\n",
       "    .dataframe tbody tr th:only-of-type {\n",
       "        vertical-align: middle;\n",
       "    }\n",
       "\n",
       "    .dataframe tbody tr th {\n",
       "        vertical-align: top;\n",
       "    }\n",
       "\n",
       "    .dataframe thead th {\n",
       "        text-align: right;\n",
       "    }\n",
       "</style>\n",
       "<table border=\"1\" class=\"dataframe\">\n",
       "  <thead>\n",
       "    <tr style=\"text-align: right;\">\n",
       "      <th></th>\n",
       "      <th>company_names</th>\n",
       "      <th>days_ago</th>\n",
       "      <th>Rating</th>\n",
       "    </tr>\n",
       "  </thead>\n",
       "  <tbody>\n",
       "    <tr>\n",
       "      <th>0</th>\n",
       "      <td>AlgoScale Technologies Private Limited</td>\n",
       "      <td>19d</td>\n",
       "      <td>3.9</td>\n",
       "    </tr>\n",
       "    <tr>\n",
       "      <th>1</th>\n",
       "      <td>Grail Insights</td>\n",
       "      <td>4d</td>\n",
       "      <td>3.5</td>\n",
       "    </tr>\n",
       "    <tr>\n",
       "      <th>2</th>\n",
       "      <td>Noisy Lion</td>\n",
       "      <td>4d</td>\n",
       "      <td>3.9</td>\n",
       "    </tr>\n",
       "    <tr>\n",
       "      <th>3</th>\n",
       "      <td>Grail Insights</td>\n",
       "      <td>4d</td>\n",
       "      <td>3.5</td>\n",
       "    </tr>\n",
       "    <tr>\n",
       "      <th>4</th>\n",
       "      <td>Liberin Technologies Private Limited</td>\n",
       "      <td>30d+</td>\n",
       "      <td>3.8</td>\n",
       "    </tr>\n",
       "    <tr>\n",
       "      <th>5</th>\n",
       "      <td>Ishatva Management Solutions</td>\n",
       "      <td>14d</td>\n",
       "      <td>4.1</td>\n",
       "    </tr>\n",
       "    <tr>\n",
       "      <th>6</th>\n",
       "      <td>Genpact</td>\n",
       "      <td>6d</td>\n",
       "      <td>3.6</td>\n",
       "    </tr>\n",
       "    <tr>\n",
       "      <th>7</th>\n",
       "      <td>Ericsson</td>\n",
       "      <td>11d</td>\n",
       "      <td>5.0</td>\n",
       "    </tr>\n",
       "    <tr>\n",
       "      <th>8</th>\n",
       "      <td>Lenskart</td>\n",
       "      <td>6d</td>\n",
       "      <td>4.0</td>\n",
       "    </tr>\n",
       "    <tr>\n",
       "      <th>9</th>\n",
       "      <td>Crypto Mize</td>\n",
       "      <td>27d</td>\n",
       "      <td>3.3</td>\n",
       "    </tr>\n",
       "  </tbody>\n",
       "</table>\n",
       "</div>"
      ],
      "text/plain": [
       "                            company_names days_ago Rating\n",
       "0  AlgoScale Technologies Private Limited      19d    3.9\n",
       "1                          Grail Insights       4d    3.5\n",
       "2                              Noisy Lion       4d    3.9\n",
       "3                          Grail Insights       4d    3.5\n",
       "4    Liberin Technologies Private Limited     30d+    3.8\n",
       "5            Ishatva Management Solutions      14d    4.1\n",
       "6                                 Genpact       6d    3.6\n",
       "7                                Ericsson      11d    5.0\n",
       "8                                Lenskart       6d    4.0\n",
       "9                             Crypto Mize      27d    3.3"
      ]
     },
     "execution_count": 317,
     "metadata": {},
     "output_type": "execute_result"
    }
   ],
   "source": [
    "jobs4"
   ]
  },
  {
   "cell_type": "markdown",
   "metadata": {},
   "source": [
    "Q5: Write a python program to scrape the salary data for Data Scientist designation \n",
    "in Noida location."
   ]
  },
  {
   "cell_type": "code",
   "execution_count": 335,
   "metadata": {},
   "outputs": [],
   "source": [
    "import selenium\n",
    "import pandas as pd\n",
    "from selenium import webdriver\n",
    "import time\n",
    "from selenium.webdriver.chrome.options import Options"
   ]
  },
  {
   "cell_type": "code",
   "execution_count": 336,
   "metadata": {},
   "outputs": [
    {
     "data": {
      "text/plain": [
       "<selenium.webdriver.chrome.webdriver.WebDriver (session=\"c94db60c4b00408d7b47c4439ced4da8\")>"
      ]
     },
     "execution_count": 336,
     "metadata": {},
     "output_type": "execute_result"
    }
   ],
   "source": [
    "driver=driver = webdriver.Chrome(r'C:\\Users\\hp\\Downloads\\chromedriver_win32\\chromedriver.exe')\n",
    "driver"
   ]
  },
  {
   "cell_type": "code",
   "execution_count": 337,
   "metadata": {},
   "outputs": [],
   "source": [
    "url='https://www.glassdoor.co.in/Salaries/index.htm'\n",
    "driver.get(url)"
   ]
  },
  {
   "cell_type": "code",
   "execution_count": 338,
   "metadata": {},
   "outputs": [],
   "source": [
    "job_title_field = driver.find_element_by_xpath(\"//input[@class='keyword']\")\n",
    "job_title_field.send_keys(\"Data Scientist\")"
   ]
  },
  {
   "cell_type": "code",
   "execution_count": 339,
   "metadata": {},
   "outputs": [],
   "source": [
    "location_field = driver.find_element_by_xpath(\"//input[@id='LocationSearch']\")\n",
    "location_field.send_keys(\"Noida\")"
   ]
  },
  {
   "cell_type": "code",
   "execution_count": 342,
   "metadata": {},
   "outputs": [],
   "source": [
    "search = driver.find_element_by_xpath(\"//button[@class='gd-btn-mkt']\")\n",
    "search.click()"
   ]
  },
  {
   "cell_type": "code",
   "execution_count": 346,
   "metadata": {},
   "outputs": [
    {
     "data": {
      "text/plain": [
       "[<selenium.webdriver.remote.webelement.WebElement (session=\"c94db60c4b00408d7b47c4439ced4da8\", element=\"dd3e8c52-2846-479d-9814-0939f118ea93\")>,\n",
       " <selenium.webdriver.remote.webelement.WebElement (session=\"c94db60c4b00408d7b47c4439ced4da8\", element=\"3b6f0a7d-6658-45ca-a191-fdf36c9a8273\")>,\n",
       " <selenium.webdriver.remote.webelement.WebElement (session=\"c94db60c4b00408d7b47c4439ced4da8\", element=\"b0b8432f-4a73-44c0-9b43-8ed31b6efac9\")>,\n",
       " <selenium.webdriver.remote.webelement.WebElement (session=\"c94db60c4b00408d7b47c4439ced4da8\", element=\"d9ae5463-c5d3-4523-87c0-4c9236328791\")>,\n",
       " <selenium.webdriver.remote.webelement.WebElement (session=\"c94db60c4b00408d7b47c4439ced4da8\", element=\"2d9eafc2-90aa-42ef-959a-c3b26e9dd5c4\")>,\n",
       " <selenium.webdriver.remote.webelement.WebElement (session=\"c94db60c4b00408d7b47c4439ced4da8\", element=\"b582013d-da9a-4310-b65a-dcf054b93ac4\")>,\n",
       " <selenium.webdriver.remote.webelement.WebElement (session=\"c94db60c4b00408d7b47c4439ced4da8\", element=\"c192b5e7-4835-4ba5-8214-7d88f9d05987\")>,\n",
       " <selenium.webdriver.remote.webelement.WebElement (session=\"c94db60c4b00408d7b47c4439ced4da8\", element=\"4dbd2ede-6cee-4683-80c3-ad2a4686dd02\")>,\n",
       " <selenium.webdriver.remote.webelement.WebElement (session=\"c94db60c4b00408d7b47c4439ced4da8\", element=\"db1c533c-85af-4df9-b5e7-bebc68530c1e\")>,\n",
       " <selenium.webdriver.remote.webelement.WebElement (session=\"c94db60c4b00408d7b47c4439ced4da8\", element=\"645df0cf-cb10-4b81-b195-ea50bb95d873\")>,\n",
       " <selenium.webdriver.remote.webelement.WebElement (session=\"c94db60c4b00408d7b47c4439ced4da8\", element=\"1f527e77-fa6c-41d4-a7e3-0aa42735315c\")>,\n",
       " <selenium.webdriver.remote.webelement.WebElement (session=\"c94db60c4b00408d7b47c4439ced4da8\", element=\"2d5a52c4-5a64-48b4-87a1-7723590fa40e\")>,\n",
       " <selenium.webdriver.remote.webelement.WebElement (session=\"c94db60c4b00408d7b47c4439ced4da8\", element=\"ec1a055d-fdd9-44b8-bb6c-4c03f854f63a\")>,\n",
       " <selenium.webdriver.remote.webelement.WebElement (session=\"c94db60c4b00408d7b47c4439ced4da8\", element=\"3016c0c2-5674-4746-b8bf-cdb031dfbba5\")>,\n",
       " <selenium.webdriver.remote.webelement.WebElement (session=\"c94db60c4b00408d7b47c4439ced4da8\", element=\"748ef234-9880-41b0-bd55-dbdfcd134e54\")>,\n",
       " <selenium.webdriver.remote.webelement.WebElement (session=\"c94db60c4b00408d7b47c4439ced4da8\", element=\"34e3482a-f7a0-4d1f-9340-eed8e9e977cc\")>,\n",
       " <selenium.webdriver.remote.webelement.WebElement (session=\"c94db60c4b00408d7b47c4439ced4da8\", element=\"f9f29a29-bdd1-4206-866c-9f26e16a01d8\")>,\n",
       " <selenium.webdriver.remote.webelement.WebElement (session=\"c94db60c4b00408d7b47c4439ced4da8\", element=\"74196c8c-078a-4e8c-bd90-3783f0d811af\")>,\n",
       " <selenium.webdriver.remote.webelement.WebElement (session=\"c94db60c4b00408d7b47c4439ced4da8\", element=\"30920170-9f37-4163-b388-2c87564ee749\")>,\n",
       " <selenium.webdriver.remote.webelement.WebElement (session=\"c94db60c4b00408d7b47c4439ced4da8\", element=\"937fd454-b7cf-4906-bf7d-ad7c1927c517\")>]"
      ]
     },
     "execution_count": 346,
     "metadata": {},
     "output_type": "execute_result"
    }
   ],
   "source": [
    "title_tags=driver.find_elements_by_xpath(\"//a[@class='css-f3vw95 e1aj7ssy3']\")\n",
    "title_tags"
   ]
  },
  {
   "cell_type": "code",
   "execution_count": 347,
   "metadata": {},
   "outputs": [
    {
     "data": {
      "text/plain": [
       "['Tata Consultancy Services',\n",
       " 'IBM',\n",
       " 'Accenture',\n",
       " 'Delhivery',\n",
       " 'Ericsson-Worldwide',\n",
       " 'UnitedHealth Group',\n",
       " 'Optum',\n",
       " 'Optum Global Solutions',\n",
       " 'Valiance Solutions',\n",
       " 'EXL Service',\n",
       " 'Cognizant Technology Solutions',\n",
       " 'ZS Associates',\n",
       " 'Nagarro',\n",
       " 'Innovaccer',\n",
       " 'OYO',\n",
       " 'dunnhumby',\n",
       " 'Amazon',\n",
       " 'Fresher',\n",
       " 'CARS24.com',\n",
       " 'Vidooly Media Tech']"
      ]
     },
     "execution_count": 347,
     "metadata": {},
     "output_type": "execute_result"
    }
   ],
   "source": [
    "Company_names=[]\n",
    "\n",
    "for i in title_tags:\n",
    "    Company_names.append(i.text.replace(\"\\n\", \" \"))\n",
    "        \n",
    "Company_names"
   ]
  },
  {
   "cell_type": "code",
   "execution_count": 348,
   "metadata": {},
   "outputs": [
    {
     "data": {
      "text/plain": [
       "[<selenium.webdriver.remote.webelement.WebElement (session=\"c94db60c4b00408d7b47c4439ced4da8\", element=\"3c776f86-803b-4ac7-9466-8f7ef3242212\")>,\n",
       " <selenium.webdriver.remote.webelement.WebElement (session=\"c94db60c4b00408d7b47c4439ced4da8\", element=\"0990ee88-37cd-4a07-8f10-caec94677430\")>,\n",
       " <selenium.webdriver.remote.webelement.WebElement (session=\"c94db60c4b00408d7b47c4439ced4da8\", element=\"887ef7f9-67f3-441d-b6cf-b24c4a3fee65\")>,\n",
       " <selenium.webdriver.remote.webelement.WebElement (session=\"c94db60c4b00408d7b47c4439ced4da8\", element=\"2f66b0ed-6755-497b-8928-ba66edac3e4b\")>,\n",
       " <selenium.webdriver.remote.webelement.WebElement (session=\"c94db60c4b00408d7b47c4439ced4da8\", element=\"d40bd444-5db8-4683-b040-558c6332fd70\")>,\n",
       " <selenium.webdriver.remote.webelement.WebElement (session=\"c94db60c4b00408d7b47c4439ced4da8\", element=\"aba0828d-7b69-4f03-9b45-4768ea0da7bc\")>,\n",
       " <selenium.webdriver.remote.webelement.WebElement (session=\"c94db60c4b00408d7b47c4439ced4da8\", element=\"bbe6c7a1-e503-4425-83a9-b17ebb85a548\")>,\n",
       " <selenium.webdriver.remote.webelement.WebElement (session=\"c94db60c4b00408d7b47c4439ced4da8\", element=\"6729679e-e6f4-4a1f-98dc-da9d5df68df6\")>,\n",
       " <selenium.webdriver.remote.webelement.WebElement (session=\"c94db60c4b00408d7b47c4439ced4da8\", element=\"cb2de0ff-1d23-4f8c-a3a2-6e13bba44479\")>,\n",
       " <selenium.webdriver.remote.webelement.WebElement (session=\"c94db60c4b00408d7b47c4439ced4da8\", element=\"08f608e8-1c0c-4aaa-b81e-ecb69122d730\")>,\n",
       " <selenium.webdriver.remote.webelement.WebElement (session=\"c94db60c4b00408d7b47c4439ced4da8\", element=\"303fad9f-3a4a-4a8d-b71f-c8412e96c859\")>,\n",
       " <selenium.webdriver.remote.webelement.WebElement (session=\"c94db60c4b00408d7b47c4439ced4da8\", element=\"28f245cf-3498-4243-87d6-e210729c0e17\")>,\n",
       " <selenium.webdriver.remote.webelement.WebElement (session=\"c94db60c4b00408d7b47c4439ced4da8\", element=\"12c23998-962f-46be-90f7-48bc9ca77061\")>,\n",
       " <selenium.webdriver.remote.webelement.WebElement (session=\"c94db60c4b00408d7b47c4439ced4da8\", element=\"e49a067d-9eca-48d9-b6b4-1fe81b4f9177\")>,\n",
       " <selenium.webdriver.remote.webelement.WebElement (session=\"c94db60c4b00408d7b47c4439ced4da8\", element=\"3959792c-9635-4d7b-82b5-c703c4844237\")>,\n",
       " <selenium.webdriver.remote.webelement.WebElement (session=\"c94db60c4b00408d7b47c4439ced4da8\", element=\"43523908-e748-460d-9e85-53bd63c786c8\")>,\n",
       " <selenium.webdriver.remote.webelement.WebElement (session=\"c94db60c4b00408d7b47c4439ced4da8\", element=\"f94c1f9d-0d7b-4990-b3d2-f5b1f488ce11\")>,\n",
       " <selenium.webdriver.remote.webelement.WebElement (session=\"c94db60c4b00408d7b47c4439ced4da8\", element=\"0730bf4f-4f44-4fc7-8ce3-4685c2538068\")>,\n",
       " <selenium.webdriver.remote.webelement.WebElement (session=\"c94db60c4b00408d7b47c4439ced4da8\", element=\"ae487cc9-8478-4295-a8e2-5f43a27c7d80\")>,\n",
       " <selenium.webdriver.remote.webelement.WebElement (session=\"c94db60c4b00408d7b47c4439ced4da8\", element=\"e708c703-5dd6-4e41-9e26-60eb9aaebfde\")>]"
      ]
     },
     "execution_count": 348,
     "metadata": {},
     "output_type": "execute_result"
    }
   ],
   "source": [
    "No_of_Salary= driver.find_elements_by_xpath(\"//div[@class='col-12 col-lg-auto']//span\")\n",
    "No_of_Salary"
   ]
  },
  {
   "cell_type": "code",
   "execution_count": 349,
   "metadata": {},
   "outputs": [
    {
     "data": {
      "text/plain": [
       "['22 salaries',\n",
       " '20 salaries',\n",
       " '15 salaries',\n",
       " '15 salaries',\n",
       " '14 salaries',\n",
       " '14 salaries',\n",
       " '11 salaries',\n",
       " '10 salaries',\n",
       " '10 salaries',\n",
       " '9 salaries',\n",
       " '8 salaries',\n",
       " '8 salaries',\n",
       " '8 salaries',\n",
       " '8 salaries',\n",
       " '7 salaries',\n",
       " '7 salaries',\n",
       " '6 salaries',\n",
       " '6 salaries',\n",
       " '6 salaries',\n",
       " '6 salaries']"
      ]
     },
     "execution_count": 349,
     "metadata": {},
     "output_type": "execute_result"
    }
   ],
   "source": [
    "No_of_salaries=[]\n",
    "for i in No_of_Salary:\n",
    "    No_of_salaries.append(i.text)\n",
    "No_of_salaries"
   ]
  },
  {
   "cell_type": "code",
   "execution_count": 350,
   "metadata": {},
   "outputs": [
    {
     "data": {
      "text/plain": [
       "[<selenium.webdriver.remote.webelement.WebElement (session=\"c94db60c4b00408d7b47c4439ced4da8\", element=\"6153d864-d52f-4a10-bb88-34f9497a2ea2\")>,\n",
       " <selenium.webdriver.remote.webelement.WebElement (session=\"c94db60c4b00408d7b47c4439ced4da8\", element=\"c3aed0fb-4ba0-4efc-a07b-dd85f04c278c\")>,\n",
       " <selenium.webdriver.remote.webelement.WebElement (session=\"c94db60c4b00408d7b47c4439ced4da8\", element=\"6bcca809-9f8f-4382-aa88-2cf4f0978896\")>,\n",
       " <selenium.webdriver.remote.webelement.WebElement (session=\"c94db60c4b00408d7b47c4439ced4da8\", element=\"0403d317-7cc2-4c0d-9d04-f772ac0c2fbd\")>,\n",
       " <selenium.webdriver.remote.webelement.WebElement (session=\"c94db60c4b00408d7b47c4439ced4da8\", element=\"250cb20a-c65a-405e-918b-720f08dd756d\")>,\n",
       " <selenium.webdriver.remote.webelement.WebElement (session=\"c94db60c4b00408d7b47c4439ced4da8\", element=\"9058535c-7dc7-4c88-ad4a-3e57cac6c621\")>,\n",
       " <selenium.webdriver.remote.webelement.WebElement (session=\"c94db60c4b00408d7b47c4439ced4da8\", element=\"ebb82bb2-9263-4817-b290-45342913f5ff\")>,\n",
       " <selenium.webdriver.remote.webelement.WebElement (session=\"c94db60c4b00408d7b47c4439ced4da8\", element=\"b03cd45e-7d6b-4426-b4f7-8ee3055f1110\")>,\n",
       " <selenium.webdriver.remote.webelement.WebElement (session=\"c94db60c4b00408d7b47c4439ced4da8\", element=\"4576c5c1-0e3f-4216-b017-62a1bae57877\")>,\n",
       " <selenium.webdriver.remote.webelement.WebElement (session=\"c94db60c4b00408d7b47c4439ced4da8\", element=\"ec15269a-f482-4d65-b218-075b1e8d2fa5\")>,\n",
       " <selenium.webdriver.remote.webelement.WebElement (session=\"c94db60c4b00408d7b47c4439ced4da8\", element=\"dd5255fd-700a-4b6a-bc3b-cf267b5ac634\")>,\n",
       " <selenium.webdriver.remote.webelement.WebElement (session=\"c94db60c4b00408d7b47c4439ced4da8\", element=\"7e9bcfe7-19eb-4db7-a00a-600637fc0309\")>,\n",
       " <selenium.webdriver.remote.webelement.WebElement (session=\"c94db60c4b00408d7b47c4439ced4da8\", element=\"70f7005b-c30f-45d4-8f4a-d16b1032d973\")>,\n",
       " <selenium.webdriver.remote.webelement.WebElement (session=\"c94db60c4b00408d7b47c4439ced4da8\", element=\"5a613cef-8a6e-41ea-9d71-4b00b8300ba8\")>,\n",
       " <selenium.webdriver.remote.webelement.WebElement (session=\"c94db60c4b00408d7b47c4439ced4da8\", element=\"9ad1470a-5960-4b93-ab41-ce7191ecc226\")>,\n",
       " <selenium.webdriver.remote.webelement.WebElement (session=\"c94db60c4b00408d7b47c4439ced4da8\", element=\"27fd025e-4035-4ce8-a0a5-fccfb519c9ee\")>,\n",
       " <selenium.webdriver.remote.webelement.WebElement (session=\"c94db60c4b00408d7b47c4439ced4da8\", element=\"6bc5f892-e473-406b-8ed8-bb965b6560b9\")>,\n",
       " <selenium.webdriver.remote.webelement.WebElement (session=\"c94db60c4b00408d7b47c4439ced4da8\", element=\"a03ed737-1dec-4f39-b37e-605146986f5f\")>,\n",
       " <selenium.webdriver.remote.webelement.WebElement (session=\"c94db60c4b00408d7b47c4439ced4da8\", element=\"bee6ca22-0033-4721-bb8d-e24880cddf1b\")>,\n",
       " <selenium.webdriver.remote.webelement.WebElement (session=\"c94db60c4b00408d7b47c4439ced4da8\", element=\"3de46b79-ad37-4e9b-84f4-5f4469fb3bdd\")>]"
      ]
     },
     "execution_count": 350,
     "metadata": {},
     "output_type": "execute_result"
    }
   ],
   "source": [
    "average_salary= driver.find_elements_by_xpath(\"//div[@class='col-12 col-lg-4 px-lg-0 d-flex align-items-baseline']//h3\")\n",
    "average_salary"
   ]
  },
  {
   "cell_type": "code",
   "execution_count": 351,
   "metadata": {},
   "outputs": [
    {
     "data": {
      "text/plain": [
       "['₹6,28,021',\n",
       " '₹9,08,246',\n",
       " '₹11,93,390',\n",
       " '₹12,49,716',\n",
       " '₹7,58,335',\n",
       " '₹12,80,000',\n",
       " '₹12,70,000',\n",
       " '₹14,55,430',\n",
       " '₹8,86,064',\n",
       " '₹11,10,000',\n",
       " '₹9,62,227',\n",
       " '₹11,71,868',\n",
       " '₹11,01,815',\n",
       " '₹12,40,275',\n",
       " '₹14,51,902',\n",
       " '₹11,30,374',\n",
       " '₹20,63,782',\n",
       " '₹61,566',\n",
       " '₹10,80,727',\n",
       " '₹35,040']"
      ]
     },
     "execution_count": 351,
     "metadata": {},
     "output_type": "execute_result"
    }
   ],
   "source": [
    "Average_salaries=[]\n",
    "for i in average_salary:\n",
    "    Average_salaries.append(i.text)\n",
    "Average_salaries"
   ]
  },
  {
   "cell_type": "code",
   "execution_count": 356,
   "metadata": {},
   "outputs": [
    {
     "data": {
      "text/plain": [
       "[<selenium.webdriver.remote.webelement.WebElement (session=\"c94db60c4b00408d7b47c4439ced4da8\", element=\"a87514d9-0906-4d76-a014-9c279df79509\")>,\n",
       " <selenium.webdriver.remote.webelement.WebElement (session=\"c94db60c4b00408d7b47c4439ced4da8\", element=\"710c0310-506c-423c-b1c6-22debd0f15d4\")>,\n",
       " <selenium.webdriver.remote.webelement.WebElement (session=\"c94db60c4b00408d7b47c4439ced4da8\", element=\"90286711-ffa8-4d3e-a83e-9aed84514f1f\")>,\n",
       " <selenium.webdriver.remote.webelement.WebElement (session=\"c94db60c4b00408d7b47c4439ced4da8\", element=\"35c1b089-a749-4692-8259-286d05fdce83\")>,\n",
       " <selenium.webdriver.remote.webelement.WebElement (session=\"c94db60c4b00408d7b47c4439ced4da8\", element=\"aa2fcaa3-f032-44ce-a9c6-ddabd6eeadc6\")>,\n",
       " <selenium.webdriver.remote.webelement.WebElement (session=\"c94db60c4b00408d7b47c4439ced4da8\", element=\"f97f3c67-0759-4b9f-8621-169cfdee8162\")>,\n",
       " <selenium.webdriver.remote.webelement.WebElement (session=\"c94db60c4b00408d7b47c4439ced4da8\", element=\"248c8cd6-2825-45e6-bb82-5e4b568b1fa4\")>,\n",
       " <selenium.webdriver.remote.webelement.WebElement (session=\"c94db60c4b00408d7b47c4439ced4da8\", element=\"2bb18dac-a1ba-4fba-8db9-c0da4246012c\")>,\n",
       " <selenium.webdriver.remote.webelement.WebElement (session=\"c94db60c4b00408d7b47c4439ced4da8\", element=\"ae8e0845-e4d4-4fa9-b2dd-a89b7c15cdea\")>,\n",
       " <selenium.webdriver.remote.webelement.WebElement (session=\"c94db60c4b00408d7b47c4439ced4da8\", element=\"29c96ace-0b7c-4ac9-bd7a-24b491850137\")>,\n",
       " <selenium.webdriver.remote.webelement.WebElement (session=\"c94db60c4b00408d7b47c4439ced4da8\", element=\"4bbd8966-ef93-4784-8918-4ebad514acad\")>,\n",
       " <selenium.webdriver.remote.webelement.WebElement (session=\"c94db60c4b00408d7b47c4439ced4da8\", element=\"76a9d083-9765-48b5-baee-35d5ffb66faa\")>,\n",
       " <selenium.webdriver.remote.webelement.WebElement (session=\"c94db60c4b00408d7b47c4439ced4da8\", element=\"2a1305e7-38cd-4249-9de4-79fb08c35763\")>,\n",
       " <selenium.webdriver.remote.webelement.WebElement (session=\"c94db60c4b00408d7b47c4439ced4da8\", element=\"3f5a9ffc-5763-4988-af10-f9cdf821ecb5\")>,\n",
       " <selenium.webdriver.remote.webelement.WebElement (session=\"c94db60c4b00408d7b47c4439ced4da8\", element=\"4c6ed3c0-68e6-49c9-88fd-7acef465c7ad\")>,\n",
       " <selenium.webdriver.remote.webelement.WebElement (session=\"c94db60c4b00408d7b47c4439ced4da8\", element=\"c690c2c2-c332-46c9-9bb6-1741543f54bf\")>,\n",
       " <selenium.webdriver.remote.webelement.WebElement (session=\"c94db60c4b00408d7b47c4439ced4da8\", element=\"e5a3a160-c79c-43fa-a0d1-3237eea863d6\")>,\n",
       " <selenium.webdriver.remote.webelement.WebElement (session=\"c94db60c4b00408d7b47c4439ced4da8\", element=\"2d0b432f-055a-4718-800b-7b89046bbd3b\")>,\n",
       " <selenium.webdriver.remote.webelement.WebElement (session=\"c94db60c4b00408d7b47c4439ced4da8\", element=\"8eaddc5b-88f4-4c68-8cdd-0369467666a8\")>,\n",
       " <selenium.webdriver.remote.webelement.WebElement (session=\"c94db60c4b00408d7b47c4439ced4da8\", element=\"466f2e84-d8e3-459b-8f55-2eac1523db57\")>,\n",
       " <selenium.webdriver.remote.webelement.WebElement (session=\"c94db60c4b00408d7b47c4439ced4da8\", element=\"57c18f40-6383-4c85-9837-4d4abb538766\")>,\n",
       " <selenium.webdriver.remote.webelement.WebElement (session=\"c94db60c4b00408d7b47c4439ced4da8\", element=\"abfcdfcd-1792-4342-b632-802b06e42902\")>,\n",
       " <selenium.webdriver.remote.webelement.WebElement (session=\"c94db60c4b00408d7b47c4439ced4da8\", element=\"33567750-bf59-4807-ac00-2ac993be5713\")>,\n",
       " <selenium.webdriver.remote.webelement.WebElement (session=\"c94db60c4b00408d7b47c4439ced4da8\", element=\"a60e6f77-6b99-4d36-b5aa-efba052c3fb9\")>,\n",
       " <selenium.webdriver.remote.webelement.WebElement (session=\"c94db60c4b00408d7b47c4439ced4da8\", element=\"682e75da-3966-4048-bc8b-7217da821a15\")>,\n",
       " <selenium.webdriver.remote.webelement.WebElement (session=\"c94db60c4b00408d7b47c4439ced4da8\", element=\"6da74f3b-29a9-4520-b40b-ff57a8494072\")>,\n",
       " <selenium.webdriver.remote.webelement.WebElement (session=\"c94db60c4b00408d7b47c4439ced4da8\", element=\"498c37f6-6c58-4f58-9e29-9dd8db5640f3\")>,\n",
       " <selenium.webdriver.remote.webelement.WebElement (session=\"c94db60c4b00408d7b47c4439ced4da8\", element=\"053a5b95-011f-4e53-b48f-ce38974e8230\")>,\n",
       " <selenium.webdriver.remote.webelement.WebElement (session=\"c94db60c4b00408d7b47c4439ced4da8\", element=\"4e86a903-7127-410c-879f-fe4ff015edd3\")>,\n",
       " <selenium.webdriver.remote.webelement.WebElement (session=\"c94db60c4b00408d7b47c4439ced4da8\", element=\"1efbcd94-3619-43e3-b2a8-2e3b13b4b195\")>,\n",
       " <selenium.webdriver.remote.webelement.WebElement (session=\"c94db60c4b00408d7b47c4439ced4da8\", element=\"4555eae4-5ce1-4f23-9eff-bd962cafbd8e\")>,\n",
       " <selenium.webdriver.remote.webelement.WebElement (session=\"c94db60c4b00408d7b47c4439ced4da8\", element=\"134e16ba-25b6-46f0-b46b-fceeb09f3eec\")>,\n",
       " <selenium.webdriver.remote.webelement.WebElement (session=\"c94db60c4b00408d7b47c4439ced4da8\", element=\"fba7b1f4-932b-4e1a-9229-c669387b2300\")>,\n",
       " <selenium.webdriver.remote.webelement.WebElement (session=\"c94db60c4b00408d7b47c4439ced4da8\", element=\"b23b3f42-9081-4963-ad38-4638467bff0b\")>,\n",
       " <selenium.webdriver.remote.webelement.WebElement (session=\"c94db60c4b00408d7b47c4439ced4da8\", element=\"37287d8b-46b2-40d1-9a85-dff71f0d6620\")>,\n",
       " <selenium.webdriver.remote.webelement.WebElement (session=\"c94db60c4b00408d7b47c4439ced4da8\", element=\"b4f54928-90f7-4027-aa74-391339dd9834\")>,\n",
       " <selenium.webdriver.remote.webelement.WebElement (session=\"c94db60c4b00408d7b47c4439ced4da8\", element=\"e02d8bd9-5991-4e89-bac0-1cbcd157df0a\")>,\n",
       " <selenium.webdriver.remote.webelement.WebElement (session=\"c94db60c4b00408d7b47c4439ced4da8\", element=\"ff64f6f3-4c01-43fc-bcb9-117369da22a4\")>,\n",
       " <selenium.webdriver.remote.webelement.WebElement (session=\"c94db60c4b00408d7b47c4439ced4da8\", element=\"5bb8ef21-f052-47b5-b0a1-8ba03c099823\")>,\n",
       " <selenium.webdriver.remote.webelement.WebElement (session=\"c94db60c4b00408d7b47c4439ced4da8\", element=\"eec83073-8393-449c-975c-15be557d2af1\")>]"
      ]
     },
     "execution_count": 356,
     "metadata": {},
     "output_type": "execute_result"
    }
   ],
   "source": [
    "full_salary=driver.find_elements_by_xpath(\"//div[@class='d-flex mt-xxsm css-79elbk epuxyqn0']//p\")\n",
    "full_salary"
   ]
  },
  {
   "cell_type": "code",
   "execution_count": 363,
   "metadata": {},
   "outputs": [
    {
     "data": {
      "text/plain": [
       "['₹4L',\n",
       " '₹13L',\n",
       " '₹1L',\n",
       " '₹28L',\n",
       " '₹6L',\n",
       " '₹23L',\n",
       " '₹5L',\n",
       " '₹1Cr',\n",
       " '₹4L',\n",
       " '₹17L',\n",
       " '₹8L',\n",
       " '₹16L',\n",
       " '₹8L',\n",
       " '₹20L',\n",
       " '₹10L',\n",
       " '₹18L',\n",
       " '₹5L',\n",
       " '₹15L',\n",
       " '₹6L',\n",
       " '₹16L',\n",
       " '₹4L',\n",
       " '₹13L',\n",
       " '₹2L',\n",
       " '₹19L',\n",
       " '₹4L',\n",
       " '₹21L',\n",
       " '₹6L',\n",
       " '₹17L',\n",
       " '₹10L',\n",
       " '₹21L',\n",
       " '₹8L',\n",
       " '₹21L',\n",
       " '₹10L',\n",
       " '₹30L',\n",
       " '₹25T',\n",
       " '₹1L',\n",
       " '₹9L',\n",
       " '₹15L',\n",
       " '₹12T',\n",
       " '₹64T']"
      ]
     },
     "execution_count": 363,
     "metadata": {},
     "output_type": "execute_result"
    }
   ],
   "source": [
    "full_salaries=[]\n",
    "for i in full_salary:\n",
    "    full_salaries.append(i.text.replace('\\n',''))\n",
    "full_salaries"
   ]
  },
  {
   "cell_type": "code",
   "execution_count": 364,
   "metadata": {},
   "outputs": [
    {
     "data": {
      "text/plain": [
       "['₹4L',\n",
       " '₹1L',\n",
       " '₹6L',\n",
       " '₹5L',\n",
       " '₹4L',\n",
       " '₹8L',\n",
       " '₹8L',\n",
       " '₹10L',\n",
       " '₹5L',\n",
       " '₹6L',\n",
       " '₹4L',\n",
       " '₹2L',\n",
       " '₹4L',\n",
       " '₹6L',\n",
       " '₹10L',\n",
       " '₹8L',\n",
       " '₹10L',\n",
       " '₹25T',\n",
       " '₹9L',\n",
       " '₹12T']"
      ]
     },
     "execution_count": 364,
     "metadata": {},
     "output_type": "execute_result"
    }
   ],
   "source": [
    "min_salaries=[]\n",
    "for i in range(0,len(full_salaries),2):\n",
    "    min_salaries.append(full_salaries[i])\n",
    "min_salaries"
   ]
  },
  {
   "cell_type": "code",
   "execution_count": 365,
   "metadata": {},
   "outputs": [
    {
     "data": {
      "text/plain": [
       "['₹13L',\n",
       " '₹28L',\n",
       " '₹23L',\n",
       " '₹1Cr',\n",
       " '₹17L',\n",
       " '₹16L',\n",
       " '₹20L',\n",
       " '₹18L',\n",
       " '₹15L',\n",
       " '₹16L',\n",
       " '₹13L',\n",
       " '₹19L',\n",
       " '₹21L',\n",
       " '₹17L',\n",
       " '₹21L',\n",
       " '₹21L',\n",
       " '₹30L',\n",
       " '₹1L',\n",
       " '₹15L',\n",
       " '₹64T']"
      ]
     },
     "execution_count": 365,
     "metadata": {},
     "output_type": "execute_result"
    }
   ],
   "source": [
    "max_salaries=[]\n",
    "for i in range(1,len(full_salaries),2):\n",
    "    max_salaries.append(full_salaries[i])\n",
    "max_salaries"
   ]
  },
  {
   "cell_type": "code",
   "execution_count": 369,
   "metadata": {},
   "outputs": [
    {
     "name": "stdout",
     "output_type": "stream",
     "text": [
      "20 20 20 20 20\n"
     ]
    }
   ],
   "source": [
    "print(len(Company_names),len(No_of_salaries),len(Average_salaries),len(min_salaries),len(max_salaries))"
   ]
  },
  {
   "cell_type": "code",
   "execution_count": 371,
   "metadata": {},
   "outputs": [
    {
     "data": {
      "text/html": [
       "<div>\n",
       "<style scoped>\n",
       "    .dataframe tbody tr th:only-of-type {\n",
       "        vertical-align: middle;\n",
       "    }\n",
       "\n",
       "    .dataframe tbody tr th {\n",
       "        vertical-align: top;\n",
       "    }\n",
       "\n",
       "    .dataframe thead th {\n",
       "        text-align: right;\n",
       "    }\n",
       "</style>\n",
       "<table border=\"1\" class=\"dataframe\">\n",
       "  <thead>\n",
       "    <tr style=\"text-align: right;\">\n",
       "      <th></th>\n",
       "      <th>Company_names</th>\n",
       "      <th>No_of_salaries</th>\n",
       "      <th>Average_salaries</th>\n",
       "      <th>min_salaries</th>\n",
       "      <th>max_salaries</th>\n",
       "    </tr>\n",
       "  </thead>\n",
       "  <tbody>\n",
       "    <tr>\n",
       "      <th>0</th>\n",
       "      <td>Tata Consultancy Services</td>\n",
       "      <td>22 salaries</td>\n",
       "      <td>₹6,28,021</td>\n",
       "      <td>₹4L</td>\n",
       "      <td>₹13L</td>\n",
       "    </tr>\n",
       "    <tr>\n",
       "      <th>1</th>\n",
       "      <td>IBM</td>\n",
       "      <td>20 salaries</td>\n",
       "      <td>₹9,08,246</td>\n",
       "      <td>₹1L</td>\n",
       "      <td>₹28L</td>\n",
       "    </tr>\n",
       "    <tr>\n",
       "      <th>2</th>\n",
       "      <td>Accenture</td>\n",
       "      <td>15 salaries</td>\n",
       "      <td>₹11,93,390</td>\n",
       "      <td>₹6L</td>\n",
       "      <td>₹23L</td>\n",
       "    </tr>\n",
       "    <tr>\n",
       "      <th>3</th>\n",
       "      <td>Delhivery</td>\n",
       "      <td>15 salaries</td>\n",
       "      <td>₹12,49,716</td>\n",
       "      <td>₹5L</td>\n",
       "      <td>₹1Cr</td>\n",
       "    </tr>\n",
       "    <tr>\n",
       "      <th>4</th>\n",
       "      <td>Ericsson-Worldwide</td>\n",
       "      <td>14 salaries</td>\n",
       "      <td>₹7,58,335</td>\n",
       "      <td>₹4L</td>\n",
       "      <td>₹17L</td>\n",
       "    </tr>\n",
       "    <tr>\n",
       "      <th>5</th>\n",
       "      <td>UnitedHealth Group</td>\n",
       "      <td>14 salaries</td>\n",
       "      <td>₹12,80,000</td>\n",
       "      <td>₹8L</td>\n",
       "      <td>₹16L</td>\n",
       "    </tr>\n",
       "    <tr>\n",
       "      <th>6</th>\n",
       "      <td>Optum</td>\n",
       "      <td>11 salaries</td>\n",
       "      <td>₹12,70,000</td>\n",
       "      <td>₹8L</td>\n",
       "      <td>₹20L</td>\n",
       "    </tr>\n",
       "    <tr>\n",
       "      <th>7</th>\n",
       "      <td>Optum Global Solutions</td>\n",
       "      <td>10 salaries</td>\n",
       "      <td>₹14,55,430</td>\n",
       "      <td>₹10L</td>\n",
       "      <td>₹18L</td>\n",
       "    </tr>\n",
       "    <tr>\n",
       "      <th>8</th>\n",
       "      <td>Valiance Solutions</td>\n",
       "      <td>10 salaries</td>\n",
       "      <td>₹8,86,064</td>\n",
       "      <td>₹5L</td>\n",
       "      <td>₹15L</td>\n",
       "    </tr>\n",
       "    <tr>\n",
       "      <th>9</th>\n",
       "      <td>EXL Service</td>\n",
       "      <td>9 salaries</td>\n",
       "      <td>₹11,10,000</td>\n",
       "      <td>₹6L</td>\n",
       "      <td>₹16L</td>\n",
       "    </tr>\n",
       "  </tbody>\n",
       "</table>\n",
       "</div>"
      ],
      "text/plain": [
       "               Company_names No_of_salaries Average_salaries min_salaries  \\\n",
       "0  Tata Consultancy Services    22 salaries        ₹6,28,021          ₹4L   \n",
       "1                        IBM    20 salaries        ₹9,08,246          ₹1L   \n",
       "2                  Accenture    15 salaries       ₹11,93,390          ₹6L   \n",
       "3                  Delhivery    15 salaries       ₹12,49,716          ₹5L   \n",
       "4         Ericsson-Worldwide    14 salaries        ₹7,58,335          ₹4L   \n",
       "5         UnitedHealth Group    14 salaries       ₹12,80,000          ₹8L   \n",
       "6                      Optum    11 salaries       ₹12,70,000          ₹8L   \n",
       "7     Optum Global Solutions    10 salaries       ₹14,55,430         ₹10L   \n",
       "8         Valiance Solutions    10 salaries        ₹8,86,064          ₹5L   \n",
       "9                EXL Service     9 salaries       ₹11,10,000          ₹6L   \n",
       "\n",
       "  max_salaries  \n",
       "0         ₹13L  \n",
       "1         ₹28L  \n",
       "2         ₹23L  \n",
       "3         ₹1Cr  \n",
       "4         ₹17L  \n",
       "5         ₹16L  \n",
       "6         ₹20L  \n",
       "7         ₹18L  \n",
       "8         ₹15L  \n",
       "9         ₹16L  "
      ]
     },
     "execution_count": 371,
     "metadata": {},
     "output_type": "execute_result"
    }
   ],
   "source": [
    "jobs5=pd.DataFrame({})\n",
    "jobs5['Company_names']=Company_names[0:10]\n",
    "jobs5['No_of_salaries']=No_of_salaries[0:10]\n",
    "jobs5['Average_salaries']=Average_salaries[0:10]\n",
    "jobs5['min_salaries']=min_salaries[0:10]\n",
    "jobs5['max_salaries']=max_salaries[0:10]\n",
    "jobs5"
   ]
  },
  {
   "cell_type": "markdown",
   "metadata": {},
   "source": [
    "Q6 : Scrape data of first 100 sunglasses listings on flipkart.com. You have to \n",
    "scrape four attributes."
   ]
  },
  {
   "cell_type": "code",
   "execution_count": 372,
   "metadata": {},
   "outputs": [],
   "source": [
    "driver = webdriver.Chrome(\"Chromedriver.exe\")"
   ]
  },
  {
   "cell_type": "code",
   "execution_count": 373,
   "metadata": {},
   "outputs": [],
   "source": [
    "url='https://www.flipkart.com/'\n",
    "driver.get(url)"
   ]
  },
  {
   "cell_type": "code",
   "execution_count": 374,
   "metadata": {},
   "outputs": [],
   "source": [
    "search=driver.find_element_by_xpath(\"//div[@class='_3OO5Xc']//input\")\n",
    "search.send_keys(\"Sunglasses\")"
   ]
  },
  {
   "cell_type": "code",
   "execution_count": 375,
   "metadata": {},
   "outputs": [],
   "source": [
    "search_btn=driver.find_element_by_xpath(\"//button[@class='L0Z3Pu']\")\n",
    "search_btn.click()"
   ]
  },
  {
   "cell_type": "code",
   "execution_count": 376,
   "metadata": {},
   "outputs": [
    {
     "data": {
      "text/plain": [
       "['https://www.flipkart.com/search?q=Sunglasses&otracker=search&otracker1=search&marketplace=FLIPKART&as-show=on&as=off&page=1',\n",
       " 'https://www.flipkart.com/search?q=Sunglasses&otracker=search&otracker1=search&marketplace=FLIPKART&as-show=on&as=off&page=2',\n",
       " 'https://www.flipkart.com/search?q=Sunglasses&otracker=search&otracker1=search&marketplace=FLIPKART&as-show=on&as=off&page=3']"
      ]
     },
     "execution_count": 376,
     "metadata": {},
     "output_type": "execute_result"
    }
   ],
   "source": [
    "page_url=[]\n",
    "url = driver.find_elements_by_xpath(\"//nav[@class='yFHi8N']//a\")[:3]\n",
    "for i in url:\n",
    "    page_url.append(i.get_attribute('href'))\n",
    "page_url"
   ]
  },
  {
   "cell_type": "code",
   "execution_count": 377,
   "metadata": {},
   "outputs": [
    {
     "data": {
      "text/plain": [
       "['PIRASO',\n",
       " 'PIRASO',\n",
       " 'Elligator',\n",
       " 'SHAAH COLLECTIONS',\n",
       " 'kingsunglasses',\n",
       " 'ROZZETTA CRAFT',\n",
       " 'PIRASO',\n",
       " 'PIRASO',\n",
       " 'kingsunglasses',\n",
       " 'Fastrack',\n",
       " 'ROZZETTA CRAFT',\n",
       " 'AISLIN',\n",
       " 'DEIXELS',\n",
       " 'SHAAH COLLECTIONS',\n",
       " 'PIRASO',\n",
       " 'Singco India',\n",
       " 'SUNBEE',\n",
       " 'ROYAL SON',\n",
       " 'PIRASO',\n",
       " 'ROYAL SON',\n",
       " 'SHAAH COLLECTIONS',\n",
       " 'Fastrack',\n",
       " 'PHENOMENAL',\n",
       " 'ROYAL SON',\n",
       " 'OCCARIO',\n",
       " 'ROZZETTA CRAFT',\n",
       " 'ROZZETTA CRAFT',\n",
       " 'PIRASO',\n",
       " 'Fastrack',\n",
       " 'Silver Kartz',\n",
       " 'New Specs',\n",
       " 'ROYAL SON',\n",
       " 'hipe',\n",
       " 'Elligator',\n",
       " 'povty',\n",
       " 'ROYAL SON',\n",
       " 'ROYAL SON',\n",
       " 'Fastrack',\n",
       " 'Rich Club',\n",
       " 'ROYAL SON',\n",
       " 'Fastrack',\n",
       " 'GANSTA',\n",
       " 'NuVew',\n",
       " 'PIRASO',\n",
       " 'GANSTA',\n",
       " 'Singco India',\n",
       " 'Fastrack',\n",
       " 'ROYAL SON',\n",
       " 'GANSTA',\n",
       " 'SUNBEE',\n",
       " 'kingsunglasses',\n",
       " 'PIRASO',\n",
       " 'Elligator',\n",
       " 'kingsunglasses',\n",
       " 'hipe',\n",
       " 'PIRASO',\n",
       " 'PHENOMENAL',\n",
       " 'GANSTA',\n",
       " 'PHENOMENAL',\n",
       " 'PIRASO',\n",
       " 'DEIXELS',\n",
       " 'Fastrack',\n",
       " 'Rich Club',\n",
       " 'AISLIN',\n",
       " 'Singco India',\n",
       " 'hipe',\n",
       " 'Silver Kartz',\n",
       " 'PIRASO',\n",
       " 'Fastrack',\n",
       " 'Cruze',\n",
       " 'ROYAL SON',\n",
       " 'ROYAL SON',\n",
       " 'kingsunglasses',\n",
       " 'SUNBEE',\n",
       " 'Elligator',\n",
       " 'PIRASO',\n",
       " 'Badfella',\n",
       " 'PHENOMENAL',\n",
       " 'Singco India',\n",
       " 'ROYAL SON',\n",
       " 'PIRASO',\n",
       " 'AISLIN',\n",
       " 'Fastrack',\n",
       " 'PIRASO',\n",
       " 'kingsunglasses',\n",
       " 'ROYAL SON',\n",
       " 'Fastrack',\n",
       " 'PIRASO',\n",
       " 'AISLIN',\n",
       " 'elegante',\n",
       " 'Fastrack',\n",
       " 'ROYAL SON',\n",
       " 'PHENOMENAL',\n",
       " 'PHENOMENAL',\n",
       " 'AISLIN',\n",
       " 'PIRASO',\n",
       " 'hipe',\n",
       " 'ROYAL SON',\n",
       " 'NuVew',\n",
       " 'PIRASO',\n",
       " 'ROYAL SON',\n",
       " 'Fastrack',\n",
       " 'AISLIN',\n",
       " 'PIRASO',\n",
       " 'ROYAL SON',\n",
       " 'ROYAL SON',\n",
       " 'kingsunglasses',\n",
       " 'AISLIN',\n",
       " 'kingsunglasses',\n",
       " 'Poloport',\n",
       " 'AISLIN',\n",
       " 'PIRASO',\n",
       " 'SUNBEE',\n",
       " 'ROYAL SON',\n",
       " 'GANSTA',\n",
       " 'KHALEEFA',\n",
       " 'ROZZETTA CRAFT',\n",
       " 'Elligator',\n",
       " 'AISLIN',\n",
       " 'ROYAL SON']"
      ]
     },
     "execution_count": 377,
     "metadata": {},
     "output_type": "execute_result"
    }
   ],
   "source": [
    "brands=[]\n",
    "for i in page_url:\n",
    "    driver.get(i)\n",
    "    brand=driver.find_elements_by_xpath(\"//div[@class='_2WkVRV']\")[:100]\n",
    "    for i in brand:\n",
    "        brands.append(i.text)\n",
    "brands"
   ]
  },
  {
   "cell_type": "code",
   "execution_count": 378,
   "metadata": {},
   "outputs": [
    {
     "data": {
      "text/plain": [
       "['UV Protection Aviator Sunglasses (Free Size)',\n",
       " 'UV Protection Wayfarer Sunglasses (32)',\n",
       " 'UV Protection Round Sunglasses (54)',\n",
       " 'UV Protection, Polarized, Mirrored Rectangular Sunglass...',\n",
       " 'Mirrored, UV Protection Wayfarer Sunglasses (Free Size)',\n",
       " 'UV Protection, Gradient Rectangular Sunglasses (Free Si...',\n",
       " 'UV Protection Aviator Sunglasses (54)',\n",
       " 'UV Protection Rectangular, Over-sized Sunglasses (Free ...',\n",
       " 'UV Protection Round Sunglasses (54)',\n",
       " 'Gradient, UV Protection Wayfarer Sunglasses (Free Size)',\n",
       " 'UV Protection Retro Square Sunglasses (Free Size)',\n",
       " 'UV Protection, Gradient Wayfarer, Clubmaster Sunglasses...',\n",
       " 'UV Protection Aviator, Wayfarer Sunglasses (Free Size)',\n",
       " 'UV Protection, Polarized, Mirrored Rectangular Sunglass...',\n",
       " 'UV Protection Aviator Sunglasses (54)',\n",
       " 'Mirrored, UV Protection, Riding Glasses, Others Wrap-ar...',\n",
       " 'UV Protection, Polarized, Mirrored Wayfarer Sunglasses ...',\n",
       " 'UV Protection Rectangular Sunglasses (58)',\n",
       " 'UV Protection Aviator Sunglasses (54)',\n",
       " 'Polarized, UV Protection Round Sunglasses (49)',\n",
       " 'UV Protection Round Sunglasses (Free Size)',\n",
       " 'UV Protection Aviator Sunglasses (Free Size)',\n",
       " 'UV Protection Retro Square Sunglasses (Free Size)',\n",
       " 'Others Round Sunglasses (52)',\n",
       " 'UV Protection, Riding Glasses Rectangular Sunglasses (F...',\n",
       " 'UV Protection, Gradient Round Sunglasses (Free Size)',\n",
       " 'UV Protection Aviator Sunglasses (54)',\n",
       " 'UV Protection Wayfarer Sunglasses (Free Size)',\n",
       " 'UV Protection Wayfarer Sunglasses (Free Size)',\n",
       " 'Mirrored, UV Protection, Riding Glasses, Others Round S...',\n",
       " 'UV Protection, Gradient Over-sized Sunglasses (59)',\n",
       " 'UV Protection, Gradient, Mirrored, Riding Glasses Aviat...',\n",
       " 'UV Protection Round Sunglasses (55)',\n",
       " 'UV Protection Wayfarer Sunglasses (Free Size)',\n",
       " 'UV Protection Over-sized Sunglasses (65)',\n",
       " 'Mirrored Aviator Sunglasses (55)',\n",
       " 'UV Protection Wayfarer Sunglasses (56)',\n",
       " 'UV Protection, Mirrored, Gradient Round Sunglasses (51)',\n",
       " 'Polarized, UV Protection Rectangular Sunglasses (59)',\n",
       " 'UV Protection Wayfarer Sunglasses (55)',\n",
       " 'Night Vision, Riding Glasses Wayfarer Sunglasses (53)',\n",
       " 'UV Protection Sports Sunglasses (62)',\n",
       " 'UV Protection Wayfarer Sunglasses (32)',\n",
       " 'UV Protection Aviator Sunglasses (57)',\n",
       " 'UV Protection Aviator Sunglasses (Free Size)',\n",
       " 'UV Protection Aviator Sunglasses (58)',\n",
       " 'Mirrored Aviator Sunglasses (55)',\n",
       " 'UV Protection, Gradient Aviator Sunglasses (55)',\n",
       " 'UV Protection, Polarized, Mirrored Wayfarer Sunglasses ...',\n",
       " 'UV Protection Round Sunglasses (Free Size)',\n",
       " 'UV Protection Aviator Sunglasses (54)',\n",
       " 'UV Protection, Riding Glasses Rectangular, Retro Square...',\n",
       " 'UV Protection, Mirrored Round Sunglasses (Free Size)',\n",
       " 'UV Protection, Night Vision, Riding Glasses, Gradient, ...',\n",
       " 'UV Protection Rectangular, Over-sized Sunglasses (Free ...',\n",
       " 'UV Protection Clubmaster Sunglasses (Free Size)',\n",
       " 'UV Protection, Night Vision, Riding Glasses Aviator Sun...',\n",
       " 'UV Protection Round Sunglasses (53)',\n",
       " 'UV Protection Aviator Sunglasses (54)',\n",
       " 'Polarized, UV Protection, Riding Glasses Wayfarer Sungl...',\n",
       " 'UV Protection Wayfarer Sunglasses (57)',\n",
       " 'UV Protection, Others Round Sunglasses (48)',\n",
       " 'UV Protection, Gradient Wayfarer, Clubmaster Sunglasses...',\n",
       " 'Mirrored, UV Protection, Riding Glasses, Others Wrap-ar...',\n",
       " 'UV Protection, Night Vision, Gradient, Mirrored Round, ...',\n",
       " 'UV Protection Oval Sunglasses (56)',\n",
       " 'UV Protection Aviator Sunglasses (58)',\n",
       " 'UV Protection Wayfarer Sunglasses (Free Size)',\n",
       " 'UV Protection Aviator Sunglasses (Free Size)',\n",
       " 'UV Protection Wayfarer Sunglasses (55)',\n",
       " 'Polarized, UV Protection Round Sunglasses (49)',\n",
       " 'UV Protection, Riding Glasses, Mirrored Wayfarer Sungla...',\n",
       " 'UV Protection, Polarized, Mirrored Wayfarer Sunglasses ...',\n",
       " 'UV Protection, Riding Glasses Rectangular, Retro Square...',\n",
       " 'UV Protection Aviator Sunglasses (54)',\n",
       " 'Polarized, UV Protection Retro Square Sunglasses (53)',\n",
       " 'UV Protection, Mirrored, Gradient Retro Square Sunglass...',\n",
       " 'UV Protection, Riding Glasses, Others Aviator, Wayfarer...',\n",
       " 'UV Protection, Polarized Aviator Sunglasses (32)',\n",
       " 'UV Protection, Gradient Butterfly, Retro Square Sunglas...',\n",
       " 'UV Protection Shield Sunglasses (Free Size)',\n",
       " 'UV Protection Aviator Sunglasses (Free Size)',\n",
       " 'UV Protection Rectangular Sunglasses (Free Size)',\n",
       " 'UV Protection Over-sized Sunglasses (60)',\n",
       " 'UV Protection Wrap-around Sunglasses (Free Size)',\n",
       " 'UV Protection Wayfarer Sunglasses (32)',\n",
       " 'UV Protection Round Sunglasses (55)',\n",
       " 'Mirrored Round Sunglasses (Free Size)',\n",
       " 'UV Protection Aviator Sunglasses (58)',\n",
       " 'Mirrored Aviator Sunglasses (55)',\n",
       " 'UV Protection, Mirrored Clubmaster Sunglasses (Free Siz...',\n",
       " 'UV Protection, Mirrored Round Sunglasses (Free Size)',\n",
       " 'UV Protection, Gradient Oval Sunglasses (58)',\n",
       " 'UV Protection Aviator Sunglasses (54)',\n",
       " 'Mirrored, UV Protection, Gradient Round Sunglasses (55)',\n",
       " 'Mirrored Aviator Sunglasses (Free Size)',\n",
       " 'UV Protection Wayfarer, Rectangular Sunglasses (57)',\n",
       " 'UV Protection Rectangular, Over-sized Sunglasses (Free ...',\n",
       " 'UV Protection Retro Square Sunglasses (58)',\n",
       " 'Mirrored, UV Protection Wayfarer Sunglasses (Free Size)',\n",
       " 'UV Protection, Gradient Butterfly, Retro Square Sunglas...',\n",
       " 'UV Protection Aviator Sunglasses (54)',\n",
       " 'Polarized, UV Protection Rectangular Sunglasses (59)',\n",
       " 'UV Protection Retro Square Sunglasses (88)',\n",
       " 'Mirrored, UV Protection Wayfarer Sunglasses (53)',\n",
       " 'UV Protection, Gradient Wayfarer, Clubmaster Sunglasses...',\n",
       " 'UV Protection Round Sunglasses (Free Size)',\n",
       " 'UV Protection Wayfarer Sunglasses (Free Size)',\n",
       " 'UV Protection, Gradient Cat-eye Sunglasses (61)',\n",
       " 'UV Protection Aviator Sunglasses (58)',\n",
       " 'UV Protection, Polarized, Mirrored Wayfarer Sunglasses ...',\n",
       " 'Polarized, UV Protection Aviator Sunglasses (58)',\n",
       " 'UV Protection Wayfarer Sunglasses (54)',\n",
       " 'UV Protection, Gradient Retro Square Sunglasses (Free S...',\n",
       " 'UV Protection Retro Square, Aviator Sunglasses (54)',\n",
       " 'UV Protection, Gradient Butterfly, Retro Square Sunglas...',\n",
       " 'Polarized, UV Protection Round Sunglasses (49)']"
      ]
     },
     "execution_count": 378,
     "metadata": {},
     "output_type": "execute_result"
    }
   ],
   "source": [
    "product_description=[]\n",
    "for i in page_url:\n",
    "    driver.get(i)\n",
    "    product_discrip=driver.find_elements_by_xpath(\"//a[@class='IRpwTa']\")[:100]\n",
    "    for i in product_discrip:\n",
    "        product_description.append(i.text)\n",
    "product_description"
   ]
  },
  {
   "cell_type": "code",
   "execution_count": 379,
   "metadata": {},
   "outputs": [
    {
     "data": {
      "text/plain": [
       "['₹331',\n",
       " '₹237',\n",
       " '₹295',\n",
       " '₹198',\n",
       " '₹284',\n",
       " '₹404',\n",
       " '₹237',\n",
       " '₹399',\n",
       " '₹213',\n",
       " '₹509',\n",
       " '₹499',\n",
       " '₹525',\n",
       " '₹202',\n",
       " '₹215',\n",
       " '₹237',\n",
       " '₹369',\n",
       " '₹265',\n",
       " '₹474',\n",
       " '₹237',\n",
       " '₹331',\n",
       " '₹331',\n",
       " '₹520',\n",
       " '₹399',\n",
       " '₹664',\n",
       " '₹179',\n",
       " '₹449',\n",
       " '₹449',\n",
       " '₹664',\n",
       " '₹859',\n",
       " '₹246',\n",
       " '₹299',\n",
       " '₹237',\n",
       " '₹209',\n",
       " '₹266',\n",
       " '₹349',\n",
       " '₹664',\n",
       " '₹379',\n",
       " '₹369',\n",
       " '₹215',\n",
       " '₹664',\n",
       " '₹610',\n",
       " '₹209',\n",
       " '₹345',\n",
       " '₹237',\n",
       " '₹284',\n",
       " '₹334',\n",
       " '₹1,239',\n",
       " '₹379',\n",
       " '₹289',\n",
       " '₹314',\n",
       " '₹331',\n",
       " '₹237',\n",
       " '₹398',\n",
       " '₹260',\n",
       " '₹210',\n",
       " '₹399',\n",
       " '₹319',\n",
       " '₹295',\n",
       " '₹295',\n",
       " '₹237',\n",
       " '₹236',\n",
       " '₹499',\n",
       " '₹299',\n",
       " '₹525',\n",
       " '₹331',\n",
       " '₹210',\n",
       " '₹284',\n",
       " '₹399',\n",
       " '₹854',\n",
       " '₹499',\n",
       " '₹248',\n",
       " '₹664',\n",
       " '₹217',\n",
       " '₹284',\n",
       " '₹398',\n",
       " '₹237',\n",
       " '₹269',\n",
       " '₹259',\n",
       " '₹225',\n",
       " '₹664',\n",
       " '₹208',\n",
       " '₹498',\n",
       " '₹859',\n",
       " '₹331',\n",
       " '₹197',\n",
       " '₹664',\n",
       " '₹738',\n",
       " '₹237',\n",
       " '₹648',\n",
       " '₹399',\n",
       " '₹949',\n",
       " '₹379',\n",
       " '₹319',\n",
       " '₹228',\n",
       " '₹498',\n",
       " '₹237',\n",
       " '₹210',\n",
       " '₹399',\n",
       " '₹375',\n",
       " '₹399',\n",
       " '₹474',\n",
       " '₹959',\n",
       " '₹498',\n",
       " '₹237',\n",
       " '₹664',\n",
       " '₹569',\n",
       " '₹314',\n",
       " '₹525',\n",
       " '₹299',\n",
       " '₹314',\n",
       " '₹498',\n",
       " '₹399',\n",
       " '₹314',\n",
       " '₹711',\n",
       " '₹211',\n",
       " '₹369',\n",
       " '₹404',\n",
       " '₹312',\n",
       " '₹545',\n",
       " '₹664']"
      ]
     },
     "execution_count": 379,
     "metadata": {},
     "output_type": "execute_result"
    }
   ],
   "source": [
    "price=[]\n",
    "for i in page_url:\n",
    "    driver.get(i)\n",
    "    pri=driver.find_elements_by_xpath(\"//div[@class='_30jeq3']\")[:100]\n",
    "    for i in pri:\n",
    "        price.append(i.text)\n",
    "price"
   ]
  },
  {
   "cell_type": "code",
   "execution_count": 380,
   "metadata": {},
   "outputs": [
    {
     "data": {
      "text/plain": [
       "['79% off',\n",
       " '85% off',\n",
       " '88% off',\n",
       " '88% off',\n",
       " '89% off',\n",
       " '79% off',\n",
       " '85% off',\n",
       " '86% off',\n",
       " '80% off',\n",
       " '36% off',\n",
       " '77% off',\n",
       " '65% off',\n",
       " '83% off',\n",
       " '78% off',\n",
       " '85% off',\n",
       " '83% off',\n",
       " '73% off',\n",
       " '68% off',\n",
       " '85% off',\n",
       " '66% off',\n",
       " '80% off',\n",
       " '34% off',\n",
       " '80% off',\n",
       " '66% off',\n",
       " '69% off',\n",
       " '79% off',\n",
       " '77% off',\n",
       " '85% off',\n",
       " '4% off',\n",
       " '83% off',\n",
       " '81% off',\n",
       " '66% off',\n",
       " '79% off',\n",
       " '86% off',\n",
       " '65% off',\n",
       " '55% off',\n",
       " '74% off',\n",
       " '58% off',\n",
       " '73% off',\n",
       " '55% off',\n",
       " '23% off',\n",
       " '88% off',\n",
       " '72% off',\n",
       " '85% off',\n",
       " '85% off',\n",
       " '72% off',\n",
       " '4% off',\n",
       " '74% off',\n",
       " '85% off',\n",
       " '75% off',\n",
       " '79% off',\n",
       " '85% off',\n",
       " '73% off',\n",
       " '84% off',\n",
       " '83% off',\n",
       " '86% off',\n",
       " '84% off',\n",
       " '85% off',\n",
       " '87% off',\n",
       " '85% off',\n",
       " '60% off',\n",
       " '37% off',\n",
       " '62% off',\n",
       " '65% off',\n",
       " '83% off',\n",
       " '78% off',\n",
       " '76% off',\n",
       " '84% off',\n",
       " '5% off',\n",
       " '61% off',\n",
       " '80% off',\n",
       " '66% off',\n",
       " '81% off',\n",
       " '71% off',\n",
       " '73% off',\n",
       " '85% off',\n",
       " '73% off',\n",
       " '87% off',\n",
       " '67% off',\n",
       " '66% off',\n",
       " '86% off',\n",
       " '67% off',\n",
       " '4% off',\n",
       " '79% off',\n",
       " '83% off',\n",
       " '66% off',\n",
       " '32% off',\n",
       " '85% off',\n",
       " '69% off',\n",
       " '80% off',\n",
       " '26% off',\n",
       " '74% off',\n",
       " '84% off',\n",
       " '88% off',\n",
       " '67% off',\n",
       " '85% off',\n",
       " '85% off',\n",
       " '73% off',\n",
       " '64% off',\n",
       " '86% off',\n",
       " '68% off',\n",
       " '4% off',\n",
       " '67% off',\n",
       " '85% off',\n",
       " '55% off',\n",
       " '71% off',\n",
       " '84% off',\n",
       " '65% off',\n",
       " '82% off',\n",
       " '82% off',\n",
       " '70% off',\n",
       " '84% off',\n",
       " '75% off',\n",
       " '64% off',\n",
       " '73% off',\n",
       " '71% off',\n",
       " '79% off',\n",
       " '84% off',\n",
       " '64% off',\n",
       " '83% off']"
      ]
     },
     "execution_count": 380,
     "metadata": {},
     "output_type": "execute_result"
    }
   ],
   "source": [
    "discount=[]\n",
    "for i in page_url:\n",
    "    driver.get(i)\n",
    "    disc=driver.find_elements_by_xpath(\"//div[@class='_3Ay6Sb']//span\")[:100]\n",
    "    for i in disc:\n",
    "        discount.append(i.text)\n",
    "discount"
   ]
  },
  {
   "cell_type": "code",
   "execution_count": 381,
   "metadata": {},
   "outputs": [
    {
     "data": {
      "text/html": [
       "<div>\n",
       "<style scoped>\n",
       "    .dataframe tbody tr th:only-of-type {\n",
       "        vertical-align: middle;\n",
       "    }\n",
       "\n",
       "    .dataframe tbody tr th {\n",
       "        vertical-align: top;\n",
       "    }\n",
       "\n",
       "    .dataframe thead th {\n",
       "        text-align: right;\n",
       "    }\n",
       "</style>\n",
       "<table border=\"1\" class=\"dataframe\">\n",
       "  <thead>\n",
       "    <tr style=\"text-align: right;\">\n",
       "      <th></th>\n",
       "      <th>brands</th>\n",
       "      <th>product_description</th>\n",
       "      <th>price</th>\n",
       "      <th>discount</th>\n",
       "    </tr>\n",
       "  </thead>\n",
       "  <tbody>\n",
       "    <tr>\n",
       "      <th>0</th>\n",
       "      <td>PIRASO</td>\n",
       "      <td>UV Protection Aviator Sunglasses (Free Size)</td>\n",
       "      <td>₹331</td>\n",
       "      <td>79% off</td>\n",
       "    </tr>\n",
       "    <tr>\n",
       "      <th>1</th>\n",
       "      <td>PIRASO</td>\n",
       "      <td>UV Protection Wayfarer Sunglasses (32)</td>\n",
       "      <td>₹237</td>\n",
       "      <td>85% off</td>\n",
       "    </tr>\n",
       "    <tr>\n",
       "      <th>2</th>\n",
       "      <td>Elligator</td>\n",
       "      <td>UV Protection Round Sunglasses (54)</td>\n",
       "      <td>₹295</td>\n",
       "      <td>88% off</td>\n",
       "    </tr>\n",
       "    <tr>\n",
       "      <th>3</th>\n",
       "      <td>SHAAH COLLECTIONS</td>\n",
       "      <td>UV Protection, Polarized, Mirrored Rectangular...</td>\n",
       "      <td>₹198</td>\n",
       "      <td>88% off</td>\n",
       "    </tr>\n",
       "    <tr>\n",
       "      <th>4</th>\n",
       "      <td>kingsunglasses</td>\n",
       "      <td>Mirrored, UV Protection Wayfarer Sunglasses (F...</td>\n",
       "      <td>₹284</td>\n",
       "      <td>89% off</td>\n",
       "    </tr>\n",
       "    <tr>\n",
       "      <th>...</th>\n",
       "      <td>...</td>\n",
       "      <td>...</td>\n",
       "      <td>...</td>\n",
       "      <td>...</td>\n",
       "    </tr>\n",
       "    <tr>\n",
       "      <th>95</th>\n",
       "      <td>PIRASO</td>\n",
       "      <td>Mirrored Aviator Sunglasses (Free Size)</td>\n",
       "      <td>₹237</td>\n",
       "      <td>85% off</td>\n",
       "    </tr>\n",
       "    <tr>\n",
       "      <th>96</th>\n",
       "      <td>hipe</td>\n",
       "      <td>UV Protection Wayfarer, Rectangular Sunglasses...</td>\n",
       "      <td>₹210</td>\n",
       "      <td>85% off</td>\n",
       "    </tr>\n",
       "    <tr>\n",
       "      <th>97</th>\n",
       "      <td>ROYAL SON</td>\n",
       "      <td>UV Protection Rectangular, Over-sized Sunglass...</td>\n",
       "      <td>₹399</td>\n",
       "      <td>73% off</td>\n",
       "    </tr>\n",
       "    <tr>\n",
       "      <th>98</th>\n",
       "      <td>NuVew</td>\n",
       "      <td>UV Protection Retro Square Sunglasses (58)</td>\n",
       "      <td>₹375</td>\n",
       "      <td>64% off</td>\n",
       "    </tr>\n",
       "    <tr>\n",
       "      <th>99</th>\n",
       "      <td>PIRASO</td>\n",
       "      <td>Mirrored, UV Protection Wayfarer Sunglasses (F...</td>\n",
       "      <td>₹399</td>\n",
       "      <td>86% off</td>\n",
       "    </tr>\n",
       "  </tbody>\n",
       "</table>\n",
       "<p>100 rows × 4 columns</p>\n",
       "</div>"
      ],
      "text/plain": [
       "               brands                                product_description  \\\n",
       "0              PIRASO       UV Protection Aviator Sunglasses (Free Size)   \n",
       "1              PIRASO             UV Protection Wayfarer Sunglasses (32)   \n",
       "2           Elligator                UV Protection Round Sunglasses (54)   \n",
       "3   SHAAH COLLECTIONS  UV Protection, Polarized, Mirrored Rectangular...   \n",
       "4      kingsunglasses  Mirrored, UV Protection Wayfarer Sunglasses (F...   \n",
       "..                ...                                                ...   \n",
       "95             PIRASO            Mirrored Aviator Sunglasses (Free Size)   \n",
       "96               hipe  UV Protection Wayfarer, Rectangular Sunglasses...   \n",
       "97          ROYAL SON  UV Protection Rectangular, Over-sized Sunglass...   \n",
       "98              NuVew         UV Protection Retro Square Sunglasses (58)   \n",
       "99             PIRASO  Mirrored, UV Protection Wayfarer Sunglasses (F...   \n",
       "\n",
       "   price discount  \n",
       "0   ₹331  79% off  \n",
       "1   ₹237  85% off  \n",
       "2   ₹295  88% off  \n",
       "3   ₹198  88% off  \n",
       "4   ₹284  89% off  \n",
       "..   ...      ...  \n",
       "95  ₹237  85% off  \n",
       "96  ₹210  85% off  \n",
       "97  ₹399  73% off  \n",
       "98  ₹375  64% off  \n",
       "99  ₹399  86% off  \n",
       "\n",
       "[100 rows x 4 columns]"
      ]
     },
     "execution_count": 381,
     "metadata": {},
     "output_type": "execute_result"
    }
   ],
   "source": [
    "df=pd.DataFrame()\n",
    "df['brands']=brands[0:100]\n",
    "df['product_description']=product_description[0:100]\n",
    "df['price']=price[0:100]\n",
    "df['discount']=discount[0:100]\n",
    "df"
   ]
  },
  {
   "cell_type": "markdown",
   "metadata": {},
   "source": [
    "Q7: Scrape 100 reviews data from flipkart.com for iphone11 phone."
   ]
  },
  {
   "cell_type": "code",
   "execution_count": 382,
   "metadata": {},
   "outputs": [],
   "source": [
    "driver=webdriver.Chrome(\"Chromedriver.exe\")"
   ]
  },
  {
   "cell_type": "code",
   "execution_count": 383,
   "metadata": {},
   "outputs": [],
   "source": [
    "url='https://www.flipkart.com/apple-iphone-11-black-64-gb-includes\u0002earpods-power\u0002adapter/p/itm0f37c2240b217?pid=MOBFKCTSVZAXUHGR&lid=LSTMOBFKCTSVZAXUHGREPBFGI&marketplace'\n",
    "driver.get(url)"
   ]
  },
  {
   "cell_type": "code",
   "execution_count": 384,
   "metadata": {},
   "outputs": [],
   "source": [
    "All_reviews=driver.find_element_by_xpath(\"//div[@class='_3UAT2v _16PBlm']//span\")\n",
    "All_reviews.click()"
   ]
  },
  {
   "cell_type": "code",
   "execution_count": 392,
   "metadata": {},
   "outputs": [
    {
     "data": {
      "text/plain": [
       "['https://www.flipkart.com/apple-iphone-11-black-64-gb-includes-earpods-power-adapter/product-reviews/itm0f37c2240b217?pid=MOBFKCTSVZAXUHGR&lid=LSTMOBFKCTSVZAXUHGREPBFGI&marketplace=FLIPKART&page=9',\n",
       " 'https://www.flipkart.com/apple-iphone-11-black-64-gb-includes-earpods-power-adapter/product-reviews/itm0f37c2240b217?pid=MOBFKCTSVZAXUHGR&lid=LSTMOBFKCTSVZAXUHGREPBFGI&marketplace=FLIPKART&page=6',\n",
       " 'https://www.flipkart.com/apple-iphone-11-black-64-gb-includes-earpods-power-adapter/product-reviews/itm0f37c2240b217?pid=MOBFKCTSVZAXUHGR&lid=LSTMOBFKCTSVZAXUHGREPBFGI&marketplace=FLIPKART&page=7',\n",
       " 'https://www.flipkart.com/apple-iphone-11-black-64-gb-includes-earpods-power-adapter/product-reviews/itm0f37c2240b217?pid=MOBFKCTSVZAXUHGR&lid=LSTMOBFKCTSVZAXUHGREPBFGI&marketplace=FLIPKART&page=8',\n",
       " 'https://www.flipkart.com/apple-iphone-11-black-64-gb-includes-earpods-power-adapter/product-reviews/itm0f37c2240b217?pid=MOBFKCTSVZAXUHGR&lid=LSTMOBFKCTSVZAXUHGREPBFGI&marketplace=FLIPKART&page=9',\n",
       " 'https://www.flipkart.com/apple-iphone-11-black-64-gb-includes-earpods-power-adapter/product-reviews/itm0f37c2240b217?pid=MOBFKCTSVZAXUHGR&lid=LSTMOBFKCTSVZAXUHGREPBFGI&marketplace=FLIPKART&page=10',\n",
       " 'https://www.flipkart.com/apple-iphone-11-black-64-gb-includes-earpods-power-adapter/product-reviews/itm0f37c2240b217?pid=MOBFKCTSVZAXUHGR&lid=LSTMOBFKCTSVZAXUHGREPBFGI&marketplace=FLIPKART&page=11',\n",
       " 'https://www.flipkart.com/apple-iphone-11-black-64-gb-includes-earpods-power-adapter/product-reviews/itm0f37c2240b217?pid=MOBFKCTSVZAXUHGR&lid=LSTMOBFKCTSVZAXUHGREPBFGI&marketplace=FLIPKART&page=12',\n",
       " 'https://www.flipkart.com/apple-iphone-11-black-64-gb-includes-earpods-power-adapter/product-reviews/itm0f37c2240b217?pid=MOBFKCTSVZAXUHGR&lid=LSTMOBFKCTSVZAXUHGREPBFGI&marketplace=FLIPKART&page=13',\n",
       " 'https://www.flipkart.com/apple-iphone-11-black-64-gb-includes-earpods-power-adapter/product-reviews/itm0f37c2240b217?pid=MOBFKCTSVZAXUHGR&lid=LSTMOBFKCTSVZAXUHGREPBFGI&marketplace=FLIPKART&page=14']"
      ]
     },
     "execution_count": 392,
     "metadata": {},
     "output_type": "execute_result"
    }
   ],
   "source": [
    "page_url=[]\n",
    "url = driver.find_elements_by_xpath(\"//nav[@class='yFHi8N']//a\")[:10]\n",
    "for i in url:\n",
    "    page_url.append(i.get_attribute('href'))\n",
    "page_url"
   ]
  },
  {
   "cell_type": "code",
   "execution_count": 410,
   "metadata": {},
   "outputs": [
    {
     "data": {
      "text/plain": [
       "['5',\n",
       " '5',\n",
       " '5',\n",
       " '5',\n",
       " '4',\n",
       " '5',\n",
       " '5',\n",
       " '4',\n",
       " '5',\n",
       " '5',\n",
       " '5',\n",
       " '5',\n",
       " '5',\n",
       " '4',\n",
       " '5',\n",
       " '5',\n",
       " '5',\n",
       " '5',\n",
       " '5',\n",
       " '5',\n",
       " '5',\n",
       " '5',\n",
       " '5',\n",
       " '5',\n",
       " '5',\n",
       " '4',\n",
       " '5',\n",
       " '5',\n",
       " '5',\n",
       " '4',\n",
       " '5',\n",
       " '5',\n",
       " '5',\n",
       " '4',\n",
       " '5',\n",
       " '5',\n",
       " '5',\n",
       " '5',\n",
       " '5',\n",
       " '5',\n",
       " '5',\n",
       " '5',\n",
       " '5',\n",
       " '4',\n",
       " '5',\n",
       " '5',\n",
       " '4',\n",
       " '5',\n",
       " '5',\n",
       " '5',\n",
       " '5',\n",
       " '5',\n",
       " '5',\n",
       " '5',\n",
       " '5',\n",
       " '5',\n",
       " '5',\n",
       " '3',\n",
       " '5',\n",
       " '5',\n",
       " '5',\n",
       " '5',\n",
       " '4',\n",
       " '5',\n",
       " '4',\n",
       " '5',\n",
       " '4',\n",
       " '3',\n",
       " '5',\n",
       " '5',\n",
       " '5',\n",
       " '5',\n",
       " '5',\n",
       " '5',\n",
       " '5',\n",
       " '5',\n",
       " '5',\n",
       " '5',\n",
       " '5',\n",
       " '5',\n",
       " '4',\n",
       " '5',\n",
       " '5',\n",
       " '4',\n",
       " '5',\n",
       " '5',\n",
       " '5',\n",
       " '5',\n",
       " '5',\n",
       " '5',\n",
       " '5',\n",
       " '5',\n",
       " '5',\n",
       " '5',\n",
       " '5',\n",
       " '5',\n",
       " '4',\n",
       " '5']"
      ]
     },
     "execution_count": 410,
     "metadata": {},
     "output_type": "execute_result"
    }
   ],
   "source": [
    "ratings=[]\n",
    "for i in page_url:\n",
    "    driver.get(i)\n",
    "    rate=driver.find_elements_by_xpath(\"//div[@class='_3LWZlK _1BLPMq']\")\n",
    "    for i in rate:\n",
    "        ratings.append(i.text)\n",
    "ratings"
   ]
  },
  {
   "cell_type": "code",
   "execution_count": 404,
   "metadata": {},
   "outputs": [
    {
     "data": {
      "text/plain": [
       "['Terrific',\n",
       " 'Wonderful',\n",
       " 'Excellent',\n",
       " 'Excellent',\n",
       " 'Nice product',\n",
       " 'Mind-blowing purchase',\n",
       " 'Highly recommended',\n",
       " 'Pretty good',\n",
       " 'Wonderful',\n",
       " 'Worth every penny',\n",
       " 'Just wow!',\n",
       " 'Awesome',\n",
       " 'Terrific',\n",
       " 'Pretty good',\n",
       " 'Terrific purchase',\n",
       " 'Awesome',\n",
       " 'Classy product',\n",
       " 'Brilliant',\n",
       " 'Terrific',\n",
       " 'Perfect product!',\n",
       " 'Awesome',\n",
       " 'Perfect product!',\n",
       " 'Very poor',\n",
       " 'Fabulous!',\n",
       " 'Excellent',\n",
       " 'Must buy!',\n",
       " 'Value-for-money',\n",
       " 'Best in the market!',\n",
       " 'Brilliant',\n",
       " 'Terrific purchase',\n",
       " 'Good quality product',\n",
       " 'Best in the market!',\n",
       " 'Perfect product!',\n",
       " 'Awesome',\n",
       " 'Value-for-money',\n",
       " 'Just wow!',\n",
       " 'Super!',\n",
       " 'Classy product',\n",
       " 'Must buy!',\n",
       " 'Mind-blowing purchase',\n",
       " 'Terrific',\n",
       " 'Wonderful',\n",
       " 'Excellent',\n",
       " 'Excellent',\n",
       " 'Nice product',\n",
       " 'Mind-blowing purchase',\n",
       " 'Highly recommended',\n",
       " 'Pretty good',\n",
       " 'Wonderful',\n",
       " 'Worth every penny',\n",
       " 'Fabulous!',\n",
       " 'Mind-blowing purchase',\n",
       " 'Excellent',\n",
       " 'Super!',\n",
       " 'Fabulous!',\n",
       " 'Just wow!',\n",
       " 'Terrific purchase',\n",
       " 'Awesome',\n",
       " 'Decent product',\n",
       " 'Awesome',\n",
       " 'Excellent',\n",
       " 'Classy product',\n",
       " 'Must buy!',\n",
       " 'Wonderful',\n",
       " 'Mind-blowing purchase',\n",
       " 'Good quality product',\n",
       " 'Fabulous!',\n",
       " 'Good quality product',\n",
       " 'Does the job',\n",
       " 'Excellent',\n",
       " 'Mind-blowing purchase',\n",
       " 'Worth every penny',\n",
       " 'Super!',\n",
       " 'Mind-blowing purchase',\n",
       " 'Classy product',\n",
       " 'Brilliant',\n",
       " 'Most Price worthy Iphone',\n",
       " 'Terrific purchase',\n",
       " 'Worth every penny',\n",
       " 'Brilliant',\n",
       " 'Fabulous!',\n",
       " 'Value-for-money',\n",
       " 'Absolute rubbish!',\n",
       " 'Just wow!',\n",
       " 'Excellent',\n",
       " 'Really Nice',\n",
       " 'Great product',\n",
       " 'Mind-blowing purchase',\n",
       " 'Terrific purchase',\n",
       " 'Great product',\n",
       " 'excellent',\n",
       " 'Perfect product!',\n",
       " 'Simply awesome',\n",
       " 'Great product',\n",
       " 'Wonderful',\n",
       " 'Fabulous!',\n",
       " 'Perfect product!',\n",
       " 'Mind-blowing purchase',\n",
       " 'Good choice',\n",
       " 'Best in the market!']"
      ]
     },
     "execution_count": 404,
     "metadata": {},
     "output_type": "execute_result"
    }
   ],
   "source": [
    "review_summary=[]\n",
    "for i in page_url:\n",
    "    driver.get(i)\n",
    "    review_summ=driver.find_elements_by_xpath(\"//p[@class='_2-N8zT']\")[:100]\n",
    "    for i in review_summ:\n",
    "        review_summary.append(i.text)\n",
    "review_summary"
   ]
  },
  {
   "cell_type": "code",
   "execution_count": 405,
   "metadata": {},
   "outputs": [
    {
     "data": {
      "text/plain": [
       "['I bought iPhone 11 On March 2021, And I am Writing this review after using the phone for 4 Months. I would Say Everything is fine, Top Performance, Nice Camera as Anyone would Expect from any series of iPhone but when the Question comes to Battery it is complicated. The Battery is fully optimised and it comes 3110 mAh capacity but the problem is with the charger. Honestly Apple Removed charger from in Box items in the name of Environment and they are also forcing us to buy any 20W PD 3rd part...\\nREAD MORE',\n",
       " 'Super and marvellous phone look very cute and nice sound. I love this phone i think white is good colur.Excellent camer 5*😍😘♥️♥️',\n",
       " \"It was amazing experience for me. Honestly i am using iPhone first time so I don't have that much past experience about that. But after using 7 days this mobile i want to give some honest feedback.\\n1- Display 9 out of 10\\n2- Camera 9.5 out of 10\\n3- Battery 7 out of 10\\n4- Performance 9.5 out of 10\\n5- Features & Functions 10 out of 10\\n6- Outer looks and colour 10 out of 10\\nRest i think i will understand after using this for few months.\\nI will highly recommend you guys if you have budget then you...\\nREAD MORE\",\n",
       " \"Just go for it.\\nThis phone is really amazing. I ordered it for my wife and we click photos on this thing which are better than dslr. I own OnePlus 6t but it's camera sucks. iPhone is really amazing when it comes to camera. It's worth spending 50k on this. Cons- only display is lcd. While using u don't feel it but if u compare with other phone then u can see difference quite easily.\\nChanging from Android to iphone is bit difficult coz most of things u don't know but I liked it. Some of the a...\\nREAD MORE\",\n",
       " \"If you are looking for a premium phone under 55k, this is the one for you.Got the iPhone 11 during the Republic day sale. Performance is top notch in this price range. Camera's do a perfect job in taking good quality photos and videos. Battery backup too is satisfactory. Writing this review after using for a week. Any further observations would be updated.\",\n",
       " 'Absolutely powerful gadget. Loved it’s look! Soo glassy and classy. I would definitely recommend this model of Apple. Only disappointed with the 5W charger, one should purchase an 18W adapter for fast charging. Though battery backup is great. Bought it in September 2020, reviewing after so long so I’m gonna put the genuine review here.✅',\n",
       " 'Thanks Flipkart For this amazing deal! I had a dream of owning a iphone since i had known about.\\nIm very happy with my purchase & it is totally worth it.\\nAmazing experience all over !!\\n\\nAnyone who’s thinking of buying it in 2021, i would simply say go for it without any second thoughts ❤️',\n",
       " \"I've used this phone for over a month now and here are my takeaways.\\nI would like to first talk about the best things about this phone and then the cons of it.\\n\\nPros:\\nThis phone is a performance beast. It handles large games and applications effortlessly and you won't find any stutters or lags while playing graphic intensive games like pubg, cod , mortal kombat and asphalt.\\n\\nThis phone has only 4gb ram and yet the ram management is amazing, it can keep 3 heavy games in memory without reload...\\nREAD MORE\",\n",
       " 'Nice value for money good and best price I phone mind blowing camera processor very fast other android mobile I am happy India top selling phone 2020',\n",
       " 'Undoubtedly Iphone 11 is the most successful model till now and its performance is extraordinary and the security features are very impressive, display is more vibrant sound quality Camera Quality 5*****, but Iphone should add accessories too and act like scrooge.',\n",
       " 'Best in class. Battery backup is good especially when you play games like Pubg COD. But it is sort of heavy when you hold in hands. Portrait mode is best to click pictures. Stage light effect is awesome. Try to click photos outside in nature because photos inside home or room will not give you the quality in any phone even in DSLR.',\n",
       " 'Very excited to have this phone. This phone has the real power unlike the android phones having SD 855 . The battery life is very good and the camera quality is excellent as comapred to redmi and other phones except google pixel. I M enjoying every single bit of it. Would recommed only if you have the budget.',\n",
       " \"I upgraded (downgraded?) from my iPhone X since the phone fell down and I didn't want to repair the screen. The box that the phone came in was super slim and I was worried that there'd be no 5W charger with it and my fears were confirmed. However, thankfully I had the 18W USB-C PD charger from Apple which I bought for my iPhone X and it worked perfectly. The charging time is as lethargic as ever though and it takes about 1:30 mins or even 2 hours depending on charge remaining. I'll list some ...\\nREAD MORE\",\n",
       " 'I was using Iphone 6s and also Oneplus 6t. Both mobiles were perfectly alright in Photos, gaming, and smooth interface . My 6s mobile getting battery issue. thought upgrade to 11. Really like this mobile of its Internal storage (compare to 6s) , camera and its touch feeling. Its a worth buying mobile for me.',\n",
       " 'Its Very awesome product working and good camera quality and all about best product and also flipkart is very great deal and offer nice price',\n",
       " 'I am using this phone for 5 days and its one of the best camera out there ❤️ the screen is not oled and i am coming from iphone xs so its little bit not up to the mark i would say\\nBut overall value for money💕😍the battery back up is far better than my iphone xs and its worth in my apple ecosystem💫❤️if u are an apple User and have the eco system then go for it❤️though i will be getting the new iphone but its pretty good💫',\n",
       " 'Best and amazing product.....phone looks so premium.... battary is also good as expected .... Wide angle camera is so addictive ...if you are a IOS lover....then this phone will be the best choice for you all!!💯🔥',\n",
       " 'Excellent camera and display touching very nice and smooth very improvement against iPhone XR and new processor is very fast',\n",
       " \"I got this beast today. And I must say the picture quality of its camera is awesome. Both the cameras works fine.\\n\\nAs for as the processing is concerned, it runs without any lag. You can play and do whatever you want without a glitch.\\n\\nThe battery runs for a day with medium and high workload.\\n\\nThe display is good and the speakers are working fine.\\n\\nThe earphones doesn't have any base and you can use it for calling mostly.\\n\\nThe charging time is approximately for 90 minutes for full charging...\\nREAD MORE\",\n",
       " 'Awesome purchase. Amazing phone with good battery backup. It’s a top notch device. White colour looks amazing. Phone has a few extra feature than iPhone XR. Overall, this is value for money',\n",
       " 'Always love the apple products, upgraded from old iPhone 6S plus to this after having my first baby. I just love to click baby’s photos with it. Overall I just love this phone. Battery back up is okay, sound quality is good. Haven’t tested yet waterproof yet. Only one thing I hate is apple could have given charger & headphones in box.',\n",
       " 'Value for money\\n5 star rating\\nExcellent camera\\nBattery backup full day in single charge.\\n\\nTougher and water resistant design, glossy back.\\nThe screen has excellent brightness and contrast.\\nApple A13 Bionic is the fastest smartphone chip on the planet.\\nExcellent battery life, fast charging support.\\nStereo speakers with great quality.',\n",
       " 'Please DONT buy from here,\\n\\nI purchased Apple iPhone 11. with an exchange of IPhone 7, the exchange did not go well, iPhone 7 had a small scratch out side screen which i could never identify till date, but the FLIPKART person could, so he reduced 50% from exchange rate. I decided not to trade in, but paid money.\\n\\niPhone 11 Detail Below\\n---------------------------------------------\\nIt came with no charging, then i have put for charging, it took lot of time for charging, the phone also showe...\\nREAD MORE',\n",
       " 'awesome phone to have. it has got many smart features apart from mind blowing looks, camera, display, battery and sound. have fallen in love with this phone. must buy phone if you have got enough money. thanks to flipkart and apple of course..',\n",
       " 'Its a fabulous mobile look awesome performance unbeaten camera like dslr battery good i think this is a beast of mobile',\n",
       " 'Dear friends... I want to share my experience with you about this amazing I phone 11....this is my first iPhone and special things about this mobile is it has great camera, battery backup and awesome display.... I mean everything is perfect.loved it 👍👍👍',\n",
       " \"Just got this iphone 11\\nAnd it is most powerful mobile phone I have used ever\\n\\nSo,go for it if you want a phone with best specification like camera,battery backup,display, A13 bionic chip\\n\\nThat's my review about this phone but yours can be differ from me....\",\n",
       " \"The best all rounder iphone. Flipkart is doing a great job. They're delivery services are blazing fast. I got delivery on the same day. Genuine Apple Product. Working great. Talking about review There's no need of review for iphones. They're simply the best.\",\n",
       " 'Amazing phone and on great deal I received with super fast delivery by Flipkart...',\n",
       " 'finally an iPhone with very nice battery backup. update from iPhone 7 and happy to have it. camera is not up to the mark in low light but overall a recommended phone if your budget allows 😀',\n",
       " \"I'm switching this phone to oppo reno 10x zoom\\nIt's really impressive\\nRarely I'm missing smooth display touch response like oppo reno but\\nI really loved it.\\nCamera really impressive\",\n",
       " 'Damn this phone is a blast . Upgraded from android to ios and is a duperb experience. Battery backup is top notch and display also pretty good',\n",
       " 'Worth the money’ starting first from its performance it beats out all phones , second the smoothness of camera is awesome, contrast ratio is much than expected. Price will not matter if u r a quality person, if not other phones are available with better discount',\n",
       " 'I dreamt about this day from a long time.... Getting an iPhone with my own money.... Super happy and worth spending every penny',\n",
       " \"I'm Really happy with the product\\nDelivery was fast as well\\n..it was a gift for my sister and she loved it so much.\",\n",
       " 'Great iphone.\\nI am writing this review after 2 months of usage.\\nCamera is excellent, especially the nightmode\\nDisplay perfect\\nBattery backup awesome\\nSound quality very good\\nOverall Apple gives you a perfect iphone in this range.\\nReally in love with iPhone 11',\n",
       " 'Did an upgrade from 6s plus to iphone 11.\\nAo far the experience is well and good. Felt smoother than 6s plus. The camera quality is superb. Battery backup is descent. Not a heavy user, and gets power more than a day. Go for it if you need an alrounder iphone in a competitve price.',\n",
       " 'Gifted my man on his 30th birthday 🎂 He loves it.. Him happy so i am more than happy 😍😘❤️🥰',\n",
       " 'I rate this product 5* as it has got amazing user experience with the best performing A13 bionic processor. The screen responds and graphics rendering is top notch. With casual gaming and internet browsing, the battery lasts for approx. 1 day. Camera is very good. You will fall in love with the portrait mode. You can call me a loyal Apple customer or whatever but I won’t stop praising the products and overall experience. That user experience matters and is worth every penny you pay.\\n\\nBelow ar...\\nREAD MORE',\n",
       " 'awesome Phone Smooth Touch Too good Sexyy looks one word Awesome',\n",
       " 'I bought iPhone 11 On March 2021, And I am Writing this review after using the phone for 4 Months. I would Say Everything is fine, Top Performance, Nice Camera as Anyone would Expect from any series of iPhone but when the Question comes to Battery it is complicated. The Battery is fully optimised and it comes 3110 mAh capacity but the problem is with the charger. Honestly Apple Removed charger from in Box items in the name of Environment and they are also forcing us to buy any 20W PD 3rd part...\\nREAD MORE',\n",
       " 'Super and marvellous phone look very cute and nice sound. I love this phone i think white is good colur.Excellent camer 5*😍😘♥️♥️',\n",
       " \"It was amazing experience for me. Honestly i am using iPhone first time so I don't have that much past experience about that. But after using 7 days this mobile i want to give some honest feedback.\\n1- Display 9 out of 10\\n2- Camera 9.5 out of 10\\n3- Battery 7 out of 10\\n4- Performance 9.5 out of 10\\n5- Features & Functions 10 out of 10\\n6- Outer looks and colour 10 out of 10\\nRest i think i will understand after using this for few months.\\nI will highly recommend you guys if you have budget then you...\\nREAD MORE\",\n",
       " \"Just go for it.\\nThis phone is really amazing. I ordered it for my wife and we click photos on this thing which are better than dslr. I own OnePlus 6t but it's camera sucks. iPhone is really amazing when it comes to camera. It's worth spending 50k on this. Cons- only display is lcd. While using u don't feel it but if u compare with other phone then u can see difference quite easily.\\nChanging from Android to iphone is bit difficult coz most of things u don't know but I liked it. Some of the a...\\nREAD MORE\",\n",
       " \"If you are looking for a premium phone under 55k, this is the one for you.Got the iPhone 11 during the Republic day sale. Performance is top notch in this price range. Camera's do a perfect job in taking good quality photos and videos. Battery backup too is satisfactory. Writing this review after using for a week. Any further observations would be updated.\",\n",
       " 'Absolutely powerful gadget. Loved it’s look! Soo glassy and classy. I would definitely recommend this model of Apple. Only disappointed with the 5W charger, one should purchase an 18W adapter for fast charging. Though battery backup is great. Bought it in September 2020, reviewing after so long so I’m gonna put the genuine review here.✅',\n",
       " 'Thanks Flipkart For this amazing deal! I had a dream of owning a iphone since i had known about.\\nIm very happy with my purchase & it is totally worth it.\\nAmazing experience all over !!\\n\\nAnyone who’s thinking of buying it in 2021, i would simply say go for it without any second thoughts ❤️',\n",
       " \"I've used this phone for over a month now and here are my takeaways.\\nI would like to first talk about the best things about this phone and then the cons of it.\\n\\nPros:\\nThis phone is a performance beast. It handles large games and applications effortlessly and you won't find any stutters or lags while playing graphic intensive games like pubg, cod , mortal kombat and asphalt.\\n\\nThis phone has only 4gb ram and yet the ram management is amazing, it can keep 3 heavy games in memory without reload...\\nREAD MORE\",\n",
       " 'Nice value for money good and best price I phone mind blowing camera processor very fast other android mobile I am happy India top selling phone 2020',\n",
       " 'Undoubtedly Iphone 11 is the most successful model till now and its performance is extraordinary and the security features are very impressive, display is more vibrant sound quality Camera Quality 5*****, but Iphone should add accessories too and act like scrooge.',\n",
       " 'I purchased the iPhone 11 a month back. I must say Apple has impressed me yet again . I have been an Apple user for past 5 years . The phone is power packed with amazing features . What impressed me the most was the battery backup the phone offers . Battery can easily run upto 1.5 days in single charge with moderate to\\nHeavy usage . If you’re looking for a value for money device , I don’t see any other phone in the price range which can match the iPhone 11 .\\nOne thing I didn’t like was that ...\\nREAD MORE',\n",
       " 'Excellent camera 📸 And Display touching very Nice And Smooth and very improvement against\\nI phone 11 and new processor is very fast',\n",
       " 'A perfect phone and a good battery super camera and the sound is dynamic overall the phone is perfect for upgrading from lower iPhone model to iPhone 11',\n",
       " 'This is my first ever iPhone.\\nAnd I truly don’t regret switching to IOS from my Android.\\n\\nIt is easily an alternative to a DSLR camera.\\nIf you’re obsessed with photos and videos, just don’t think twice or don’t compare to other androids(Samsung S10 lite or OnePlus 8/8T), as it’s far better from them in every field.\\nComparing will only make you confused.\\n\\nI am getting an average Screen on Time of around 10 hours with 30 percent left. I haven’t let my device discharged below 30 % as it aff...\\nREAD MORE',\n",
       " 'Everything is perfect pictures come out so clearly and at first I wasn’t sure when I got it then when I started to use it and get the hang of it it was amazing!! I can’t wait to see what the next future phones will be like. The screen display on this bad boy are unbelievable they are so clear and never fail me. The performance is super cool there is a lot of cool features as well I like this phone because I feel that it is easy to use and one of my favorite things about this phone is the Face...\\nREAD MORE',\n",
       " 'The ultimate performance\\nCamera is superb\\nThe battery backup also very good i never saw iphone gives this much of battery backup\\nIf any one wana buy iphone 11 definitely i will recommend this mobile\\nIt has the better battery and powerfull processer peak performance glorious camera and the display also 100% high quality lcd display if u had money for for 12 if u dont wana invest much money on that then go for iphone 11 it has maximum same specs only main difference between the 12 and 11 is...\\nREAD MORE',\n",
       " 'I use a Note10+ and have been using both iOS and Android devices.\\n\\nCamera has really good features and portraits are super good, better than Samsung flagship. Overall camera setup can still be enhanced and hopeful for better upgrades on software in next release\\n\\nOperating system is quite a breeze and user experience of daily usage is very high as compared to Android. I moved to iOS very swiftly in 2 days for all my office work from Note10+\\n\\nBattery holds up quite well with 4 hrs of call and ...\\nREAD MORE',\n",
       " 'The phone is completely good\\nAs far as camera Apple is king of it\\nAnd its a beast in performance\\nAnd the battery is pretty good too',\n",
       " 'Everything u ll like it when u use this iPhone. Simple changes only not many to lower models but it’s nice to use. Little heavy compared to previous models like 7,8',\n",
       " 'Can’t beat the software and hardware integration of apple.\\nPerforms like a beast. Great quality camera\\n6-7 hours screen on time which is good. Nothing much to complaint about the screen. Good connectivity speeds.\\nGreat buy and Flipkart’s delivery top notch as usual',\n",
       " 'Value for money product. This iphone 11 is really amazing. Again nice release by apple. Great camera, battery backup is excellent. I just love this phone',\n",
       " 'I got this phone for good price hence 5 star for it , and over quality is good because the price to buy iphone was worth at 41000',\n",
       " \"Camera is excellent just lack of telephoto mode frankly dose not needed either night mode is just 🙏🙏 12 12 12 mp (2back 1 front) camera lover just don't miss the deal\\nDisplay lcd but feel like super amoled\\nAt46999 with no cost EMI just a best deal\",\n",
       " \"I genuinely liked it. One of the best mobile phones I have used. It's sho smooth and it's security is very astonishing. Plus it has a very good camera quality. so overall it's a win win.\",\n",
       " 'Flipkart honoured on time delivery, I have used 6s , now I have upgraded apple 11 . Really great experience for new iPhone. Thank you apple and flipkart.',\n",
       " 'Awesome camera, smooth and fast UI, display is great (though not LED) but the black area at the top could have been reduced. Battery remains a day even if used heavily. Charger in the box is ok, but 12 or 18W could have been nothing like anything. Overall an excellent product and comfortable to use. I have got it almost a month back and so far so good.',\n",
       " 'Good product nice experience with Flipkart but I am unhappy with the packaging part because such a valuable product comes under normal cover without any additional wrapping and that too for Plus customers. Expecting good Packaging in future from Sellers.',\n",
       " 'I was torn between the oneplus 8 pro and the iphone 11. I had to shell out extra money for this, but I say if you can afford it, this truely is the best package.\\nMind blowing camera, battery and overall performance. Face Id works like magic even in complete darkness without firing up the screen brightness. The phones with in display fingerprint scanners do this at night time and it really burns your eyes.\\nI wanted the oneplus for its display but tbh the OLEDs on oneplus is really bad. Flick...\\nREAD MORE',\n",
       " \"phone is good but in display is 720p lcd in this price range we can get full hd OLED displays with higher refresh rate processor is very good camera is nice but looks kind of oldish in front of todays phone also there's no charging in box had to buy it seperately\",\n",
       " 'Seller - SuperComNet ( my trust in you has grown deeper. Thanks for the genuine product )\\nThe package came packed perfectly. The box was sealed which gave me a big relief.\\n\\nApple needs no introduction since its the dominant market player. I just love the way how IPhone 11 stands out so boldly. The moment I took it out from the box, I could feel the premium intensity. The body is remarkable and crafted for giving you a elite vibe.\\n\\nCamera is to die for. There is no other phone that can beat...\\nREAD MORE',\n",
       " \"i was confused between 11 and 11 pro. i was going towards 11 pro, but the screen size was not enough for me.\\nAnd i saw 11 in the showroom. i didn't find much difference in screen quality.And cameras seems to be ok with me. And i saw offer's in flipkart and made the purchase.\\nthe device is fabulous. The hardware and software quality is excellent. The new iOS is something you need to experience yourself. The drawback i found was absence of fast charger, but the pricing can compensate that. Am...\\nREAD MORE\",\n",
       " 'iPhone is delivered on time. Display is great u won’t feel that it’s a hd panel. Quality is excellent. Sounds is great it has stereo setup. Camera is good. iOS 14.2 comes in the box. U roughly get 113 gb free if u buy 128 gb. This is my second iPhone and i love it. Value for money.',\n",
       " \"It's a great phone. From camera to display everything is best for the price.\\nBest camera , best performance. I think everyone should buy it . This phone has best battery life so far in iphone series which I had used earlier. Happy to have it. Thanks Flipkart\",\n",
       " 'Released in 2019\\nIn 2021 still the best in segment\\nPros:\\nCamera 4/5 night photograph takes -1\\nPerformance 5/5\\nBattery backup normal usage 5/5 should last more than a day\\nHeavy usage battery backup 4/5 as compared have a smaller battery but should give around 5-6h of heavy usage like game play\\nBattery charging from 18w charger 3.5/5 not as fast as compared to dash charger but does the job well 0-50% in somewhat takes 40 mins which is ok\\n\\nCons:\\nNo earpod\\nNo 3.5mm jack connector I remember gett...\\nREAD MORE',\n",
       " 'Got my iPhone 11 today! It’s totally worth it even in 2021. Takes wonderful images and the stabilisation of video on this phone is just awesome although it is a 2019 model. Performance wise it’s ultra fast as expected to be. The only drawback per paper is the screen it has, but in usage I noticed nothing bad and the screen was totally fine for me!\\nI upgraded from Nokia 6.1 Plus and it’s great 🤩',\n",
       " 'Wow wow and wow, in 48k you will not get anything better than this, processor is awsome, camera is a beast, display is superb, this is my first iphone, and I am already in love with these',\n",
       " 'Reviewing within 1st Month\\n\\n\\n1st Month Review\\nThis is my first Iphone. So been new to the Ios Environment i faced some basic issues. Whatever issues i am facing is because of change in environment.\\nVideo Output is amazing.\\nBattery - Typical One Day Battery. 20 W fast charger is amazing which charges the iphone within 40-60 Mins ( purchased separately)\\nCamera - Good and Natural Colours. ( I have Samsung S21+ and not at par with its camera) but the output is same all the time which is good.\\n...\\nREAD MORE',\n",
       " 'Well , as we all know if its not an Iphone , its not an iphone . The iphones are always beast . The camera game has been level up . The A13 Bionic is just fabulous . The update this year are certainly the camera which is damn good with d addition of wide angle lens as well as ultra wide . If anyones purchasing an iphone for the first time , do opt for the black color . Its just feels more than premium . Battery life is damn good with lasting fully a day . Overall a nice package . Well managed...\\nREAD MORE',\n",
       " 'Here is the thing\\n\\nThe only reason why you should buy this phone is for the camera, iOS, and if you have headaches looking at AMOLED display.\\n\\nI’m not an avid gamer but watch a lot of movies on smartphone. However, my migraine attacks increased considerably after using AMOLED Smartphone. That’s why I made a calculated decision to buy iPhone 11. It has the best LCD display and the blacks, though not as natural as an AMOLED, is better than some of the other smartphones.\\n\\nAdding to this the ste...\\nREAD MORE',\n",
       " 'A wort full value for money decision it’s . Simply go for it in 2021 its still a good decision . Awesome camera , Super smothered performance, Heck of build quality. And Most important it protects your privacy.',\n",
       " \"Just an awesome phone...upgraded from 6s to 11 and trust me guys it's super cool with amazing features..loved it ♥️ and a big thank you to Flipkart for delivering it in just 2 days ?\",\n",
       " 'As usual a great product from Apple. but the look wise there were some scope to make it more attractive. from the back it looks nice. picture quality is awesome . face id is blazing fast. The lightning fast bionic processor makes the phone butter smooth.Battery back up is unbeatable and best of the released iPhone.full display is still missing. however, a iPhone is a iPhone. The iPhone lovers know the value of an iPhone 🙂',\n",
       " 'Worst product delivered by Flipkart\\nAfter 10days of delivery mobile will not work properly\\nVolume and silent buttons are not working.\\nNo worth to buy in Flipkart.\\nPlease don’t buy apple products in Flipkart',\n",
       " 'Really very nice... my dad gifted me really I am soo happy with this phone love it 😇',\n",
       " '🤩🤩🤩🤩🤩🤩I loved the Phone.. Every time I pick up the phone it makes me happy... The phone is beast💪💪 and the camera is fabulous 🥰🥰🥰.. I think one of my great purchase from Flipkart.. Thank you Filpkart..',\n",
       " \"Great phone and camera and timely delivery by Flipkart!\\nYou wouldn't love the display if you're coming from a one plus or Samsung, go for iPhone 12. If display isn't your priority, this is a great choice.\",\n",
       " \"Great quality at not so great price, But worth it. Don't go for specs, better performance than so called spec master Chinese phones. The display could have been atleast an smiled one with atleast 90hz at this price point.\",\n",
       " 'After using more than a year of using iPhone11 here is my complete review:\\n1. Camera is almost perfect 8/10 except for some advantages you’ll see in Samsung S20. (Zoom, Better Image stabilisation etc)\\n2. Battery performance is 10/10\\n3. OS performance is 10/10\\n4. Build Quality 9/10 as you need to buy good quality back cover with tampered\\n5. Face Lock feature is awesome 10/10\\n6. You need to buy new charger but don’t buy more than 18 watt charger optimum is 15 / 18 watt charger. For fast chargin...\\nREAD MORE',\n",
       " 'Fkng awesome phone, you won’t regret spending money on it.\\nBattery is 3110mah, sufficient amount if you’re not continuously using it. Performance is up-to to the point.\\nFace ID is extremely fast and smooth, you wont even realize you’ve unlocked your phone.\\nFYI I’m reviewing this product after 3 months of usage because I wanted to know how the battery and other things are in this phone. So if you are thinking of buying it, Just go for it.',\n",
       " 'This iphone 11 by apple is simply amazing . Ios is so crisp and smooth that you will love .\\nI will definitely recommend it , earlier i was confused between iphone 11 and oneplus 9r. But i have made a correct choice.\\nGo with this beast without any hasitation.',\n",
       " 'I liked it very much, super performance , giving best battery life around one day. fast charging is super. camera quality is excellent no words.',\n",
       " 'At time of writing this review this phone processor definitely beat any flagship android phone !\\n\\nUpgraded from 7 Plus which is also quite good\\n\\nBut this phone performance is huge ! Fast and always to roll 😅\\nLow light Camera is great\\nBut i think portrait mode is not good as iPhone 7 plus\\nIn this phone portrait mode is looks like artificial but on my previous phone it looks like dslr photo maybe i am missing setting on this !\\n\\nOtherwise everything is good !',\n",
       " \"Incredible phone with a excellent battery and a better experience.\\nThose who are concerned about its screen quality.Trust me this is one of the best IPS panal.\\nPreviously I used OnePlus 5t which had a full hd AMOLED display,but I didn't notice a huge difference.\\nIf a get a fabulous deal then just go for it.\",\n",
       " \"I was using android phone earlier..I was thinking apple phones are much more costy than other phones with less specifications..so why to waste money in this??..But trust me guys once if you start using ios then you won't go back to android...beleive me this phone is the best than all other...There is no other phone which can beat iphones in terms of camera..iphones gives the best real image..its very faster and smoother than android phones...if you think to switch to ios iphone 11 is the best...\\nREAD MORE\",\n",
       " 'Dont think too much guys. perfect phone for day today use. If you are familiar with apple then go for it. camera is good which can match up with next 3 years, battery is good than all other iPhones. Definitely morning to evening-8 it can do. Display is not that bad, you will be satisfied. Best mobile worth for the money. Best for one handed issue. Very less overheating than other mobiles in market. Go for 128 gb or 256. This iphone can live upto next 3-4 years for sure. Enjoy Apple👌🏾',\n",
       " \"This is my first I phone and I'm very happy to have it but it's battery life is not good as Android have that's all. All over phone is Awesome\",\n",
       " 'Excellent service by Flipkart. The phone is true value for money, the camera is great especially the low light night photography.\\nThe processor is fast making gaming a lot of fun.\\nI read a lot of negative reviews about the display but I was using a OnePlus before and somehow the iphone 11 display is more easy on the eyes and the adaptive brightness is more effective than any of the other phones that I have used.\\nCharging is a bit slow owing to the smaller charger included in the box inste...\\nREAD MORE',\n",
       " 'It’s a quiet good for new users. And I’m happy with it. Thanks apple and Flipkart too. 😊♥️',\n",
       " 'I have my first iPhone\\nI love it\\nusing 15 day very good performance\\n\\nMobile- 5/4\\nCharging- 5/5\\nCamera- 5/5\\nBattery backup -5/5\\nDisplay- 5/4\\nCourier facility- 5/0 Very bad\\nCourier facility is poor. I have not happy in courier facility..',\n",
       " 'The only thing i didnt like about the phone is its display as its only an non full hd display means its not 1080p one and not an amoled one of course but still better than all the lcds out there in the market but at this price point android alternatives provide 144hz samoled like the rog phone 5, Aside from that the performance is top notch as you would expect from an Iphone and will last you for many years unlike androids who stop getting updates in less than 2 years']"
      ]
     },
     "execution_count": 405,
     "metadata": {},
     "output_type": "execute_result"
    }
   ],
   "source": [
    "full_review=[]\n",
    "for i in page_url:\n",
    "    driver.get(i)\n",
    "    full_summ=driver.find_elements_by_xpath(\"//div[@class='t-ZTKy']\")[:100]\n",
    "    for i in full_summ:\n",
    "        full_review.append(i.text)\n",
    "full_review"
   ]
  },
  {
   "cell_type": "code",
   "execution_count": 407,
   "metadata": {},
   "outputs": [
    {
     "name": "stdout",
     "output_type": "stream",
     "text": [
      "100 100\n"
     ]
    }
   ],
   "source": [
    "print(len(review_summary),len(full_review))"
   ]
  },
  {
   "cell_type": "code",
   "execution_count": 412,
   "metadata": {},
   "outputs": [
    {
     "data": {
      "text/html": [
       "<div>\n",
       "<style scoped>\n",
       "    .dataframe tbody tr th:only-of-type {\n",
       "        vertical-align: middle;\n",
       "    }\n",
       "\n",
       "    .dataframe tbody tr th {\n",
       "        vertical-align: top;\n",
       "    }\n",
       "\n",
       "    .dataframe thead th {\n",
       "        text-align: right;\n",
       "    }\n",
       "</style>\n",
       "<table border=\"1\" class=\"dataframe\">\n",
       "  <thead>\n",
       "    <tr style=\"text-align: right;\">\n",
       "      <th></th>\n",
       "      <th>review_summary</th>\n",
       "      <th>full_review</th>\n",
       "    </tr>\n",
       "  </thead>\n",
       "  <tbody>\n",
       "    <tr>\n",
       "      <th>0</th>\n",
       "      <td>Terrific</td>\n",
       "      <td>I bought iPhone 11 On March 2021, And I am Wri...</td>\n",
       "    </tr>\n",
       "    <tr>\n",
       "      <th>1</th>\n",
       "      <td>Wonderful</td>\n",
       "      <td>Super and marvellous phone look very cute and ...</td>\n",
       "    </tr>\n",
       "    <tr>\n",
       "      <th>2</th>\n",
       "      <td>Excellent</td>\n",
       "      <td>It was amazing experience for me. Honestly i a...</td>\n",
       "    </tr>\n",
       "    <tr>\n",
       "      <th>3</th>\n",
       "      <td>Excellent</td>\n",
       "      <td>Just go for it.\\nThis phone is really amazing....</td>\n",
       "    </tr>\n",
       "    <tr>\n",
       "      <th>4</th>\n",
       "      <td>Nice product</td>\n",
       "      <td>If you are looking for a premium phone under 5...</td>\n",
       "    </tr>\n",
       "    <tr>\n",
       "      <th>...</th>\n",
       "      <td>...</td>\n",
       "      <td>...</td>\n",
       "    </tr>\n",
       "    <tr>\n",
       "      <th>95</th>\n",
       "      <td>Fabulous!</td>\n",
       "      <td>This is my first I phone and I'm very happy to...</td>\n",
       "    </tr>\n",
       "    <tr>\n",
       "      <th>96</th>\n",
       "      <td>Perfect product!</td>\n",
       "      <td>Excellent service by Flipkart. The phone is tr...</td>\n",
       "    </tr>\n",
       "    <tr>\n",
       "      <th>97</th>\n",
       "      <td>Mind-blowing purchase</td>\n",
       "      <td>It’s a quiet good for new users. And I’m happy...</td>\n",
       "    </tr>\n",
       "    <tr>\n",
       "      <th>98</th>\n",
       "      <td>Good choice</td>\n",
       "      <td>I have my first iPhone\\nI love it\\nusing 15 da...</td>\n",
       "    </tr>\n",
       "    <tr>\n",
       "      <th>99</th>\n",
       "      <td>Best in the market!</td>\n",
       "      <td>The only thing i didnt like about the phone is...</td>\n",
       "    </tr>\n",
       "  </tbody>\n",
       "</table>\n",
       "<p>100 rows × 2 columns</p>\n",
       "</div>"
      ],
      "text/plain": [
       "           review_summary                                        full_review\n",
       "0                Terrific  I bought iPhone 11 On March 2021, And I am Wri...\n",
       "1               Wonderful  Super and marvellous phone look very cute and ...\n",
       "2               Excellent  It was amazing experience for me. Honestly i a...\n",
       "3               Excellent  Just go for it.\\nThis phone is really amazing....\n",
       "4            Nice product  If you are looking for a premium phone under 5...\n",
       "..                    ...                                                ...\n",
       "95              Fabulous!  This is my first I phone and I'm very happy to...\n",
       "96       Perfect product!  Excellent service by Flipkart. The phone is tr...\n",
       "97  Mind-blowing purchase  It’s a quiet good for new users. And I’m happy...\n",
       "98            Good choice  I have my first iPhone\\nI love it\\nusing 15 da...\n",
       "99    Best in the market!  The only thing i didnt like about the phone is...\n",
       "\n",
       "[100 rows x 2 columns]"
      ]
     },
     "execution_count": 412,
     "metadata": {},
     "output_type": "execute_result"
    }
   ],
   "source": [
    "df=pd.DataFrame()\n",
    "df['review_summary']=review_summary\n",
    "df['full_review']=full_review\n",
    "df"
   ]
  },
  {
   "cell_type": "markdown",
   "metadata": {},
   "source": [
    "Q8: Scrape data for first 100 sneakers you find when you visit flipkart.com and \n",
    "search for “sneakers” in the search field."
   ]
  },
  {
   "cell_type": "code",
   "execution_count": 413,
   "metadata": {},
   "outputs": [],
   "source": [
    "url='https://www.flipkart.com/'\n",
    "driver.get(url)"
   ]
  },
  {
   "cell_type": "code",
   "execution_count": 414,
   "metadata": {},
   "outputs": [],
   "source": [
    "search=driver.find_element_by_xpath(\"//div[@class='_3OO5Xc']//input\")\n",
    "search.send_keys(\"sneakers\")"
   ]
  },
  {
   "cell_type": "code",
   "execution_count": 415,
   "metadata": {},
   "outputs": [],
   "source": [
    "search_btn=driver.find_element_by_xpath(\"//button[@class='L0Z3Pu']\")\n",
    "search_btn.click()"
   ]
  },
  {
   "cell_type": "code",
   "execution_count": 416,
   "metadata": {},
   "outputs": [
    {
     "data": {
      "text/plain": [
       "['https://www.flipkart.com/search?q=sneakers&otracker=search&otracker1=search&marketplace=FLIPKART&as-show=on&as=off&page=1',\n",
       " 'https://www.flipkart.com/search?q=sneakers&otracker=search&otracker1=search&marketplace=FLIPKART&as-show=on&as=off&page=2',\n",
       " 'https://www.flipkart.com/search?q=sneakers&otracker=search&otracker1=search&marketplace=FLIPKART&as-show=on&as=off&page=3']"
      ]
     },
     "execution_count": 416,
     "metadata": {},
     "output_type": "execute_result"
    }
   ],
   "source": [
    "page_url2=[]\n",
    "url = driver.find_elements_by_xpath(\"//nav[@class='yFHi8N']//a\")[:3]\n",
    "for i in url:\n",
    "    page_url2.append(i.get_attribute('href'))\n",
    "page_url2"
   ]
  },
  {
   "cell_type": "code",
   "execution_count": 427,
   "metadata": {},
   "outputs": [
    {
     "data": {
      "text/plain": [
       "['Echor',\n",
       " 'DUCATI',\n",
       " 'Magnolia',\n",
       " 'BRUTON',\n",
       " 'Longwalk',\n",
       " 'Chevit',\n",
       " 'ASTEROID',\n",
       " 'luxury fashion',\n",
       " 'luxury fashion',\n",
       " 'PEHANOSA',\n",
       " 'Creer',\n",
       " 'Echor',\n",
       " 'BIRDE',\n",
       " 'Numenzo',\n",
       " 'Numenzo',\n",
       " 'India hub',\n",
       " 'Numenzo',\n",
       " 'Shoes Bank',\n",
       " 'Kraasa',\n",
       " 'DUCATI',\n",
       " 'RODDICK SHOES',\n",
       " 'Absolute comfort',\n",
       " 'believe',\n",
       " 'India hub',\n",
       " 'ASTEROID',\n",
       " 'World Wear Footwear',\n",
       " 'Airland',\n",
       " 'luxury fashion',\n",
       " 'SCATCHITE',\n",
       " 'Numenzo',\n",
       " 'Arohi',\n",
       " 'Nilatin',\n",
       " 'HOC',\n",
       " 'restinfoot',\n",
       " 'VIPSJAZZY',\n",
       " 'ALICON',\n",
       " 'Robbie jones',\n",
       " 'RODDICK SHOES',\n",
       " 'SPARX',\n",
       " 'Echor',\n",
       " 'BRUTON',\n",
       " 'BIRDE',\n",
       " 'Chevit',\n",
       " 'India hub',\n",
       " 'bluemaker',\n",
       " 'SPARX',\n",
       " 'BRUTON',\n",
       " 'Absolutee shoes',\n",
       " 'Jack Diamond',\n",
       " 'India hub',\n",
       " 'BIRDE',\n",
       " 'Airland',\n",
       " 'Zsyto',\n",
       " 'Jack Diamond',\n",
       " 'SPARX',\n",
       " 'Echor',\n",
       " 'Labbin',\n",
       " 'SPARX',\n",
       " 'Chevit',\n",
       " 'STRANGER BROTHERS',\n",
       " 'TR',\n",
       " 'Robbie jones',\n",
       " 'Magnolia',\n",
       " 'Chevit',\n",
       " 'Robbie jones',\n",
       " 'BIRDE',\n",
       " 'PUMA',\n",
       " 'LIBERTY',\n",
       " 'Kraasa',\n",
       " 'SPARX',\n",
       " 'Zorth',\n",
       " 'Dock',\n",
       " 'Rising Wolf',\n",
       " 'SHOEFLY',\n",
       " 'bluemaker',\n",
       " 'Woakers',\n",
       " 'T-ROCK',\n",
       " 'SPARX',\n",
       " 'WRIZT',\n",
       " 'Chevit',\n",
       " 'D-SNEAKERZ',\n",
       " 'PUMA',\n",
       " 'India hub',\n",
       " 'luxury fashion',\n",
       " 'SPARX',\n",
       " 'World Wear Footwear',\n",
       " 'Robbie jones',\n",
       " 'Extoes',\n",
       " 'Zsyto',\n",
       " 'Jokatoo',\n",
       " 'PUMA',\n",
       " 'PUMA',\n",
       " 'SPARX',\n",
       " 'SPARX',\n",
       " 'Englewood',\n",
       " 'ADIDAS',\n",
       " 'BIRDE',\n",
       " 'LuvShus',\n",
       " 'SHOEFLY',\n",
       " 'Stinson',\n",
       " 'Zsyto',\n",
       " 'HOC',\n",
       " 'RODDICK SHOES',\n",
       " 'HOTSTYLE',\n",
       " 'WRIZT',\n",
       " 'Carlo Style',\n",
       " 'BRUTON',\n",
       " 'Shuzer68',\n",
       " 'Numenzo',\n",
       " 'Ardeo',\n",
       " 'India hub',\n",
       " 'French Connection',\n",
       " 'Zorth',\n",
       " 'D-SNEAKERZ',\n",
       " 'World Wear Footwear',\n",
       " 'Billion',\n",
       " 'Wakefield',\n",
       " 'PUMA',\n",
       " 'tigonis',\n",
       " 'VORII']"
      ]
     },
     "execution_count": 427,
     "metadata": {},
     "output_type": "execute_result"
    }
   ],
   "source": [
    "brands=[]\n",
    "for i in page_url2:\n",
    "    driver.get(i)\n",
    "    brand=driver.find_elements_by_xpath(\"//div[@class='_2WkVRV']\")[:100]\n",
    "    for i in brand:\n",
    "        brands.append(i.text)\n",
    "brands"
   ]
  },
  {
   "cell_type": "code",
   "execution_count": 432,
   "metadata": {},
   "outputs": [
    {
     "data": {
      "text/plain": [
       "[\"Men's Sneakers Walking Shoes - Lightweight Classic Whit...\",\n",
       " 'Sneakers For Men',\n",
       " 'Sneakers For Men',\n",
       " 'Combo Pack Of 4 Casual Shoes Loafer Shoes Sneakers For ...',\n",
       " 'Men Boxer Sneakers For Men',\n",
       " 'Perfect & Affordable Combo Pack of 02 Pairs Sneakers Ou...',\n",
       " \"Original Luxury Branded Fashionable Men's Casual Walkin...\",\n",
       " 'Luxury Fashionable casual sneaker shoes Sneakers For Me...',\n",
       " 'Luxury Fashionable casual sneaker shoes Sneakers For Me...',\n",
       " 'Sneakers For Men',\n",
       " 'Mens Walking Running Shoes - Lightweight Breathable Mes...',\n",
       " 'Birde Trendy Casual Shoes Sneakers For Men',\n",
       " 'White Sneaker For Men Sneakers For Men',\n",
       " 'Sneakers For Men',\n",
       " 'Sneakers For Men',\n",
       " \"White Sneaker For Men's/Boy's Sneakers For Men\",\n",
       " 'Series 7 Sneakers For Men',\n",
       " 'Sneakers For Men',\n",
       " 'Fashion Outdoor Canvas Casual Light Weight Lace-up Even...',\n",
       " 'Sneakers for men(black_6) Sneakers For Men',\n",
       " 'Black Sneaker For Men Sneakers For Men',\n",
       " \"Original Luxury Branded Fashionable Men's Casual Walkin...\",\n",
       " '5011-Latest Collection Stylish Casual Loafer Sneakers S...',\n",
       " 'shoe Sneakers For Men',\n",
       " 'Sneakers For Men',\n",
       " 'Sneakers Sneakers For Men',\n",
       " 'Sneakers For Men',\n",
       " 'Sneakers For Men',\n",
       " 'Sneakers For Men',\n",
       " 'Luxury Fashionable Breathable Casual Sneakers Shoes For...',\n",
       " \"Casual shoes,Sneakers for men's,shoes for men's Sneaker...\",\n",
       " 'luxury fashionable casual shoes Sneakers For Men',\n",
       " 'Sneakers For Men',\n",
       " 'Fashion Outdoor Canvas Casual Light Weight Lace-up Even...',\n",
       " 'HAWK21 Sneakers For Men',\n",
       " 'Modern & Trendy Collection Combo Pack of 02 Shoes for M...',\n",
       " 'Birde Trendy Casual Shoes Sneakers For Men',\n",
       " 'Unique & Perfect Collection Combo Pack of 02 Shoes for ...',\n",
       " 'casual for men (beige 06) Sneakers For Men',\n",
       " 'Men White Sneakers Sneakers For Men',\n",
       " 'Fashionable sneaker casual shoes Sneakers For Men',\n",
       " \"Men's Stylish Casual Shoes Sneakers For Men\",\n",
       " 'ABSOLUTEE SHOES ORANGE GYM SHOE FOR MEN Sneakers For Me...',\n",
       " 'SM-482 Sneakers For Men',\n",
       " 'Casual Sneakers White Shoes For Men And Boys Sneakers F...',\n",
       " 'SM-675 Sneakers For Men',\n",
       " 'Smart Casuals Canvas Shoes Combo pack of 2 Sneakers For...',\n",
       " 'HHM Sneakers For Men',\n",
       " 'Sneakers For Men',\n",
       " 'Sneakers For Men',\n",
       " 'White Sneakers Sneakers For Men',\n",
       " 'Casual Sneakers Shoes For Men Sneakers For Men',\n",
       " 'Birde Trendy Casual Shoes Sneakers For Men',\n",
       " 'Kor Sneakers For Men',\n",
       " 'Speed Set of 5 Pairs Sneakers Outdoors Casuals for Men ...',\n",
       " 'Shark-41 Sneakers For Men',\n",
       " 'SM-162 Sneakers For Men',\n",
       " 'Sneakers For Men',\n",
       " 'Sneakers For Men',\n",
       " 'Combo Men Pack of 2 Loafers Shoes Sneakers For Men',\n",
       " 'casual shoe for men Sneakers For Men',\n",
       " 'Synthetic Leather Casual Partywear Wedding Sneakers Sho...',\n",
       " \"Casual , Partywear Sneakers Shoes For Men's And Boys Wh...\",\n",
       " 'X-Ray 2 Square Mid WTR Sneakers For Men',\n",
       " 'Sneakers For Men',\n",
       " 'SM-322 Sneakers For Men',\n",
       " '303 Sneakers For Men',\n",
       " 'Casual Sneakers Shoes For Men And Boys Sneakers For Men',\n",
       " 'X-Ray Sneakers For Men',\n",
       " 'Relaxed Attractive Combo pack of 3 Sneakers For Men',\n",
       " 'Casual Sneakers Sneakers For Men',\n",
       " 'White Sneakers | Top Rated Shoes | Gym Shoes | Running ...',\n",
       " 'MAPF1 A3ROCAT Mid Sneakers For Men',\n",
       " 'Birde Trendy Casual Shoes Sneakers For Men',\n",
       " 'Men Casual Shoe New Trend With Fashion Panda Desgined L...',\n",
       " 'Combo Men Pack of 2 Loafers Shoes Sneakers For Men',\n",
       " 'Vs Pace Sneakers For Men',\n",
       " 'Luxury Fashionable Breathable Casual Sneakers Shoes For...',\n",
       " 'Men & Boys Stylish, Comfortable Mesh Shoes With Soft La...',\n",
       " 'Combo Pack Of 3 Sneakers For Men',\n",
       " 'Mens Canvas Shoes for boys (Black) Sneakers For Men',\n",
       " 'Canvas Shoes Sneakers Casuals Boots Slip On Sneakers Lo...',\n",
       " 'Sneakers For Men',\n",
       " 'RAMBOW FUNKY SHOE FOR GYM OUTDOOR WALKING Sneakers For ...',\n",
       " 'Sneakers For Men',\n",
       " \"Casual , Partywear Sneakers Shoes For Men's And Boys Re...\",\n",
       " 'Sneakers For Men',\n",
       " 'Sneakers For Men',\n",
       " 'Lazy Knit Slip On IDP Sneakers For Men',\n",
       " 'Sneakers For Men',\n",
       " 'Thunder Sneakers For Men']"
      ]
     },
     "execution_count": 432,
     "metadata": {},
     "output_type": "execute_result"
    }
   ],
   "source": [
    "product_description=[]\n",
    "for i in page_url2:\n",
    "    driver.get(i)\n",
    "    product_discrip=driver.find_elements_by_xpath(\"//a[@class='IRpwTa']\")[:100]\n",
    "    for i in product_discrip:\n",
    "        product_description.append(i.text)\n",
    "product_description"
   ]
  },
  {
   "cell_type": "code",
   "execution_count": 429,
   "metadata": {},
   "outputs": [
    {
     "data": {
      "text/plain": [
       "['₹379',\n",
       " '₹429',\n",
       " '₹356',\n",
       " '₹474',\n",
       " '₹236',\n",
       " '₹599',\n",
       " '₹499',\n",
       " '₹1,499',\n",
       " '₹379',\n",
       " '₹375',\n",
       " '₹398',\n",
       " '₹379',\n",
       " '₹359',\n",
       " '₹429',\n",
       " '₹449',\n",
       " '₹399',\n",
       " '₹449',\n",
       " '₹349',\n",
       " '₹444',\n",
       " '₹379',\n",
       " '₹474',\n",
       " '₹198',\n",
       " '₹449',\n",
       " '₹1,259',\n",
       " '₹499',\n",
       " '₹240',\n",
       " '₹264',\n",
       " '₹399',\n",
       " '₹398',\n",
       " '₹398',\n",
       " '₹460',\n",
       " '₹399',\n",
       " '₹378',\n",
       " '₹349',\n",
       " '₹379',\n",
       " '₹449',\n",
       " '₹499',\n",
       " '₹474',\n",
       " '₹649',\n",
       " '₹472',\n",
       " '₹444',\n",
       " '₹283',\n",
       " '₹599',\n",
       " '₹699',\n",
       " '₹449',\n",
       " '₹623',\n",
       " '₹168',\n",
       " '₹629',\n",
       " '₹627',\n",
       " '₹379',\n",
       " '₹359',\n",
       " '₹378',\n",
       " '₹398',\n",
       " '₹630',\n",
       " '₹985',\n",
       " '₹238',\n",
       " '₹399',\n",
       " '₹745',\n",
       " '₹399',\n",
       " '₹399',\n",
       " '₹499',\n",
       " '₹499',\n",
       " '₹311',\n",
       " '₹449',\n",
       " '₹399',\n",
       " '₹283',\n",
       " '₹1,400',\n",
       " '₹899',\n",
       " '₹444',\n",
       " '₹849',\n",
       " '₹439',\n",
       " '₹419',\n",
       " '₹569',\n",
       " '₹362',\n",
       " '₹449',\n",
       " '₹519',\n",
       " '₹379',\n",
       " '₹660',\n",
       " '₹445',\n",
       " '₹521',\n",
       " '₹384',\n",
       " '₹3,690',\n",
       " '₹449',\n",
       " '₹399',\n",
       " '₹719',\n",
       " '₹299',\n",
       " '₹474',\n",
       " '₹599',\n",
       " '₹398',\n",
       " '₹445',\n",
       " '₹3,500',\n",
       " '₹9,999',\n",
       " '₹809',\n",
       " '₹935',\n",
       " '₹475',\n",
       " '₹2,159',\n",
       " '₹359',\n",
       " '₹449',\n",
       " '₹362',\n",
       " '₹494',\n",
       " '₹398',\n",
       " '₹398',\n",
       " '₹474',\n",
       " '₹424',\n",
       " '₹299',\n",
       " '₹380',\n",
       " '₹215',\n",
       " '₹395',\n",
       " '₹449',\n",
       " '₹449',\n",
       " '₹379',\n",
       " '₹969',\n",
       " '₹439',\n",
       " '₹346',\n",
       " '₹240',\n",
       " '₹339',\n",
       " '₹257',\n",
       " '₹1,047',\n",
       " '₹341',\n",
       " '₹379']"
      ]
     },
     "execution_count": 429,
     "metadata": {},
     "output_type": "execute_result"
    }
   ],
   "source": [
    "price=[]\n",
    "for i in page_url2:\n",
    "    driver.get(i)\n",
    "    pri=driver.find_elements_by_xpath(\"//div[@class='_30jeq3']\")[:100]\n",
    "    for i in pri:\n",
    "        price.append(i.text)\n",
    "price"
   ]
  },
  {
   "cell_type": "code",
   "execution_count": 430,
   "metadata": {},
   "outputs": [
    {
     "data": {
      "text/plain": [
       "['57% off',\n",
       " '59% off',\n",
       " '64% off',\n",
       " '86% off',\n",
       " '52% off',\n",
       " '66% off',\n",
       " '75% off',\n",
       " '87% off',\n",
       " '70% off',\n",
       " '62% off',\n",
       " '60% off',\n",
       " '60% off',\n",
       " '28% off',\n",
       " '66% off',\n",
       " '77% off',\n",
       " '70% off',\n",
       " '65% off',\n",
       " '65% off',\n",
       " '55% off',\n",
       " '65% off',\n",
       " '52% off',\n",
       " '60% off',\n",
       " '55% off',\n",
       " '80% off',\n",
       " '50% off',\n",
       " '51% off',\n",
       " '47% off',\n",
       " '65% off',\n",
       " '60% off',\n",
       " '60% off',\n",
       " '53% off',\n",
       " '80% off',\n",
       " '81% off',\n",
       " '65% off',\n",
       " '62% off',\n",
       " '68% off',\n",
       " '50% off',\n",
       " '52% off',\n",
       " '7% off',\n",
       " '54% off',\n",
       " '82% off',\n",
       " '43% off',\n",
       " '60% off',\n",
       " '46% off',\n",
       " '55% off',\n",
       " '16% off',\n",
       " '71% off',\n",
       " '68% off',\n",
       " '37% off',\n",
       " '81% off',\n",
       " '28% off',\n",
       " '62% off',\n",
       " '69% off',\n",
       " '36% off',\n",
       " '26% off',\n",
       " '52% off',\n",
       " '60% off',\n",
       " '17% off',\n",
       " '60% off',\n",
       " '60% off',\n",
       " '75% off',\n",
       " '50% off',\n",
       " '68% off',\n",
       " '55% off',\n",
       " '60% off',\n",
       " '43% off',\n",
       " '64% off',\n",
       " '63% off',\n",
       " '55% off',\n",
       " '10% off',\n",
       " '56% off',\n",
       " '30% off',\n",
       " '64% off',\n",
       " '63% off',\n",
       " '55% off',\n",
       " '67% off',\n",
       " '62% off',\n",
       " '17% off',\n",
       " '55% off',\n",
       " '65% off',\n",
       " '61% off',\n",
       " '58% off',\n",
       " '85% off',\n",
       " '81% off',\n",
       " '23% off',\n",
       " '40% off',\n",
       " '52% off',\n",
       " '80% off',\n",
       " '60% off',\n",
       " '69% off',\n",
       " '49% off',\n",
       " '59% off',\n",
       " '10% off',\n",
       " '23% off',\n",
       " '74% off',\n",
       " '28% off',\n",
       " '55% off',\n",
       " '70% off',\n",
       " '46% off',\n",
       " '69% off',\n",
       " '80% off',\n",
       " '52% off',\n",
       " '67% off',\n",
       " '70% off',\n",
       " '61% off',\n",
       " '64% off',\n",
       " '57% off',\n",
       " '77% off',\n",
       " '71% off',\n",
       " '81% off',\n",
       " '60% off',\n",
       " '56% off',\n",
       " '65% off',\n",
       " '51% off',\n",
       " '75% off',\n",
       " '63% off',\n",
       " '65% off',\n",
       " '81% off',\n",
       " '71% off']"
      ]
     },
     "execution_count": 430,
     "metadata": {},
     "output_type": "execute_result"
    }
   ],
   "source": [
    "discount=[]\n",
    "for i in page_url2:\n",
    "    driver.get(i)\n",
    "    disc=driver.find_elements_by_xpath(\"//div[@class='_3Ay6Sb']//span\")[:100]\n",
    "    for i in disc:\n",
    "        discount.append(i.text)\n",
    "discount"
   ]
  },
  {
   "cell_type": "markdown",
   "metadata": {},
   "source": [
    "Q9: Go to the link - https://www.myntra.com/shoes"
   ]
  },
  {
   "cell_type": "code",
   "execution_count": 438,
   "metadata": {},
   "outputs": [],
   "source": [
    "url=' https://www.myntra.com/shoes'\n",
    "driver.get(url)"
   ]
  },
  {
   "cell_type": "code",
   "execution_count": 439,
   "metadata": {},
   "outputs": [],
   "source": [
    "price_filter = driver.find_element_by_xpath('/html/body/div[2]/div/div[1]/main/div[3]/div[1]/section/div/div[5]/ul/li[2]')\n",
    "price_filter.click()"
   ]
  },
  {
   "cell_type": "code",
   "execution_count": 440,
   "metadata": {},
   "outputs": [],
   "source": [
    "colour_filter=driver.find_element_by_xpath('/html/body/div[2]/div/div[1]/main/div[3]/div[1]/section/div/div[6]/ul/li[1]/label')\n",
    "colour_filter.click()"
   ]
  },
  {
   "cell_type": "code",
   "execution_count": 441,
   "metadata": {},
   "outputs": [
    {
     "data": {
      "text/plain": [
       "['https://www.myntra.com/shoes?f=Color%3ABlack_36454f&plaEnabled=false&rf=Price%3A6897.0_13595.0_6897.0%20TO%2013595.0&p=2',\n",
       " 'https://www.myntra.com/shoes?f=Color%3ABlack_36454f&plaEnabled=false&rf=Price%3A6897.0_13595.0_6897.0%20TO%2013595.0&p=3']"
      ]
     },
     "execution_count": 441,
     "metadata": {},
     "output_type": "execute_result"
    }
   ],
   "source": [
    "page_url3=[]\n",
    "url = driver.find_elements_by_xpath(\"//li[@class='pagination-number']//a\")[:2]\n",
    "for i in url:\n",
    "    page_url3.append(i.get_attribute('href'))\n",
    "page_url3"
   ]
  },
  {
   "cell_type": "code",
   "execution_count": 442,
   "metadata": {},
   "outputs": [
    {
     "data": {
      "text/plain": [
       "['ROSSO BRUNELLO',\n",
       " 'ASICS',\n",
       " 'J.FONTINI',\n",
       " 'Saint G',\n",
       " 'Heel & Buckle London',\n",
       " 'KIPRUN By Decathlon',\n",
       " 'Puma',\n",
       " 'PUMA Motorsport',\n",
       " 'Puma',\n",
       " 'Puma',\n",
       " 'Heel & Buckle London',\n",
       " 'Cole Haan',\n",
       " 'Cole Haan',\n",
       " 'Cole Haan',\n",
       " 'VIONIC',\n",
       " 'J.FONTINI',\n",
       " 'J.FONTINI',\n",
       " 'J.FONTINI',\n",
       " 'Kalenji By Decathlon',\n",
       " 'Puma',\n",
       " 'Nike',\n",
       " 'PUMA Motorsport',\n",
       " 'Geox',\n",
       " 'Puma',\n",
       " 'Heel & Buckle London',\n",
       " 'ASICS',\n",
       " 'ASICS',\n",
       " 'ASICS',\n",
       " 'Bugatti',\n",
       " 'Bugatti',\n",
       " 'Saint G',\n",
       " 'Heel & Buckle London',\n",
       " 'Saint G',\n",
       " 'Saint G',\n",
       " 'Kenneth Cole',\n",
       " 'Heel & Buckle London',\n",
       " 'Geox',\n",
       " 'J.FONTINI',\n",
       " 'Geox',\n",
       " 'Geox',\n",
       " 'Cole Haan',\n",
       " 'Geox',\n",
       " 'Florsheim',\n",
       " 'Tommy Hilfiger',\n",
       " 'Heel & Buckle London',\n",
       " 'Ruosh',\n",
       " 'Heel & Buckle London',\n",
       " 'PUMA Motorsport',\n",
       " 'Puma',\n",
       " 'Puma',\n",
       " 'J.FONTINI',\n",
       " 'Nike',\n",
       " 'Nike',\n",
       " 'J.FONTINI',\n",
       " 'J.FONTINI',\n",
       " 'Heel & Buckle London',\n",
       " 'Kenneth Cole',\n",
       " 'Kenneth Cole',\n",
       " 'J.FONTINI',\n",
       " 'Nike',\n",
       " 'Saint G',\n",
       " 'Geox',\n",
       " 'Geox',\n",
       " 'Geox',\n",
       " 'Nike',\n",
       " 'Nike',\n",
       " 'ASICS',\n",
       " 'DAVINCHI',\n",
       " 'Sole To Soul',\n",
       " 'Sole To Soul',\n",
       " 'DAVINCHI',\n",
       " 'Tommy Hilfiger',\n",
       " 'Sole To Soul',\n",
       " 'Saint G',\n",
       " 'Puma',\n",
       " 'Nike',\n",
       " 'Geox',\n",
       " 'Tommy Hilfiger',\n",
       " 'DAVINCHI',\n",
       " 'Tommy Hilfiger',\n",
       " 'J.FONTINI',\n",
       " 'J.FONTINI',\n",
       " 'DAVINCHI',\n",
       " 'PUMA Motorsport',\n",
       " 'DAVINCHI',\n",
       " 'DAVINCHI',\n",
       " 'Cole Haan',\n",
       " 'Nike',\n",
       " 'UNDER ARMOUR',\n",
       " 'Clarks',\n",
       " 'Puma',\n",
       " 'ADIDAS',\n",
       " 'Florsheim',\n",
       " 'Puma',\n",
       " 'Puma',\n",
       " 'ADIDAS',\n",
       " 'Puma',\n",
       " 'PUMA Motorsport',\n",
       " 'ASICS',\n",
       " 'Puma']"
      ]
     },
     "execution_count": 442,
     "metadata": {},
     "output_type": "execute_result"
    }
   ],
   "source": [
    "product_brands=[]\n",
    "for i in page_url3:\n",
    "    driver.get(i)\n",
    "    brand=driver.find_elements_by_xpath(\"//h3[@class='product-brand']\")[:100]\n",
    "    for i in brand:\n",
    "        product_brands.append(i.text)\n",
    "product_brands"
   ]
  },
  {
   "cell_type": "code",
   "execution_count": 443,
   "metadata": {},
   "outputs": [
    {
     "data": {
      "text/plain": [
       "['Leather Block Sandals',\n",
       " 'Women GlideRide Running Shoes',\n",
       " 'Men Solid Leather Formal Derbys',\n",
       " 'Women Leather Heeled Boots',\n",
       " 'Women Solid Leather Gladiators',\n",
       " 'Women Running Shoes',\n",
       " 'Women RS-Curve City Sneakers',\n",
       " 'Women BMW M Motorsport Shoes',\n",
       " 'Women Fuse Moto Training Shoes',\n",
       " 'Women Liberate NITRO Running',\n",
       " 'Men Leather Sneakers',\n",
       " 'Men Wingtip Oxford Sneakers',\n",
       " 'Men GENERATION ZEROGRAND STITCHLITE',\n",
       " 'Leather Sneakers',\n",
       " 'Men Textured Sneakers',\n",
       " 'Men Textured Leather Loafers',\n",
       " 'Men Solid Leather Loafers',\n",
       " 'Men Textured Leather Loafers',\n",
       " 'Men KD500 Running Shoe',\n",
       " 'Men Running Shoes',\n",
       " 'Women Air Zoom Running Shoes',\n",
       " 'Unisex BMW MMS RS-FastSneakers',\n",
       " 'Men Leather Formal Slip-Ons',\n",
       " 'Men Jamming 2.0 Running Shoes',\n",
       " 'Men Tassel Leather Loafer',\n",
       " 'Men Black Running Sports Shoes',\n",
       " 'Men Tennis Shoes',\n",
       " 'Men GEL-GLYDE 3 MX Running',\n",
       " 'Men Black Walking Shoes',\n",
       " 'Men Walking Shoes',\n",
       " 'Women Leather Heeled Boots',\n",
       " 'Women Solid Leather Heels',\n",
       " 'Women Leather Heeled Boots',\n",
       " 'Women Heeled Boots',\n",
       " 'Women Leather Pumps',\n",
       " 'Women Peep Toe Heels',\n",
       " 'Men Leather Formal Slip-Ons',\n",
       " 'Men Textured Leather Loafers',\n",
       " 'Men Solid Sneakers',\n",
       " 'Men Leather Flat Boots',\n",
       " 'Women Open Toe Flats',\n",
       " 'Men Leather Driving Shoes',\n",
       " 'Men Solid Leather Formal Derbys',\n",
       " 'Men Suede Sneakers',\n",
       " 'Men Leather Formal Loafers',\n",
       " 'Women Leather Pumps',\n",
       " 'Men Solid Leather Formal Monks',\n",
       " 'Unisex Mercedes F1 Sneakers',\n",
       " 'Unisex Pacer Future Sneakers',\n",
       " 'Unisex Mirage Sport Trainers',\n",
       " 'Men Solid Leather Formal Slip-Ons',\n",
       " 'Men ZOOM SPAN 3 Running Shoes',\n",
       " 'Men Vomero 16 Running Shoes',\n",
       " 'Men Solid Leather Formal Slip-Ons',\n",
       " 'Men Leather Formal Loafers',\n",
       " 'Men Solid Leather Formal Penny Loafers',\n",
       " 'Women LeatherSneakers',\n",
       " 'Women Solid Flat Boots',\n",
       " 'Men Leather Formal Loafers',\n",
       " 'Men Zoom Winflo 8 Shoes',\n",
       " 'Leather Block Peep Toes',\n",
       " 'Leather Heeled Boots',\n",
       " 'Leather Heeled Boots',\n",
       " 'Leather Heeled Boots',\n",
       " 'Men Air Max Infinity 2 Sneaker',\n",
       " 'Men AIR MAX INFINITY Sneakers',\n",
       " 'Men Gel-Pulse13 G-TX Running',\n",
       " 'Ustraa black',\n",
       " 'Women Block Heeled Boots',\n",
       " 'Men Formal Leather Slip-Ons',\n",
       " 'Platform Peep Toes with Buckles',\n",
       " 'Men Leather Horsebit Loafers',\n",
       " 'Block Heeled Boots with Laser Cuts',\n",
       " 'Women Embellished Sandals',\n",
       " 'Unisex KING Pro Football Shoes',\n",
       " 'Men Air Max 90 Sneakers',\n",
       " 'Women Mid-Top Flat Boots',\n",
       " 'Men Printed Leather Loafers',\n",
       " 'Women Hybrid Leather Sneakers',\n",
       " 'Men Textured Leather Formal Loafers',\n",
       " 'Men Solid Leather Shoes',\n",
       " 'Men Textured Formal Leather Loafers',\n",
       " 'Women F1 Ridge Cat Sneakers',\n",
       " 'Men Textured Formal Leather Loafers',\n",
       " 'Men Solid Formal Leather Slip-On Shoes',\n",
       " 'Men Solid Leather Formal Derbys',\n",
       " 'Women Leather Sneakers',\n",
       " 'Men Air Max Infinity 2 Shoes',\n",
       " 'HOVR Infinite 2 Running Shoes',\n",
       " 'Men Leather Loafers',\n",
       " 'Unisex Colourblocked Sneakers',\n",
       " 'Men Kaptir Super Sneakers',\n",
       " 'Men Solid Leather Formal Brogues',\n",
       " 'Unisex Rebound Future Trainers',\n",
       " 'Unisex OP-1 PWRFrame Trainers',\n",
       " 'Men X9000L3 Running Shoes',\n",
       " 'Unisex Black Sneakers',\n",
       " 'Unisex Mercedes F1 Sneakers',\n",
       " 'Men Black Running Shoes',\n",
       " 'Unisex Running Shoes']"
      ]
     },
     "execution_count": 443,
     "metadata": {},
     "output_type": "execute_result"
    }
   ],
   "source": [
    "shoe_description=[]\n",
    "for i in page_url3:\n",
    "    driver.get(i)\n",
    "    shoe_descrip=driver.find_elements_by_xpath(\"//h4[@class='product-product']\")[:100]\n",
    "    for i in shoe_descrip:\n",
    "        shoe_description.append(i.text)\n",
    "shoe_description"
   ]
  },
  {
   "cell_type": "code",
   "execution_count": 444,
   "metadata": {},
   "outputs": [
    {
     "data": {
      "text/plain": [
       "['Rs. 10355Rs. 10900(5% OFF)',\n",
       " 'Rs. 11199Rs. 13999(20% OFF)',\n",
       " 'Rs. 6990',\n",
       " 'Rs. 7600',\n",
       " 'Rs. 6993Rs. 9990(30% OFF)',\n",
       " 'Rs. 7006Rs. 7149(2% OFF)',\n",
       " 'Rs. 6999',\n",
       " 'Rs. 6999',\n",
       " 'Rs. 7999',\n",
       " 'Rs. 9999',\n",
       " 'Rs. 7693Rs. 10990(30% OFF)',\n",
       " 'Rs. 12999',\n",
       " 'Rs. 11999',\n",
       " 'Rs. 10999',\n",
       " 'Rs. 7039Rs. 10999(36% OFF)',\n",
       " 'Rs. 7990',\n",
       " 'Rs. 7990',\n",
       " 'Rs. 7990',\n",
       " 'Rs. 7773Rs. 8449(8% OFF)',\n",
       " 'Rs. 10399Rs. 12999(20% OFF)',\n",
       " 'Rs. 10295',\n",
       " 'Rs. 7499Rs. 9999(25% OFF)',\n",
       " 'Rs. 8999',\n",
       " 'Rs. 12999',\n",
       " 'Rs. 9093Rs. 12990(30% OFF)',\n",
       " 'Rs. 7999',\n",
       " 'Rs. 9999',\n",
       " 'Rs. 7199Rs. 8999(20% OFF)',\n",
       " 'Rs. 8999',\n",
       " 'Rs. 8999',\n",
       " 'Rs. 8900',\n",
       " 'Rs. 6993Rs. 9990(30% OFF)',\n",
       " 'Rs. 8500',\n",
       " 'Rs. 8000',\n",
       " 'Rs. 10493Rs. 14990(30% OFF)',\n",
       " 'Rs. 7192Rs. 8990(20% OFF)',\n",
       " 'Rs. 11242Rs. 14990(25% OFF)',\n",
       " 'Rs. 6990',\n",
       " 'Rs. 10999',\n",
       " 'Rs. 11999',\n",
       " 'Rs. 11999',\n",
       " 'Rs. 9999',\n",
       " 'Rs. 6995',\n",
       " 'Rs. 7599',\n",
       " 'Rs. 7992Rs. 9990(20% OFF)',\n",
       " 'Rs. 8990',\n",
       " 'Rs. 7192Rs. 8990(20% OFF)',\n",
       " 'Rs. 7999',\n",
       " 'Rs. 6999',\n",
       " 'Rs. 8999',\n",
       " 'Rs. 7990',\n",
       " 'Rs. 7195',\n",
       " 'Rs. 13495',\n",
       " 'Rs. 7990',\n",
       " 'Rs. 6990',\n",
       " 'Rs. 8792Rs. 10990(20% OFF)',\n",
       " 'Rs. 7343Rs. 10490(30% OFF)',\n",
       " 'Rs. 9513Rs. 13590(30% OFF)',\n",
       " 'Rs. 6990',\n",
       " 'Rs. 8295',\n",
       " 'Rs. 9975Rs. 10500(5% OFF)',\n",
       " 'Rs. 12999',\n",
       " 'Rs. 10999',\n",
       " 'Rs. 11999',\n",
       " 'Rs. 8295',\n",
       " 'Rs. 8295',\n",
       " 'Rs. 7999Rs. 9999(20% OFF)',\n",
       " 'Rs. 8990',\n",
       " 'Rs. 7990',\n",
       " 'Rs. 8990',\n",
       " 'Rs. 7690',\n",
       " 'Rs. 8599',\n",
       " 'Rs. 7990',\n",
       " 'Rs. 7000',\n",
       " 'Rs. 7499Rs. 9999(25% OFF)',\n",
       " 'Rs. 10295',\n",
       " 'Rs. 10999',\n",
       " 'Rs. 8599',\n",
       " 'Rs. 8990',\n",
       " 'Rs. 7999',\n",
       " 'Rs. 8990',\n",
       " 'Rs. 6990',\n",
       " 'Rs. 8990',\n",
       " 'Rs. 6999',\n",
       " 'Rs. 6990',\n",
       " 'Rs. 8990',\n",
       " 'Rs. 10999',\n",
       " 'Rs. 8295',\n",
       " 'Rs. 11999',\n",
       " 'Rs. 6999',\n",
       " 'Rs. 7999',\n",
       " 'Rs. 8999',\n",
       " 'Rs. 7495',\n",
       " 'Rs. 6999',\n",
       " 'Rs. 10999',\n",
       " 'Rs. 11999',\n",
       " 'Rs. 7499',\n",
       " 'Rs. 7999',\n",
       " 'Rs. 9999',\n",
       " 'Rs. 9999']"
      ]
     },
     "execution_count": 444,
     "metadata": {},
     "output_type": "execute_result"
    }
   ],
   "source": [
    "price=[]\n",
    "for i in page_url3:\n",
    "    driver.get(i)\n",
    "    pri=driver.find_elements_by_xpath(\"//div[@class='product-price']\")[:100]\n",
    "    for i in pri:\n",
    "        price.append(i.text)\n",
    "price"
   ]
  },
  {
   "cell_type": "code",
   "execution_count": 445,
   "metadata": {},
   "outputs": [
    {
     "name": "stdout",
     "output_type": "stream",
     "text": [
      "100 100 100\n"
     ]
    }
   ],
   "source": [
    "print(len(product_brands),len(shoe_description),len(price))"
   ]
  },
  {
   "cell_type": "code",
   "execution_count": 446,
   "metadata": {},
   "outputs": [
    {
     "data": {
      "text/html": [
       "<div>\n",
       "<style scoped>\n",
       "    .dataframe tbody tr th:only-of-type {\n",
       "        vertical-align: middle;\n",
       "    }\n",
       "\n",
       "    .dataframe tbody tr th {\n",
       "        vertical-align: top;\n",
       "    }\n",
       "\n",
       "    .dataframe thead th {\n",
       "        text-align: right;\n",
       "    }\n",
       "</style>\n",
       "<table border=\"1\" class=\"dataframe\">\n",
       "  <thead>\n",
       "    <tr style=\"text-align: right;\">\n",
       "      <th></th>\n",
       "      <th>Brands</th>\n",
       "      <th>Shoe Description</th>\n",
       "      <th>Price</th>\n",
       "    </tr>\n",
       "  </thead>\n",
       "  <tbody>\n",
       "    <tr>\n",
       "      <th>0</th>\n",
       "      <td>ROSSO BRUNELLO</td>\n",
       "      <td>Leather Block Sandals</td>\n",
       "      <td>Rs. 10355Rs. 10900(5% OFF)</td>\n",
       "    </tr>\n",
       "    <tr>\n",
       "      <th>1</th>\n",
       "      <td>ASICS</td>\n",
       "      <td>Women GlideRide Running Shoes</td>\n",
       "      <td>Rs. 11199Rs. 13999(20% OFF)</td>\n",
       "    </tr>\n",
       "    <tr>\n",
       "      <th>2</th>\n",
       "      <td>J.FONTINI</td>\n",
       "      <td>Men Solid Leather Formal Derbys</td>\n",
       "      <td>Rs. 6990</td>\n",
       "    </tr>\n",
       "    <tr>\n",
       "      <th>3</th>\n",
       "      <td>Saint G</td>\n",
       "      <td>Women Leather Heeled Boots</td>\n",
       "      <td>Rs. 7600</td>\n",
       "    </tr>\n",
       "    <tr>\n",
       "      <th>4</th>\n",
       "      <td>Heel &amp; Buckle London</td>\n",
       "      <td>Women Solid Leather Gladiators</td>\n",
       "      <td>Rs. 6993Rs. 9990(30% OFF)</td>\n",
       "    </tr>\n",
       "    <tr>\n",
       "      <th>...</th>\n",
       "      <td>...</td>\n",
       "      <td>...</td>\n",
       "      <td>...</td>\n",
       "    </tr>\n",
       "    <tr>\n",
       "      <th>95</th>\n",
       "      <td>ADIDAS</td>\n",
       "      <td>Men X9000L3 Running Shoes</td>\n",
       "      <td>Rs. 11999</td>\n",
       "    </tr>\n",
       "    <tr>\n",
       "      <th>96</th>\n",
       "      <td>Puma</td>\n",
       "      <td>Unisex Black Sneakers</td>\n",
       "      <td>Rs. 7499</td>\n",
       "    </tr>\n",
       "    <tr>\n",
       "      <th>97</th>\n",
       "      <td>PUMA Motorsport</td>\n",
       "      <td>Unisex Mercedes F1 Sneakers</td>\n",
       "      <td>Rs. 7999</td>\n",
       "    </tr>\n",
       "    <tr>\n",
       "      <th>98</th>\n",
       "      <td>ASICS</td>\n",
       "      <td>Men Black Running Shoes</td>\n",
       "      <td>Rs. 9999</td>\n",
       "    </tr>\n",
       "    <tr>\n",
       "      <th>99</th>\n",
       "      <td>Puma</td>\n",
       "      <td>Unisex Running Shoes</td>\n",
       "      <td>Rs. 9999</td>\n",
       "    </tr>\n",
       "  </tbody>\n",
       "</table>\n",
       "<p>100 rows × 3 columns</p>\n",
       "</div>"
      ],
      "text/plain": [
       "                  Brands                 Shoe Description  \\\n",
       "0         ROSSO BRUNELLO            Leather Block Sandals   \n",
       "1                  ASICS    Women GlideRide Running Shoes   \n",
       "2              J.FONTINI  Men Solid Leather Formal Derbys   \n",
       "3                Saint G       Women Leather Heeled Boots   \n",
       "4   Heel & Buckle London   Women Solid Leather Gladiators   \n",
       "..                   ...                              ...   \n",
       "95                ADIDAS        Men X9000L3 Running Shoes   \n",
       "96                  Puma            Unisex Black Sneakers   \n",
       "97       PUMA Motorsport      Unisex Mercedes F1 Sneakers   \n",
       "98                 ASICS          Men Black Running Shoes   \n",
       "99                  Puma             Unisex Running Shoes   \n",
       "\n",
       "                          Price  \n",
       "0    Rs. 10355Rs. 10900(5% OFF)  \n",
       "1   Rs. 11199Rs. 13999(20% OFF)  \n",
       "2                      Rs. 6990  \n",
       "3                      Rs. 7600  \n",
       "4     Rs. 6993Rs. 9990(30% OFF)  \n",
       "..                          ...  \n",
       "95                    Rs. 11999  \n",
       "96                     Rs. 7499  \n",
       "97                     Rs. 7999  \n",
       "98                     Rs. 9999  \n",
       "99                     Rs. 9999  \n",
       "\n",
       "[100 rows x 3 columns]"
      ]
     },
     "execution_count": 446,
     "metadata": {},
     "output_type": "execute_result"
    }
   ],
   "source": [
    "shoes=pd.DataFrame({})\n",
    "shoes['Brands']=product_brands\n",
    "shoes['Shoe Description']=shoe_description\n",
    "shoes['Price']=price\n",
    "shoes"
   ]
  },
  {
   "cell_type": "markdown",
   "metadata": {},
   "source": [
    "Q10: Go to webpage https://www.amazon.in/"
   ]
  },
  {
   "cell_type": "code",
   "execution_count": 447,
   "metadata": {},
   "outputs": [],
   "source": [
    "url='https://www.amazon.in/'\n",
    "driver.get(url)"
   ]
  },
  {
   "cell_type": "code",
   "execution_count": 448,
   "metadata": {},
   "outputs": [],
   "source": [
    "search=driver.find_element_by_id('twotabsearchtextbox')\n",
    "search.send_keys('Laptop')"
   ]
  },
  {
   "cell_type": "code",
   "execution_count": 449,
   "metadata": {},
   "outputs": [],
   "source": [
    "search_button=driver.find_element_by_xpath(\"//input[@id='nav-search-submit-button']\")\n",
    "search_button.click()"
   ]
  },
  {
   "cell_type": "code",
   "execution_count": 453,
   "metadata": {},
   "outputs": [],
   "source": [
    "filter=driver.find_elements_by_xpath(\"//a[@class='a-link-normal s-navigation-item']/span\")\n",
    "\n",
    "for i in filter:\n",
    "    if i.text=='Intel Core i7':\n",
    "        i.click()\n",
    "        break"
   ]
  },
  {
   "cell_type": "code",
   "execution_count": 454,
   "metadata": {},
   "outputs": [],
   "source": [
    "filter=driver.find_elements_by_xpath(\"//a[@class='a-link-normal s-navigation-item']/span\")\n",
    "\n",
    "for i in filter:\n",
    "    if i.text=='Intel Core i9':\n",
    "        i.click()\n",
    "        break"
   ]
  },
  {
   "cell_type": "code",
   "execution_count": 455,
   "metadata": {},
   "outputs": [
    {
     "data": {
      "text/plain": [
       "[<selenium.webdriver.remote.webelement.WebElement (session=\"745e0f00773ec9e095856b44d83c498d\", element=\"9be2b6c3-5c07-48f6-985d-128e4f282654\")>,\n",
       " <selenium.webdriver.remote.webelement.WebElement (session=\"745e0f00773ec9e095856b44d83c498d\", element=\"bbf38347-a60b-483a-b81e-0dddf4291b94\")>,\n",
       " <selenium.webdriver.remote.webelement.WebElement (session=\"745e0f00773ec9e095856b44d83c498d\", element=\"c2544cb4-2d37-4179-acf7-68def37e0eea\")>,\n",
       " <selenium.webdriver.remote.webelement.WebElement (session=\"745e0f00773ec9e095856b44d83c498d\", element=\"3168b9a5-e1ea-4f0e-865f-fb5550be8513\")>,\n",
       " <selenium.webdriver.remote.webelement.WebElement (session=\"745e0f00773ec9e095856b44d83c498d\", element=\"8e0627a8-2add-4278-804d-edb77d0c7900\")>,\n",
       " <selenium.webdriver.remote.webelement.WebElement (session=\"745e0f00773ec9e095856b44d83c498d\", element=\"2257a34c-f1f1-45a1-bcb3-c79ca90fd4a8\")>,\n",
       " <selenium.webdriver.remote.webelement.WebElement (session=\"745e0f00773ec9e095856b44d83c498d\", element=\"e1260d1d-715d-4178-861d-2ef71562c8c2\")>,\n",
       " <selenium.webdriver.remote.webelement.WebElement (session=\"745e0f00773ec9e095856b44d83c498d\", element=\"f9778f50-f255-4375-8f1d-748773433957\")>,\n",
       " <selenium.webdriver.remote.webelement.WebElement (session=\"745e0f00773ec9e095856b44d83c498d\", element=\"90184e51-a794-4dc1-a96d-cbb2d83b5655\")>,\n",
       " <selenium.webdriver.remote.webelement.WebElement (session=\"745e0f00773ec9e095856b44d83c498d\", element=\"41177331-525f-4b70-8f72-586038cb86a6\")>]"
      ]
     },
     "execution_count": 455,
     "metadata": {},
     "output_type": "execute_result"
    }
   ],
   "source": [
    "product_title=driver.find_elements_by_xpath(\"//h2[@class='a-size-mini a-spacing-none a-color-base s-line-clamp-2']\")[:10]\n",
    "product_title"
   ]
  },
  {
   "cell_type": "code",
   "execution_count": 471,
   "metadata": {},
   "outputs": [
    {
     "data": {
      "text/plain": [
       "['HP Envy 11th Gen Core i7 Processor 13.3-inch (33.78 cms) FHD Touchscreen Laptop (16GB/1TB SSD/Win 10/NVIDIA MX450 2GB/Natural Silver/1.3 kg), 13-ba1018TX',\n",
       " 'Acer Swift 5 14\" (35.56cms) Full HD IPS Display with Touchscreen Ultra Thin and Light Notebook (Intel i7 - 11th Gen/16GB RAM/1TB SSD/Win10/Intel Iris Xe Graphics/1.05 Kg/Mist Green), SF514-55TA',\n",
       " 'Mi Notebook Horizon Edition 14 Intel Core i7-10510U 10th Gen Thin and Light Laptop(8GB/512GB SSD/Windows 10/Nvidia MX350 2GB Graphics/Grey/1.35Kg)(Without Webcam) XMA1904-AF',\n",
       " 'Lenovo IdeaPad S540 11th Gen Intel Core i7 13.3\" QHD IPS Thin & Light Laptop (16GB/512GB SSD/Windows 10/MS Office 2019/Intel Iris Xe Graphics/Iron Grey/1.28Kg), 82H1002CIN',\n",
       " 'ASUS ROG G703GI-E5148T 17.3\" (43.94 cms) FHD 144Hz/3ms Gaming Laptop (8th Gen Intel Core i9-8950HK/64GB/2TB SSHD + 1.5TB NVMe SSD/Windows 10/GTX 1080 8GB Graphics/4.70 Kg), Aluminum',\n",
       " 'ASUS TUF Dash F15 (2021), 15.6-inch (39.62 cms) FHD 144Hz, Intel Core i7-11370H 11th Gen, RTX 3050 4GB Graphics Gaming Laptop (16GB RAM/512GB SSD/Windows 10/White/2 kg), FX516PC-HN062T',\n",
       " 'HP Pavilion 13(2021) 11th Gen Intel Core i7 Laptop, 16GB RAM, 1TB SSD, 13.3-inch(33.8 cm) FHD Screen, Win 10, MS Office, Ceramic White, 1.24 Kg (13-bb0078TU)',\n",
       " 'Fujitsu UH-X 11th Gen Intel Core i7 13.3” (33.78cm) FHD IPS 400Nits 2-in1 Touch Convertible Laptop (16GB/1TB SSD/Win10/Office/Iris Xe Graphics/Backlit Kb/Black/997gms), 4ZR1D71993',\n",
       " 'MSI GF75 Thin, Intel i7-10750H, 17.3\" (43.9 cm) FHD IPS-Level 144Hz Panel Laptop (8GB/512GB NVMe SSD/Windows 10 Home/Nvidia GTX1650 4GB GDDR6/Black/2.2Kg), 10SCXR-654IN',\n",
       " 'Lenovo IdeaPad Flex 5 11th Gen Intel Core i7 14\"(35.56cm) FHD IPS 2-in-1 Touchscreen Laptop(16GB/512GB SSD/Windows 10/MS Office/Lenovo Digital Pen/Fingerprint Reader/Graphite Grey/1.5Kg), 82HS0092IN']"
      ]
     },
     "execution_count": 471,
     "metadata": {},
     "output_type": "execute_result"
    }
   ],
   "source": [
    "title=[]\n",
    "for i in product_title:\n",
    "    title.append(i.text)\n",
    "title"
   ]
  },
  {
   "cell_type": "code",
   "execution_count": 472,
   "metadata": {},
   "outputs": [
    {
     "data": {
      "text/plain": [
       "[<selenium.webdriver.remote.webelement.WebElement (session=\"745e0f00773ec9e095856b44d83c498d\", element=\"00535ece-ef93-4ec9-a3c1-299ac3f8d3ed\")>,\n",
       " <selenium.webdriver.remote.webelement.WebElement (session=\"745e0f00773ec9e095856b44d83c498d\", element=\"181ce170-ba28-4b19-b65d-5ea0fcbedc2f\")>,\n",
       " <selenium.webdriver.remote.webelement.WebElement (session=\"745e0f00773ec9e095856b44d83c498d\", element=\"eca82adb-7bcf-4845-9bf0-c9b7138f10e9\")>,\n",
       " <selenium.webdriver.remote.webelement.WebElement (session=\"745e0f00773ec9e095856b44d83c498d\", element=\"b3d07129-ebf1-4e2b-86b4-c26d79d67e49\")>,\n",
       " <selenium.webdriver.remote.webelement.WebElement (session=\"745e0f00773ec9e095856b44d83c498d\", element=\"84a48589-af03-41b5-a66d-0de0c09d5095\")>,\n",
       " <selenium.webdriver.remote.webelement.WebElement (session=\"745e0f00773ec9e095856b44d83c498d\", element=\"6adbd03e-9a62-4893-9ed0-5ed765d31756\")>,\n",
       " <selenium.webdriver.remote.webelement.WebElement (session=\"745e0f00773ec9e095856b44d83c498d\", element=\"a2b360d2-0866-427a-a406-22f413d6d4f0\")>,\n",
       " <selenium.webdriver.remote.webelement.WebElement (session=\"745e0f00773ec9e095856b44d83c498d\", element=\"3e8f3545-2164-418c-8f82-ac4fd6909571\")>,\n",
       " <selenium.webdriver.remote.webelement.WebElement (session=\"745e0f00773ec9e095856b44d83c498d\", element=\"cea35f9a-0e97-4a60-9494-32d1f65e4e52\")>,\n",
       " <selenium.webdriver.remote.webelement.WebElement (session=\"745e0f00773ec9e095856b44d83c498d\", element=\"6d812b80-b8dc-40cc-a441-9505075577ce\")>]"
      ]
     },
     "execution_count": 472,
     "metadata": {},
     "output_type": "execute_result"
    }
   ],
   "source": [
    "rate=driver.find_elements_by_xpath(\"//span[@class='a-size-base']\")[:10]\n",
    "rate"
   ]
  },
  {
   "cell_type": "code",
   "execution_count": 473,
   "metadata": {},
   "outputs": [
    {
     "data": {
      "text/plain": [
       "['231', '34', '817', '101', '30', '4', '29', '20', '66', '3']"
      ]
     },
     "execution_count": 473,
     "metadata": {},
     "output_type": "execute_result"
    }
   ],
   "source": [
    "ratings=[]\n",
    "for i in rate:\n",
    "    ratings.append(i.text)\n",
    "ratings"
   ]
  },
  {
   "cell_type": "code",
   "execution_count": 474,
   "metadata": {},
   "outputs": [
    {
     "data": {
      "text/plain": [
       "[<selenium.webdriver.remote.webelement.WebElement (session=\"745e0f00773ec9e095856b44d83c498d\", element=\"aed7eaa0-f8c7-4ec3-acaf-621105dc7411\")>,\n",
       " <selenium.webdriver.remote.webelement.WebElement (session=\"745e0f00773ec9e095856b44d83c498d\", element=\"4eb2d30f-d4bc-4d18-afc1-305f9518b0d2\")>,\n",
       " <selenium.webdriver.remote.webelement.WebElement (session=\"745e0f00773ec9e095856b44d83c498d\", element=\"75fd1e4e-22e1-4a73-97f4-ec2c528308f7\")>,\n",
       " <selenium.webdriver.remote.webelement.WebElement (session=\"745e0f00773ec9e095856b44d83c498d\", element=\"3834aa59-328a-4da9-b5d5-456275c75f85\")>,\n",
       " <selenium.webdriver.remote.webelement.WebElement (session=\"745e0f00773ec9e095856b44d83c498d\", element=\"a0112cdd-a3f8-472f-8ec5-aa9e6a294849\")>,\n",
       " <selenium.webdriver.remote.webelement.WebElement (session=\"745e0f00773ec9e095856b44d83c498d\", element=\"ec85d850-7427-4775-98fc-6a0a69d69412\")>,\n",
       " <selenium.webdriver.remote.webelement.WebElement (session=\"745e0f00773ec9e095856b44d83c498d\", element=\"40ef8f52-4f23-4ebb-a672-b52f0edcc17e\")>,\n",
       " <selenium.webdriver.remote.webelement.WebElement (session=\"745e0f00773ec9e095856b44d83c498d\", element=\"6b8233db-6ec4-4042-9161-97d411bd23df\")>,\n",
       " <selenium.webdriver.remote.webelement.WebElement (session=\"745e0f00773ec9e095856b44d83c498d\", element=\"55ee70a8-0a0b-4b3d-9452-20390ccef03b\")>,\n",
       " <selenium.webdriver.remote.webelement.WebElement (session=\"745e0f00773ec9e095856b44d83c498d\", element=\"43aab31c-e5e1-4c59-8b9b-d0585827baa9\")>]"
      ]
     },
     "execution_count": 474,
     "metadata": {},
     "output_type": "execute_result"
    }
   ],
   "source": [
    "cost=driver.find_elements_by_xpath(\"//span[@class='a-price-whole']\")[:10]\n",
    "cost"
   ]
  },
  {
   "cell_type": "code",
   "execution_count": 475,
   "metadata": {},
   "outputs": [
    {
     "data": {
      "text/plain": [
       "['1,23,350',\n",
       " '94,999',\n",
       " '57,990',\n",
       " '77,990',\n",
       " '5,56,524',\n",
       " '85,990',\n",
       " '92,990',\n",
       " '1,07,990',\n",
       " '74,990',\n",
       " '98,500']"
      ]
     },
     "execution_count": 475,
     "metadata": {},
     "output_type": "execute_result"
    }
   ],
   "source": [
    "price=[]\n",
    "for i in cost:\n",
    "    price.append(i.text)\n",
    "price"
   ]
  },
  {
   "cell_type": "code",
   "execution_count": 476,
   "metadata": {},
   "outputs": [
    {
     "name": "stdout",
     "output_type": "stream",
     "text": [
      "10 10 10\n"
     ]
    }
   ],
   "source": [
    "print(len(title), len(ratings), len(price))"
   ]
  },
  {
   "cell_type": "code",
   "execution_count": 477,
   "metadata": {},
   "outputs": [
    {
     "data": {
      "text/html": [
       "<div>\n",
       "<style scoped>\n",
       "    .dataframe tbody tr th:only-of-type {\n",
       "        vertical-align: middle;\n",
       "    }\n",
       "\n",
       "    .dataframe tbody tr th {\n",
       "        vertical-align: top;\n",
       "    }\n",
       "\n",
       "    .dataframe thead th {\n",
       "        text-align: right;\n",
       "    }\n",
       "</style>\n",
       "<table border=\"1\" class=\"dataframe\">\n",
       "  <thead>\n",
       "    <tr style=\"text-align: right;\">\n",
       "      <th></th>\n",
       "      <th>title</th>\n",
       "      <th>Ratings</th>\n",
       "      <th>Price</th>\n",
       "    </tr>\n",
       "  </thead>\n",
       "  <tbody>\n",
       "    <tr>\n",
       "      <th>0</th>\n",
       "      <td>HP Envy 11th Gen Core i7 Processor 13.3-inch (...</td>\n",
       "      <td>231</td>\n",
       "      <td>1,23,350</td>\n",
       "    </tr>\n",
       "    <tr>\n",
       "      <th>1</th>\n",
       "      <td>Acer Swift 5 14\" (35.56cms) Full HD IPS Displa...</td>\n",
       "      <td>34</td>\n",
       "      <td>94,999</td>\n",
       "    </tr>\n",
       "    <tr>\n",
       "      <th>2</th>\n",
       "      <td>Mi Notebook Horizon Edition 14 Intel Core i7-1...</td>\n",
       "      <td>817</td>\n",
       "      <td>57,990</td>\n",
       "    </tr>\n",
       "    <tr>\n",
       "      <th>3</th>\n",
       "      <td>Lenovo IdeaPad S540 11th Gen Intel Core i7 13....</td>\n",
       "      <td>101</td>\n",
       "      <td>77,990</td>\n",
       "    </tr>\n",
       "    <tr>\n",
       "      <th>4</th>\n",
       "      <td>ASUS ROG G703GI-E5148T 17.3\" (43.94 cms) FHD 1...</td>\n",
       "      <td>30</td>\n",
       "      <td>5,56,524</td>\n",
       "    </tr>\n",
       "    <tr>\n",
       "      <th>5</th>\n",
       "      <td>ASUS TUF Dash F15 (2021), 15.6-inch (39.62 cms...</td>\n",
       "      <td>4</td>\n",
       "      <td>85,990</td>\n",
       "    </tr>\n",
       "    <tr>\n",
       "      <th>6</th>\n",
       "      <td>HP Pavilion 13(2021) 11th Gen Intel Core i7 La...</td>\n",
       "      <td>29</td>\n",
       "      <td>92,990</td>\n",
       "    </tr>\n",
       "    <tr>\n",
       "      <th>7</th>\n",
       "      <td>Fujitsu UH-X 11th Gen Intel Core i7 13.3” (33....</td>\n",
       "      <td>20</td>\n",
       "      <td>1,07,990</td>\n",
       "    </tr>\n",
       "    <tr>\n",
       "      <th>8</th>\n",
       "      <td>MSI GF75 Thin, Intel i7-10750H, 17.3\" (43.9 cm...</td>\n",
       "      <td>66</td>\n",
       "      <td>74,990</td>\n",
       "    </tr>\n",
       "    <tr>\n",
       "      <th>9</th>\n",
       "      <td>Lenovo IdeaPad Flex 5 11th Gen Intel Core i7 1...</td>\n",
       "      <td>3</td>\n",
       "      <td>98,500</td>\n",
       "    </tr>\n",
       "  </tbody>\n",
       "</table>\n",
       "</div>"
      ],
      "text/plain": [
       "                                               title Ratings     Price\n",
       "0  HP Envy 11th Gen Core i7 Processor 13.3-inch (...     231  1,23,350\n",
       "1  Acer Swift 5 14\" (35.56cms) Full HD IPS Displa...      34    94,999\n",
       "2  Mi Notebook Horizon Edition 14 Intel Core i7-1...     817    57,990\n",
       "3  Lenovo IdeaPad S540 11th Gen Intel Core i7 13....     101    77,990\n",
       "4  ASUS ROG G703GI-E5148T 17.3\" (43.94 cms) FHD 1...      30  5,56,524\n",
       "5  ASUS TUF Dash F15 (2021), 15.6-inch (39.62 cms...       4    85,990\n",
       "6  HP Pavilion 13(2021) 11th Gen Intel Core i7 La...      29    92,990\n",
       "7  Fujitsu UH-X 11th Gen Intel Core i7 13.3” (33....      20  1,07,990\n",
       "8  MSI GF75 Thin, Intel i7-10750H, 17.3\" (43.9 cm...      66    74,990\n",
       "9  Lenovo IdeaPad Flex 5 11th Gen Intel Core i7 1...       3    98,500"
      ]
     },
     "execution_count": 477,
     "metadata": {},
     "output_type": "execute_result"
    }
   ],
   "source": [
    "Laptops=pd.DataFrame({})\n",
    "Laptops['title']=title\n",
    "Laptops['Ratings']=ratings\n",
    "Laptops['Price']=price\n",
    "Laptops"
   ]
  },
  {
   "cell_type": "code",
   "execution_count": null,
   "metadata": {},
   "outputs": [],
   "source": []
  }
 ],
 "metadata": {
  "kernelspec": {
   "display_name": "Python 3",
   "language": "python",
   "name": "python3"
  },
  "language_info": {
   "codemirror_mode": {
    "name": "ipython",
    "version": 3
   },
   "file_extension": ".py",
   "mimetype": "text/x-python",
   "name": "python",
   "nbconvert_exporter": "python",
   "pygments_lexer": "ipython3",
   "version": "3.8.5"
  }
 },
 "nbformat": 4,
 "nbformat_minor": 4
}
